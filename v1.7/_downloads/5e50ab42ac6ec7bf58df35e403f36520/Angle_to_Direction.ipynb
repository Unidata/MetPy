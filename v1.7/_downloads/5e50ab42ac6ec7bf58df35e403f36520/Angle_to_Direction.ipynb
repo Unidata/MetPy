{
  "cells": [
    {
      "cell_type": "markdown",
      "metadata": {},
      "source": [
        "\n# Angle to Direction\n\nDemonstrate how to convert angles to direction strings.\n\nThe code below shows how to convert angles into directional text.\nIt also  demonstrates the function's flexibility.\n"
      ]
    },
    {
      "cell_type": "code",
      "execution_count": null,
      "metadata": {
        "collapsed": false
      },
      "outputs": [],
      "source": [
        "import metpy.calc as mpcalc\nfrom metpy.units import units"
      ]
    },
    {
      "cell_type": "markdown",
      "metadata": {},
      "source": [
        "Create a test value of an angle\n\n"
      ]
    },
    {
      "cell_type": "code",
      "execution_count": null,
      "metadata": {
        "collapsed": false
      },
      "outputs": [],
      "source": [
        "angle_deg = 70 * units('degree')\nprint(angle_deg)"
      ]
    },
    {
      "cell_type": "markdown",
      "metadata": {},
      "source": [
        "Now throw that angle into the function to\nget the corresponding direction\n\n"
      ]
    },
    {
      "cell_type": "code",
      "execution_count": null,
      "metadata": {
        "collapsed": false
      },
      "outputs": [],
      "source": [
        "dir_str = mpcalc.angle_to_direction(angle_deg)\nprint(dir_str)"
      ]
    },
    {
      "cell_type": "markdown",
      "metadata": {},
      "source": [
        "The function can also handle array of angles,\nrounding to the nearest direction, handling angles > 360,\nand defaulting to degrees if no units are specified.\n\n"
      ]
    },
    {
      "cell_type": "code",
      "execution_count": null,
      "metadata": {
        "collapsed": false
      },
      "outputs": [],
      "source": [
        "angle_deg_list = [0, 361, 719]\ndir_str_list = mpcalc.angle_to_direction(angle_deg_list)\nprint(dir_str_list)"
      ]
    },
    {
      "cell_type": "markdown",
      "metadata": {},
      "source": [
        "If you want the unabbrieviated version, input full=True\n\n"
      ]
    },
    {
      "cell_type": "code",
      "execution_count": null,
      "metadata": {
        "collapsed": false
      },
      "outputs": [],
      "source": [
        "full_dir_str_list = mpcalc.angle_to_direction(angle_deg_list, full=True)\nprint(full_dir_str_list)"
      ]
    }
  ],
  "metadata": {
    "kernelspec": {
      "display_name": "Python 3",
      "language": "python",
      "name": "python3"
    },
    "language_info": {
      "codemirror_mode": {
        "name": "ipython",
        "version": 3
      },
      "file_extension": ".py",
      "mimetype": "text/x-python",
      "name": "python",
      "nbconvert_exporter": "python",
      "pygments_lexer": "ipython3",
      "version": "3.13.3"
    }
  },
  "nbformat": 4,
  "nbformat_minor": 0
}
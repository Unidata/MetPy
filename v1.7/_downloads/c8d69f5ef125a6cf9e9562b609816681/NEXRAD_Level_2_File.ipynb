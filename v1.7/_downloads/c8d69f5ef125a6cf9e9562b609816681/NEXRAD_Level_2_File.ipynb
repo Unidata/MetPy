{
  "cells": [
    {
      "cell_type": "markdown",
      "metadata": {},
      "source": [
        "\n# NEXRAD Level 2 File\n\nUse MetPy to read information from a NEXRAD Level 2 (volume) file and plot\n"
      ]
    },
    {
      "cell_type": "code",
      "execution_count": null,
      "metadata": {
        "collapsed": false
      },
      "outputs": [],
      "source": [
        "import cartopy.crs as ccrs\nimport matplotlib.gridspec as gridspec\nimport matplotlib.pyplot as plt\nimport numpy as np\n\nfrom metpy.calc import azimuth_range_to_lat_lon\nfrom metpy.cbook import get_test_data\nfrom metpy.io import Level2File\nfrom metpy.plots import add_metpy_logo, add_timestamp, USCOUNTIES\nfrom metpy.units import units"
      ]
    },
    {
      "cell_type": "markdown",
      "metadata": {},
      "source": [
        "Open the file\n\n"
      ]
    },
    {
      "cell_type": "code",
      "execution_count": null,
      "metadata": {
        "collapsed": false
      },
      "outputs": [],
      "source": [
        "name = get_test_data('KTLX20130520_201643_V06.gz', as_file_obj=False)\nf = Level2File(name)\n\nprint(f.sweeps[0][0])"
      ]
    },
    {
      "cell_type": "code",
      "execution_count": null,
      "metadata": {
        "collapsed": false
      },
      "outputs": [],
      "source": [
        "# Pull data out of the file\nsweep = 0\n\n# First item in ray is header, which has azimuth angle\naz = np.array([ray[0].az_angle for ray in f.sweeps[sweep]])"
      ]
    },
    {
      "cell_type": "markdown",
      "metadata": {},
      "source": [
        "We need to take the single azimuth (nominally a mid-point) we get in the data and\nconvert it to be the azimuth of the boundary between rays of data, taking care to handle\nwhere the azimuth crosses from 0 to 360.\n\n"
      ]
    },
    {
      "cell_type": "code",
      "execution_count": null,
      "metadata": {
        "collapsed": false
      },
      "outputs": [],
      "source": [
        "diff = np.diff(az)\ncrossed = diff < -180\ndiff[crossed] += 360.\navg_spacing = diff.mean()\n\n# Convert mid-point to edge\naz = (az[:-1] + az[1:]) / 2\naz[crossed] += 180.\n\n# Concatenate with overall start and end of data we calculate using the average spacing\naz = np.concatenate(([az[0] - avg_spacing], az, [az[-1] + avg_spacing]))\naz = units.Quantity(az, 'degrees')"
      ]
    },
    {
      "cell_type": "markdown",
      "metadata": {},
      "source": [
        "Calculate ranges for the gates from the metadata\n\n"
      ]
    },
    {
      "cell_type": "code",
      "execution_count": null,
      "metadata": {
        "collapsed": false
      },
      "outputs": [],
      "source": [
        "# 5th item is a dict mapping a var name (byte string) to a tuple\n# of (header, data array)\nref_hdr = f.sweeps[sweep][0][4][b'REF'][0]\nref_range = (np.arange(ref_hdr.num_gates + 1) - 0.5) * ref_hdr.gate_width + ref_hdr.first_gate\nref_range = units.Quantity(ref_range, 'kilometers')\nref = np.array([ray[4][b'REF'][1] for ray in f.sweeps[sweep]])\n\nrho_hdr = f.sweeps[sweep][0][4][b'RHO'][0]\nrho_range = (np.arange(rho_hdr.num_gates + 1) - 0.5) * rho_hdr.gate_width + rho_hdr.first_gate\nrho_range = units.Quantity(rho_range, 'kilometers')\nrho = np.array([ray[4][b'RHO'][1] for ray in f.sweeps[sweep]])\n\n# Extract central longitude and latitude from file\ncent_lon = f.sweeps[0][0][1].lon\ncent_lat = f.sweeps[0][0][1].lat"
      ]
    },
    {
      "cell_type": "code",
      "execution_count": null,
      "metadata": {
        "collapsed": false
      },
      "outputs": [],
      "source": [
        "spec = gridspec.GridSpec(1, 2)\nfig = plt.figure(figsize=(15, 8))\nadd_metpy_logo(fig, 190, 85, size='large')\n\nfor var_data, var_range, ax_rect in zip((ref, rho), (ref_range, rho_range), spec,\n                                        strict=False):\n    # Turn into an array, then mask\n    data = np.ma.array(var_data)\n    data[np.isnan(data)] = np.ma.masked\n\n    # Convert az,range to x,y\n    xlocs, ylocs = azimuth_range_to_lat_lon(az, var_range, cent_lon, cent_lat)\n\n    # Plot the data\n    crs = ccrs.LambertConformal(central_longitude=cent_lon, central_latitude=cent_lat)\n    ax = fig.add_subplot(ax_rect, projection=crs)\n    ax.add_feature(USCOUNTIES, linewidth=0.5)\n    ax.pcolormesh(xlocs, ylocs, data, cmap='viridis', transform=ccrs.PlateCarree())\n    ax.set_extent([cent_lon - 0.5, cent_lon + 0.5, cent_lat - 0.5, cent_lat + 0.5])\n    ax.set_aspect('equal', 'datalim')\n    add_timestamp(ax, f.dt, y=0.02, high_contrast=True)\n\nplt.show()"
      ]
    }
  ],
  "metadata": {
    "kernelspec": {
      "display_name": "Python 3",
      "language": "python",
      "name": "python3"
    },
    "language_info": {
      "codemirror_mode": {
        "name": "ipython",
        "version": 3
      },
      "file_extension": ".py",
      "mimetype": "text/x-python",
      "name": "python",
      "nbconvert_exporter": "python",
      "pygments_lexer": "ipython3",
      "version": "3.13.3"
    }
  },
  "nbformat": 4,
  "nbformat_minor": 0
}
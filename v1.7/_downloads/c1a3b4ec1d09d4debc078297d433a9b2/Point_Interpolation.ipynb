{
  "cells": [
    {
      "cell_type": "markdown",
      "metadata": {},
      "source": [
        "\n# Point Interpolation\n\nCompares different point interpolation approaches.\n"
      ]
    },
    {
      "cell_type": "code",
      "execution_count": null,
      "metadata": {
        "collapsed": false
      },
      "outputs": [],
      "source": [
        "import cartopy.crs as ccrs\nimport cartopy.feature as cfeature\nfrom matplotlib.colors import BoundaryNorm\nimport matplotlib.pyplot as plt\nimport numpy as np\n\nfrom metpy.cbook import get_test_data\nfrom metpy.interpolate import (interpolate_to_grid, remove_nan_observations,\n                               remove_repeat_coordinates)\nfrom metpy.plots import add_metpy_logo"
      ]
    },
    {
      "cell_type": "code",
      "execution_count": null,
      "metadata": {
        "collapsed": false
      },
      "outputs": [],
      "source": [
        "def basic_map(proj, title):\n    \"\"\"Make our basic default map for plotting\"\"\"\n    fig = plt.figure(figsize=(15, 10))\n    add_metpy_logo(fig, 0, 80, size='large')\n    view = fig.add_axes([0, 0, 1, 1], projection=proj)\n    view.set_title(title)\n    view.set_extent([-120, -70, 20, 50])\n    view.add_feature(cfeature.STATES.with_scale('50m'))\n    view.add_feature(cfeature.OCEAN)\n    view.add_feature(cfeature.COASTLINE)\n    view.add_feature(cfeature.BORDERS, linestyle=':')\n    return fig, view\n\n\ndef station_test_data(variable_names, proj_from=None, proj_to=None):\n    with get_test_data('station_data.txt') as f:\n        all_data = np.loadtxt(f, skiprows=1, delimiter=',',\n                              usecols=(1, 2, 3, 4, 5, 6, 7, 17, 18, 19),\n                              dtype=np.dtype([('stid', '3S'), ('lat', 'f'), ('lon', 'f'),\n                                              ('slp', 'f'), ('air_temperature', 'f'),\n                                              ('cloud_fraction', 'f'), ('dewpoint', 'f'),\n                                              ('weather', '16S'),\n                                              ('wind_dir', 'f'), ('wind_speed', 'f')]))\n\n    all_stids = [s.decode('ascii') for s in all_data['stid']]\n\n    data = np.concatenate([all_data[all_stids.index(site)].reshape(1, ) for site in all_stids])\n\n    value = data[variable_names]\n    lon = data['lon']\n    lat = data['lat']\n\n    if proj_from is not None and proj_to is not None:\n        proj_points = proj_to.transform_points(proj_from, lon, lat)\n        return proj_points[:, 0], proj_points[:, 1], value\n\n    return lon, lat, value\n\n\nfrom_proj = ccrs.Geodetic()\nto_proj = ccrs.AlbersEqualArea(central_longitude=-97.0000, central_latitude=38.0000)\n\nlevels = list(range(-20, 20, 1))\ncmap = plt.get_cmap('magma')\nnorm = BoundaryNorm(levels, ncolors=cmap.N, clip=True)\n\nx, y, temp = station_test_data('air_temperature', from_proj, to_proj)\n\nx, y, temp = remove_nan_observations(x, y, temp)\nx, y, temp = remove_repeat_coordinates(x, y, temp)"
      ]
    },
    {
      "cell_type": "markdown",
      "metadata": {},
      "source": [
        "## Scipy.interpolate linear\n\n"
      ]
    },
    {
      "cell_type": "code",
      "execution_count": null,
      "metadata": {
        "collapsed": false
      },
      "outputs": [],
      "source": [
        "gx, gy, img = interpolate_to_grid(x, y, temp, interp_type='linear', hres=75000)\nimg = np.ma.masked_where(np.isnan(img), img)\nfig, view = basic_map(to_proj, 'Linear')\nmmb = view.pcolormesh(gx, gy, img, cmap=cmap, norm=norm)\nfig.colorbar(mmb, shrink=.4, pad=0, boundaries=levels)"
      ]
    },
    {
      "cell_type": "markdown",
      "metadata": {},
      "source": [
        "## Natural neighbor interpolation (MetPy implementation)\n[Reference](https://cwp.mines.edu/wp-content/uploads/sites/112/2018/09/cwp-657.pdf)\n\n"
      ]
    },
    {
      "cell_type": "code",
      "execution_count": null,
      "metadata": {
        "collapsed": false
      },
      "outputs": [],
      "source": [
        "gx, gy, img = interpolate_to_grid(x, y, temp, interp_type='natural_neighbor', hres=75000)\nimg = np.ma.masked_where(np.isnan(img), img)\nfig, view = basic_map(to_proj, 'Natural Neighbor')\nmmb = view.pcolormesh(gx, gy, img, cmap=cmap, norm=norm)\nfig.colorbar(mmb, shrink=.4, pad=0, boundaries=levels)"
      ]
    },
    {
      "cell_type": "markdown",
      "metadata": {},
      "source": [
        "## Cressman interpolation\nsearch_radius = 100 km\n\ngrid resolution = 75 km\n\nmin_neighbors = 1\n\n"
      ]
    },
    {
      "cell_type": "code",
      "execution_count": null,
      "metadata": {
        "collapsed": false
      },
      "outputs": [],
      "source": [
        "gx, gy, img = interpolate_to_grid(x, y, temp, interp_type='cressman', minimum_neighbors=1,\n                                  hres=75000, search_radius=100000)\nimg = np.ma.masked_where(np.isnan(img), img)\nfig, view = basic_map(to_proj, 'Cressman')\nmmb = view.pcolormesh(gx, gy, img, cmap=cmap, norm=norm)\nfig.colorbar(mmb, shrink=.4, pad=0, boundaries=levels)"
      ]
    },
    {
      "cell_type": "markdown",
      "metadata": {},
      "source": [
        "## Barnes Interpolation\nsearch_radius = 100km\n\nmin_neighbors = 3\n\n"
      ]
    },
    {
      "cell_type": "code",
      "execution_count": null,
      "metadata": {
        "collapsed": false
      },
      "outputs": [],
      "source": [
        "gx, gy, img1 = interpolate_to_grid(x, y, temp, interp_type='barnes', hres=75000,\n                                   search_radius=100000)\nimg1 = np.ma.masked_where(np.isnan(img1), img1)\nfig, view = basic_map(to_proj, 'Barnes')\nmmb = view.pcolormesh(gx, gy, img1, cmap=cmap, norm=norm)\nfig.colorbar(mmb, shrink=.4, pad=0, boundaries=levels)"
      ]
    },
    {
      "cell_type": "markdown",
      "metadata": {},
      "source": [
        "## Radial basis function interpolation\nlinear\n\n"
      ]
    },
    {
      "cell_type": "code",
      "execution_count": null,
      "metadata": {
        "collapsed": false
      },
      "outputs": [],
      "source": [
        "gx, gy, img = interpolate_to_grid(x, y, temp, interp_type='rbf', hres=75000, rbf_func='linear',\n                                  rbf_smooth=0)\nimg = np.ma.masked_where(np.isnan(img), img)\nfig, view = basic_map(to_proj, 'Radial Basis Function')\nmmb = view.pcolormesh(gx, gy, img, cmap=cmap, norm=norm)\nfig.colorbar(mmb, shrink=.4, pad=0, boundaries=levels)\n\nplt.show()"
      ]
    }
  ],
  "metadata": {
    "kernelspec": {
      "display_name": "Python 3",
      "language": "python",
      "name": "python3"
    },
    "language_info": {
      "codemirror_mode": {
        "name": "ipython",
        "version": 3
      },
      "file_extension": ".py",
      "mimetype": "text/x-python",
      "name": "python",
      "nbconvert_exporter": "python",
      "pygments_lexer": "ipython3",
      "version": "3.13.3"
    }
  },
  "nbformat": 4,
  "nbformat_minor": 0
}
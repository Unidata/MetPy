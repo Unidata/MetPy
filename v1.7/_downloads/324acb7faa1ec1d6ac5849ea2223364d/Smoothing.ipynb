{
  "cells": [
    {
      "cell_type": "markdown",
      "metadata": {},
      "source": [
        "\n# Smoothing\n\nUsing MetPy's smoothing functions.\n\nThis example demonstrates the various ways that MetPy's smoothing function\ncan be utilized. While this example utilizes basic NumPy arrays, these\nfunctions all work equally well with Pint Quantities or xarray DataArrays.\n"
      ]
    },
    {
      "cell_type": "code",
      "execution_count": null,
      "metadata": {
        "collapsed": false
      },
      "outputs": [],
      "source": [
        "from itertools import product\n\nimport matplotlib.pyplot as plt\nimport numpy as np\n\nimport metpy.calc as mpcalc"
      ]
    },
    {
      "cell_type": "markdown",
      "metadata": {},
      "source": [
        "Start with a base pattern with random noise\n\n"
      ]
    },
    {
      "cell_type": "code",
      "execution_count": null,
      "metadata": {
        "collapsed": false
      },
      "outputs": [],
      "source": [
        "rng = np.random.default_rng(61461542)\nsize = 128\nx, y = np.mgrid[:size, :size]\ndistance = np.sqrt((x - size / 2) ** 2 + (y - size / 2) ** 2)\nraw_data = rng.random((size, size)) * 0.3 + distance / distance.max() * 0.7\n\nfig, ax = plt.subplots(1, 1, figsize=(4, 4))\nax.set_title('Raw Data')\nax.imshow(raw_data, vmin=0, vmax=1)\nax.axis('off')\nplt.show()"
      ]
    },
    {
      "cell_type": "markdown",
      "metadata": {},
      "source": [
        "Now, create a grid showing different smoothing options\n\n"
      ]
    },
    {
      "cell_type": "code",
      "execution_count": null,
      "metadata": {
        "collapsed": false
      },
      "outputs": [],
      "source": [
        "fig, ax = plt.subplots(3, 3, figsize=(12, 12))\nfor i, j in product(range(3), range(3)):\n    ax[i, j].axis('off')\n\n# Gaussian Smoother\nax[0, 0].imshow(mpcalc.smooth_gaussian(raw_data, 3), vmin=0, vmax=1)\nax[0, 0].set_title('Gaussian - Low Degree')\n\nax[0, 1].imshow(mpcalc.smooth_gaussian(raw_data, 8), vmin=0, vmax=1)\nax[0, 1].set_title('Gaussian - High Degree')\n\n# Rectangular Smoother\nax[0, 2].imshow(mpcalc.smooth_rectangular(raw_data, (3, 7), 2), vmin=0, vmax=1)\nax[0, 2].set_title('Rectangular - 3x7 Window\\n2 Passes')\n\n# 5-point smoother\nax[1, 0].imshow(mpcalc.smooth_n_point(raw_data, 5, 1), vmin=0, vmax=1)\nax[1, 0].set_title('5-Point - 1 Pass')\n\nax[1, 1].imshow(mpcalc.smooth_n_point(raw_data, 5, 4), vmin=0, vmax=1)\nax[1, 1].set_title('5-Point - 4 Passes')\n\n# Circular Smoother\nax[1, 2].imshow(mpcalc.smooth_circular(raw_data, 2, 2), vmin=0, vmax=1)\nax[1, 2].set_title('Circular - Radius 2\\n2 Passes')\n\n# 9-point smoother\nax[2, 0].imshow(mpcalc.smooth_n_point(raw_data, 9, 1), vmin=0, vmax=1)\nax[2, 0].set_title('9-Point - 1 Pass')\n\nax[2, 1].imshow(mpcalc.smooth_n_point(raw_data, 9, 4), vmin=0, vmax=1)\nax[2, 1].set_title('9-Point - 4 Passes')\n\n# Arbitrary Window Smoother\nax[2, 2].imshow(mpcalc.smooth_window(raw_data, np.diag(np.ones(5)), 2), vmin=0, vmax=1)\nax[2, 2].set_title('Custom Window (Diagonal) \\n2 Passes')\n\nplt.show()"
      ]
    }
  ],
  "metadata": {
    "kernelspec": {
      "display_name": "Python 3",
      "language": "python",
      "name": "python3"
    },
    "language_info": {
      "codemirror_mode": {
        "name": "ipython",
        "version": 3
      },
      "file_extension": ".py",
      "mimetype": "text/x-python",
      "name": "python",
      "nbconvert_exporter": "python",
      "pygments_lexer": "ipython3",
      "version": "3.13.3"
    }
  },
  "nbformat": 4,
  "nbformat_minor": 0
}
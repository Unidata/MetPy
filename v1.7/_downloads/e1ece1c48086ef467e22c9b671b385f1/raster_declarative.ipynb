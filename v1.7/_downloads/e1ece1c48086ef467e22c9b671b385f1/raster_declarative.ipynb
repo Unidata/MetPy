{
  "cells": [
    {
      "cell_type": "markdown",
      "metadata": {},
      "source": [
        "\n# Raster Plots using Declarative Syntax\n\nThe MetPy declarative syntax allows for a simplified interface to creating common\nmeteorological analyses including surface observation plots. This example creates\na temperature raster plot, though other potential raster plots include radar.\n"
      ]
    },
    {
      "cell_type": "code",
      "execution_count": null,
      "metadata": {
        "collapsed": false
      },
      "outputs": [],
      "source": [
        "import xarray as xr\n\nfrom metpy.cbook import get_test_data\nfrom metpy.plots import MapPanel, PanelContainer, RasterPlot\nfrom metpy.units import units"
      ]
    },
    {
      "cell_type": "markdown",
      "metadata": {},
      "source": [
        "Import the temperature data from the NARR file.\n\n"
      ]
    },
    {
      "cell_type": "code",
      "execution_count": null,
      "metadata": {
        "collapsed": false
      },
      "outputs": [],
      "source": [
        "narr_data = xr.open_dataset(get_test_data('narr_example.nc', as_file_obj=False))"
      ]
    },
    {
      "cell_type": "markdown",
      "metadata": {},
      "source": [
        "Preview the data:\n\n"
      ]
    },
    {
      "cell_type": "code",
      "execution_count": null,
      "metadata": {
        "collapsed": false
      },
      "outputs": [],
      "source": [
        "narr_data"
      ]
    },
    {
      "cell_type": "markdown",
      "metadata": {},
      "source": [
        "Create the 'RasterPlot' object and provide it with the NARR data. Specify the level to be\nplotted, and use the Data variables column to specify the data field to be plotted.\n\n"
      ]
    },
    {
      "cell_type": "code",
      "execution_count": null,
      "metadata": {
        "collapsed": false
      },
      "outputs": [],
      "source": [
        "raster = RasterPlot()\nraster.data = narr_data\nraster.field = 'Temperature'\nraster.level = 700 * units.hPa"
      ]
    },
    {
      "cell_type": "markdown",
      "metadata": {},
      "source": [
        "Add the plot to a Map Panel and Panel Container.\n\n"
      ]
    },
    {
      "cell_type": "code",
      "execution_count": null,
      "metadata": {
        "collapsed": false
      },
      "outputs": [],
      "source": [
        "panel = MapPanel()\npanel.area = 'us'\npanel.projection = 'lcc'\npanel.layers = ['coastline']\npanel.plots = [raster]\n\npc = PanelContainer()\npc.size = (8, 8)\npc.panels = [panel]\npc.draw()\n\npc.show()"
      ]
    }
  ],
  "metadata": {
    "kernelspec": {
      "display_name": "Python 3",
      "language": "python",
      "name": "python3"
    },
    "language_info": {
      "codemirror_mode": {
        "name": "ipython",
        "version": 3
      },
      "file_extension": ".py",
      "mimetype": "text/x-python",
      "name": "python",
      "nbconvert_exporter": "python",
      "pygments_lexer": "ipython3",
      "version": "3.13.3"
    }
  },
  "nbformat": 4,
  "nbformat_minor": 0
}
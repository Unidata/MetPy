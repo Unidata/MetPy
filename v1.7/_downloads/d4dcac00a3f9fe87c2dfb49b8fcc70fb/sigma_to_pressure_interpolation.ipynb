{
  "cells": [
    {
      "cell_type": "markdown",
      "metadata": {},
      "source": [
        "\n# Sigma to Pressure Interpolation\n\nBy using `metpy.calc.log_interp`, data with sigma as the vertical coordinate can be\ninterpolated to isobaric coordinates.\n"
      ]
    },
    {
      "cell_type": "code",
      "execution_count": null,
      "metadata": {
        "collapsed": false
      },
      "outputs": [],
      "source": [
        "import cartopy.crs as ccrs\nimport cartopy.feature as cfeature\nimport matplotlib.pyplot as plt\nfrom netCDF4 import Dataset, num2date\n\nfrom metpy.cbook import get_test_data\nfrom metpy.interpolate import log_interpolate_1d\nfrom metpy.plots import add_metpy_logo, add_timestamp\nfrom metpy.units import units"
      ]
    },
    {
      "cell_type": "markdown",
      "metadata": {},
      "source": [
        "**Data**\n\nThe data for this example comes from the outer domain of a WRF-ARW model forecast\ninitialized at 1200 UTC on 03 June 1980. Model data courtesy Matthew Wilson, Valparaiso\nUniversity Department of Geography and Meteorology.\n\n"
      ]
    },
    {
      "cell_type": "code",
      "execution_count": null,
      "metadata": {
        "collapsed": false
      },
      "outputs": [],
      "source": [
        "data = Dataset(get_test_data('wrf_example.nc', False))\nlat = data.variables['lat'][:]\nlon = data.variables['lon'][:]\ntime = data.variables['time']\nvtimes = num2date(time[:], time.units)\ntemperature = units.Quantity(data.variables['temperature'][:], 'degC')\npressure = units.Quantity(data.variables['pressure'][:], 'Pa')\nhgt = units.Quantity(data.variables['height'][:], 'meter')"
      ]
    },
    {
      "cell_type": "markdown",
      "metadata": {},
      "source": [
        "Array of desired pressure levels\n\n"
      ]
    },
    {
      "cell_type": "code",
      "execution_count": null,
      "metadata": {
        "collapsed": false
      },
      "outputs": [],
      "source": [
        "plevs = [700.] * units.hPa"
      ]
    },
    {
      "cell_type": "markdown",
      "metadata": {},
      "source": [
        "**Interpolate The Data**\n\nNow that the data is ready, we can interpolate to the new isobaric levels. The data is\ninterpolated from the irregular pressure values for each sigma level to the new input\nmandatory isobaric levels. `mpcalc.log_interp` will interpolate over a specified dimension\nwith the `axis` argument. In this case, `axis=1` will correspond to interpolation on the\nvertical axis. The interpolated data is output in a list, so we will pull out each\nvariable for plotting.\n\n"
      ]
    },
    {
      "cell_type": "code",
      "execution_count": null,
      "metadata": {
        "collapsed": false
      },
      "outputs": [],
      "source": [
        "height, temp = log_interpolate_1d(plevs, pressure, hgt, temperature, axis=1)"
      ]
    },
    {
      "cell_type": "markdown",
      "metadata": {},
      "source": [
        "**Plotting the Data for 700 hPa.**\n\n"
      ]
    },
    {
      "cell_type": "code",
      "execution_count": null,
      "metadata": {
        "collapsed": false
      },
      "outputs": [],
      "source": [
        "# Set up our projection\ncrs = ccrs.LambertConformal(central_longitude=-100.0, central_latitude=45.0)\n\n# Set the forecast hour\nFH = 1\n\n# Create the figure and grid for subplots\nfig = plt.figure(figsize=(17, 12))\nadd_metpy_logo(fig, 470, 320, size='large')\n\n# Plot 700 hPa\nax = plt.subplot(111, projection=crs)\nax.add_feature(cfeature.COASTLINE.with_scale('50m'), linewidth=0.75)\nax.add_feature(cfeature.STATES, linewidth=0.5)\n\n# Plot the heights\ncs = ax.contour(lon, lat, height[FH, 0, :, :], transform=ccrs.PlateCarree(),\n                colors='k', linewidths=1.0, linestyles='solid')\ncs.clabel(fontsize=10, inline=1, inline_spacing=7, fmt='%i', rightside_up=True,\n          use_clabeltext=True)\n\n# Contour the temperature\ncf = ax.contourf(lon, lat, temp[FH, 0, :, :], range(-20, 20, 1), cmap=plt.cm.RdBu_r,\n                 transform=ccrs.PlateCarree())\ncb = fig.colorbar(cf, orientation='horizontal', aspect=65, shrink=0.5, pad=0.05,\n                  extendrect='True')\ncb.set_label('Celsius', size='x-large')\n\nax.set_extent([-106.5, -90.4, 34.5, 46.75], crs=ccrs.PlateCarree())\n\n# Make the axis title\nax.set_title(f'{plevs[0]:~.0f} Heights (m) and Temperature (C)', loc='center', fontsize=10)\n\n# Set the figure title\nfig.suptitle(f'WRF-ARW Forecast VALID: {vtimes[FH]} UTC', fontsize=14)\nadd_timestamp(ax, vtimes[FH], y=0.02, high_contrast=True)\n\nplt.show()"
      ]
    }
  ],
  "metadata": {
    "kernelspec": {
      "display_name": "Python 3",
      "language": "python",
      "name": "python3"
    },
    "language_info": {
      "codemirror_mode": {
        "name": "ipython",
        "version": 3
      },
      "file_extension": ".py",
      "mimetype": "text/x-python",
      "name": "python",
      "nbconvert_exporter": "python",
      "pygments_lexer": "ipython3",
      "version": "3.13.3"
    }
  },
  "nbformat": 4,
  "nbformat_minor": 0
}
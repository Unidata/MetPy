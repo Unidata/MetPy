{
  "cells": [
    {
      "cell_type": "markdown",
      "metadata": {},
      "source": [
        "\n# High/Low Analysis\n\nThis uses MetPy's `find_peaks` function to automatically identify locations of high and low\ncenters, and then plots them on a map.\n"
      ]
    },
    {
      "cell_type": "code",
      "execution_count": null,
      "metadata": {
        "collapsed": false
      },
      "outputs": [],
      "source": [
        "import cartopy.crs as ccrs\nimport cartopy.feature as cfeature\nimport matplotlib.pyplot as plt\nimport xarray as xr\n\nfrom metpy.calc import find_peaks\nfrom metpy.cbook import get_test_data\nfrom metpy.plots import add_metpy_logo, scattertext\nfrom metpy.units import units"
      ]
    },
    {
      "cell_type": "markdown",
      "metadata": {},
      "source": [
        "Start by loading some data from our sample GFS model dataset. Pull out the geopotential\nheights field for the 850 hPa layer, as well as grab the projection metadata.\n\n"
      ]
    },
    {
      "cell_type": "code",
      "execution_count": null,
      "metadata": {
        "collapsed": false
      },
      "outputs": [],
      "source": [
        "data = xr.open_dataset(get_test_data('GFS_test.nc', as_file_obj=False)).metpy.parse_cf()\nmslp = data.Geopotential_height_isobaric.metpy.sel(vertical=850 * units.hPa).squeeze()\ndataproj = mslp.metpy.cartopy_crs"
      ]
    },
    {
      "cell_type": "markdown",
      "metadata": {},
      "source": [
        "Here we use `find_peaks` to find the locations of the highs and then the lows\n\n"
      ]
    },
    {
      "cell_type": "code",
      "execution_count": null,
      "metadata": {
        "collapsed": false
      },
      "outputs": [],
      "source": [
        "h_y, h_x = find_peaks(mslp.values)\nl_y, l_x = find_peaks(mslp.values, maxima=False)"
      ]
    },
    {
      "cell_type": "markdown",
      "metadata": {},
      "source": [
        "Plot the analyzed locations on top of the contours of height on a map\n\n"
      ]
    },
    {
      "cell_type": "code",
      "execution_count": null,
      "metadata": {
        "collapsed": false
      },
      "outputs": [],
      "source": [
        "fig = plt.figure(figsize=(11., 8.))\nax = fig.add_subplot(1, 1, 1, projection=ccrs.LambertConformal(central_longitude=-95))\nax.contour(mslp.metpy.x, mslp.metpy.y, mslp, range(0, 2000, 30),\n           colors='k', linewidths=1.25, linestyles='solid', transform=dataproj)\n\n# Using scattertext() plot the high centers using a red 'H' and put the height value\n# below the 'H' using a smaller font.\nscattertext(ax, mslp.metpy.x[h_x], mslp.metpy.y[h_y], 'H', size=20, color='red',\n            fontweight='bold', transform=dataproj)\nscattertext(ax, mslp.metpy.x[h_x], mslp.metpy.y[h_y], mslp.values[h_y, h_x], formatter='.0f',\n            size=12, color='red', loc=(0, -15), fontweight='bold', transform=dataproj)\n\n# Now do the same for the lows using a blue 'L'\nscattertext(ax, mslp.metpy.x[l_x], mslp.metpy.y[l_y], 'L', size=20, color='blue',\n            fontweight='bold', transform=dataproj)\nscattertext(ax, mslp.metpy.x[l_x], mslp.metpy.y[l_y], mslp.values[l_y, l_x], formatter='.0f',\n            size=12, color='blue', loc=(0, -15), fontweight='bold', transform=dataproj)\n\nax.add_feature(cfeature.OCEAN)\nax.add_feature(cfeature.LAND)\nax.add_feature(cfeature.COASTLINE)\n\nax.set_title('Automated 850hPa High and Low Locations')\nadd_metpy_logo(fig, 275, 295, size='large')\nplt.show()"
      ]
    }
  ],
  "metadata": {
    "kernelspec": {
      "display_name": "Python 3",
      "language": "python",
      "name": "python3"
    },
    "language_info": {
      "codemirror_mode": {
        "name": "ipython",
        "version": 3
      },
      "file_extension": ".py",
      "mimetype": "text/x-python",
      "name": "python",
      "nbconvert_exporter": "python",
      "pygments_lexer": "ipython3",
      "version": "3.13.3"
    }
  },
  "nbformat": 4,
  "nbformat_minor": 0
}
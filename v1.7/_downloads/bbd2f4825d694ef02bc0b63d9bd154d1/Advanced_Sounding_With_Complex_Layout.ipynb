{
  "cells": [
    {
      "cell_type": "markdown",
      "metadata": {},
      "source": [
        "\n# Advanced Sounding Plot with Complex Layout\n\nThis example combines simple MetPy plotting functionality, `metpy.calc`\ncomputation functionality, and a few basic Matplotlib tricks to create\nan advanced sounding plot with a complex layout & high readability.\n"
      ]
    },
    {
      "cell_type": "code",
      "execution_count": null,
      "metadata": {
        "collapsed": false
      },
      "outputs": [],
      "source": [
        "# First let's start with some simple imports\nimport matplotlib.pyplot as plt\nimport numpy as np\nimport pandas as pd\n\nimport metpy.calc as mpcalc\nfrom metpy.cbook import get_test_data\nfrom metpy.plots import add_metpy_logo, Hodograph, SkewT\nfrom metpy.units import units"
      ]
    },
    {
      "cell_type": "markdown",
      "metadata": {},
      "source": [
        "Upper air data can easily be obtained using the siphon package,\nbut for this example we will use some of MetPy's sample data.\n\n"
      ]
    },
    {
      "cell_type": "code",
      "execution_count": null,
      "metadata": {
        "collapsed": false
      },
      "outputs": [],
      "source": [
        "col_names = ['pressure', 'height', 'temperature', 'dewpoint', 'direction', 'speed']\ndf = pd.read_fwf(get_test_data('may4_sounding.txt', as_file_obj=False),\n                 skiprows=5, usecols=[0, 1, 2, 3, 6, 7], names=col_names)\n\n# Drop any rows with all NaN values for T, Td, winds\ndf = df.dropna(subset=('temperature', 'dewpoint', 'direction', 'speed'),\n               how='all').reset_index(drop=True)"
      ]
    },
    {
      "cell_type": "markdown",
      "metadata": {},
      "source": [
        "We will pull the data out of the example dataset into\nindividual variables and assign units.\n\n"
      ]
    },
    {
      "cell_type": "code",
      "execution_count": null,
      "metadata": {
        "collapsed": false
      },
      "outputs": [],
      "source": [
        "p = df['pressure'].values * units.hPa\nz = df['height'].values * units.m\nT = df['temperature'].values * units.degC\nTd = df['dewpoint'].values * units.degC\nwind_speed = df['speed'].values * units.knots\nwind_dir = df['direction'].values * units.degrees\nu, v = mpcalc.wind_components(wind_speed, wind_dir)"
      ]
    },
    {
      "cell_type": "markdown",
      "metadata": {},
      "source": [
        "Now let's make a Skew-T Log-P diagram using some simply\nMetPy functionality\nCreate a new figure. The dimensions here give a good aspect ratio\n\n"
      ]
    },
    {
      "cell_type": "code",
      "execution_count": null,
      "metadata": {
        "collapsed": false
      },
      "outputs": [],
      "source": [
        "fig = plt.figure(figsize=(9, 9))\nadd_metpy_logo(fig, 90, 80, size='small')\nskew = SkewT(fig, rotation=45, rect=(0.1, 0.1, 0.55, 0.85))\n\n# Plot the data using normal plotting functions, in this case using\n# log scaling in Y, as dictated by the typical meteorological plot\nskew.plot(p, T, 'r')\nskew.plot(p, Td, 'g')\nskew.plot_barbs(p, u, v)\n\n# Change to adjust data limits and give it a semblance of what we want\nskew.ax.set_adjustable('datalim')\nskew.ax.set_ylim(1000, 100)\nskew.ax.set_xlim(-20, 30)\n\n# Add the relevant special lines\nskew.plot_dry_adiabats()\nskew.plot_moist_adiabats()\nskew.plot_mixing_lines()\n\n# Create a hodograph\nax = plt.axes((0.7, 0.75, 0.2, 0.2))\nh = Hodograph(ax, component_range=60.)\nh.add_grid(increment=20)\nh.plot(u, v)"
      ]
    },
    {
      "cell_type": "markdown",
      "metadata": {},
      "source": [
        "This layout isn't bad, especially for how little code it requires,\nbut we could add a few simple tricks to greatly increase the\nreadability and complexity of our Skew-T/Hodograph layout. Let's\ntry another Skew-T with a few more advanced features:\n\n"
      ]
    },
    {
      "cell_type": "code",
      "execution_count": null,
      "metadata": {
        "collapsed": false
      },
      "outputs": [],
      "source": [
        "# STEP 1: CREATE THE SKEW-T OBJECT AND MODIFY IT TO CREATE A\n# NICE, CLEAN PLOT\n# Create a new figure. The dimensions here give a good aspect ratio\nfig = plt.figure(figsize=(18, 12))\nskew = SkewT(fig, rotation=45, rect=(0.05, 0.05, 0.50, 0.90))\n\n# add the Metpy logo\nadd_metpy_logo(fig, 105, 85, size='small')\n\n# Change to adjust data limits and give it a semblance of what we want\nskew.ax.set_adjustable('datalim')\nskew.ax.set_ylim(1000, 100)\nskew.ax.set_xlim(-20, 30)\n\n# Set some better labels than the default to increase readability\nskew.ax.set_xlabel(str.upper(f'Temperature ({T.units:~P})'), weight='bold')\nskew.ax.set_ylabel(str.upper(f'Pressure ({p.units:~P})'), weight='bold')\n\n# Set the facecolor of the skew-t object and the figure to white\nfig.set_facecolor('#ffffff')\nskew.ax.set_facecolor('#ffffff')\n\n# Here we can use some basic math and Python functionality to make a cool\n# shaded isotherm pattern.\nx1 = np.linspace(-100, 40, 8)\nx2 = np.linspace(-90, 50, 8)\ny = [1100, 50]\nfor i in range(8):\n    skew.shade_area(y=y, x1=x1[i], x2=x2[i], color='gray', alpha=0.02, zorder=1)\n\n# STEP 2: PLOT DATA ON THE SKEW-T. TAKE A COUPLE EXTRA STEPS TO\n# INCREASE READABILITY\n# Plot the data using normal plotting functions, in this case using\n# log scaling in Y, as dictated by the typical meteorological plot\n# Set the linewidth to 4 for increased readability.\n# We will also add the 'label' keyword argument for our legend.\nskew.plot(p, T, 'r', lw=4, label='TEMPERATURE')\nskew.plot(p, Td, 'g', lw=4, label='DEWPOINT')\n\n# Again we can use some simple Python math functionality to 'resample'\n# the wind barbs for a cleaner output with increased readability.\n# Something like this would work.\ninterval = np.logspace(2, 3, 40) * units.hPa\nidx = mpcalc.resample_nn_1d(p, interval)\nskew.plot_barbs(pressure=p[idx], u=u[idx], v=v[idx])\n\n# Add the relevant special lines native to the Skew-T Log-P diagram &\n# provide basic adjustments to linewidth and alpha to increase readability\n# first, we add a matplotlib axvline to highlight the 0-degree isotherm\nskew.ax.axvline(0 * units.degC, linestyle='--', color='blue', alpha=0.3)\nskew.plot_dry_adiabats(lw=1, alpha=0.3)\nskew.plot_moist_adiabats(lw=1, alpha=0.3)\nskew.plot_mixing_lines(lw=1, alpha=0.3)\n\n# Calculate LCL height and plot as a black dot. Because `p`'s first value is\n# ~1000 mb and its last value is ~250 mb, the `0` index is selected for\n# `p`, `T`, and `Td` to lift the parcel from the surface. If `p` was inverted,\n# i.e. start from a low value, 250 mb, to a high value, 1000 mb, the `-1` index\n# should be selected.\nlcl_pressure, lcl_temperature = mpcalc.lcl(p[0], T[0], Td[0])\nskew.plot(lcl_pressure, lcl_temperature, 'ko', markerfacecolor='black')\n# Calculate full parcel profile and add to plot as black line\nprof = mpcalc.parcel_profile(p, T[0], Td[0]).to('degC')\nskew.plot(p, prof, 'k', linewidth=2, label='SB PARCEL PATH')\n\n# Shade areas of CAPE and CIN\nskew.shade_cin(p, T, prof, Td, alpha=0.2, label='SBCIN')\nskew.shade_cape(p, T, prof, alpha=0.2, label='SBCAPE')\n\n# STEP 3: CREATE THE HODOGRAPH INSET. TAKE A FEW EXTRA STEPS TO\n# INCREASE READABILITY\n# Create a hodograph object: first we need to add an axis\n# then we can create the Metpy Hodograph\nhodo_ax = plt.axes((0.48, 0.45, 0.5, 0.5))\nh = Hodograph(hodo_ax, component_range=80.)\n\n# Add two separate grid increments for a cooler look. This also\n# helps to increase readability\nh.add_grid(increment=20, ls='-', lw=1.5, alpha=0.5)\nh.add_grid(increment=10, ls='--', lw=1, alpha=0.2)\n\n# The next few steps makes for a clean hodograph inset, removing the\n# tick marks, tick labels, and axis labels\nh.ax.set_box_aspect(1)\nh.ax.set_yticklabels([])\nh.ax.set_xticklabels([])\nh.ax.set_xticks([])\nh.ax.set_yticks([])\nh.ax.set_xlabel(' ')\nh.ax.set_ylabel(' ')\n\n# Here we can add a simple Python for loop that adds tick marks\n# to the inside of the hodograph plot to increase readability!\nplt.xticks(np.arange(0, 0, 1))\nplt.yticks(np.arange(0, 0, 1))\nfor i in range(10, 120, 10):\n    h.ax.annotate(str(i), (i, 0), xytext=(0, 2), textcoords='offset pixels',\n                  clip_on=True, fontsize=10, weight='bold', alpha=0.3, zorder=0)\nfor i in range(10, 120, 10):\n    h.ax.annotate(str(i), (0, i), xytext=(0, 2), textcoords='offset pixels',\n                  clip_on=True, fontsize=10, weight='bold', alpha=0.3, zorder=0)\n\n# plot the hodograph itself, using plot_colormapped, colored\n# by height\nh.plot_colormapped(u, v, c=z, linewidth=6, label='0-12km WIND')\n# compute Bunkers storm motion so we can plot it on the hodograph!\nRM, LM, MW = mpcalc.bunkers_storm_motion(p, u, v, z)\nh.ax.text((RM[0].m + 0.5), (RM[1].m - 0.5), 'RM', weight='bold', ha='left',\n          fontsize=13, alpha=0.6)\nh.ax.text((LM[0].m + 0.5), (LM[1].m - 0.5), 'LM', weight='bold', ha='left',\n          fontsize=13, alpha=0.6)\nh.ax.text((MW[0].m + 0.5), (MW[1].m - 0.5), 'MW', weight='bold', ha='left',\n          fontsize=13, alpha=0.6)\nh.ax.arrow(0, 0, RM[0].m - 0.3, RM[1].m - 0.3, linewidth=2, color='black',\n           alpha=0.2, label='Bunkers RM Vector',\n           length_includes_head=True, head_width=2)\n\n# STEP 4: ADD A FEW EXTRA ELEMENTS TO REALLY MAKE A NEAT PLOT\n# First we want to actually add values of data to the plot for easy viewing\n# To do this, let's first add a simple rectangle using Matplotlib's 'patches'\n# functionality to add some simple layout for plotting calculated parameters\n#                                  xloc   yloc   xsize  ysize\nfig.patches.extend([plt.Rectangle((0.563, 0.05), 0.334, 0.37,\n                                  edgecolor='black', facecolor='white',\n                                  linewidth=1, alpha=1, transform=fig.transFigure,\n                                  figure=fig)])\n\n# Now let's take a moment to calculate some simple severe-weather parameters using\n# metpy's calculations\n# Here are some classic severe parameters!\nkindex = mpcalc.k_index(p, T, Td)\ntotal_totals = mpcalc.total_totals_index(p, T, Td)\n\n# mixed layer parcel properties!\nml_t, ml_td = mpcalc.mixed_layer(p, T, Td, depth=50 * units.hPa)\nml_p, _, _ = mpcalc.mixed_parcel(p, T, Td, depth=50 * units.hPa)\nmlcape, mlcin = mpcalc.mixed_layer_cape_cin(p, T, Td, depth=50 * units.hPa)\n\n# most unstable parcel properties!\nmu_p, mu_t, mu_td, _ = mpcalc.most_unstable_parcel(p, T, Td, depth=50 * units.hPa)\nmucape, mucin = mpcalc.most_unstable_cape_cin(p, T, Td, depth=50 * units.hPa)\n\n# Estimate height of LCL in meters from hydrostatic thickness (for sig_tor)\nnew_p = np.append(p[p > lcl_pressure], lcl_pressure)\nnew_t = np.append(T[p > lcl_pressure], lcl_temperature)\nlcl_height = mpcalc.thickness_hydrostatic(new_p, new_t)\n\n# Compute Surface-based CAPE\nsbcape, sbcin = mpcalc.surface_based_cape_cin(p, T, Td)\n# Compute SRH\n(u_storm, v_storm), *_ = mpcalc.bunkers_storm_motion(p, u, v, z)\n*_, total_helicity1 = mpcalc.storm_relative_helicity(z, u, v, depth=1 * units.km,\n                                                     storm_u=u_storm, storm_v=v_storm)\n*_, total_helicity3 = mpcalc.storm_relative_helicity(z, u, v, depth=3 * units.km,\n                                                     storm_u=u_storm, storm_v=v_storm)\n*_, total_helicity6 = mpcalc.storm_relative_helicity(z, u, v, depth=6 * units.km,\n                                                     storm_u=u_storm, storm_v=v_storm)\n\n# Copmute Bulk Shear components and then magnitude\nubshr1, vbshr1 = mpcalc.bulk_shear(p, u, v, height=z, depth=1 * units.km)\nbshear1 = mpcalc.wind_speed(ubshr1, vbshr1)\nubshr3, vbshr3 = mpcalc.bulk_shear(p, u, v, height=z, depth=3 * units.km)\nbshear3 = mpcalc.wind_speed(ubshr3, vbshr3)\nubshr6, vbshr6 = mpcalc.bulk_shear(p, u, v, height=z, depth=6 * units.km)\nbshear6 = mpcalc.wind_speed(ubshr6, vbshr6)\n\n# Use all computed pieces to calculate the Significant Tornado parameter\nsig_tor = mpcalc.significant_tornado(sbcape, lcl_height,\n                                     total_helicity3, bshear3).to_base_units()\n\n# Perform the calculation of supercell composite if an effective layer exists\nsuper_comp = mpcalc.supercell_composite(mucape, total_helicity3, bshear3)\n\n# There is a lot we can do with this data operationally, so let's plot some of\n# these values right on the plot, in the box we made\n# First lets plot some thermodynamic parameters\nplt.figtext(0.58, 0.37, 'SBCAPE: ', weight='bold', fontsize=15,\n            color='black', ha='left')\nplt.figtext(0.71, 0.37, f'{sbcape:.0f~P}', weight='bold',\n            fontsize=15, color='orangered', ha='right')\nplt.figtext(0.58, 0.34, 'SBCIN: ', weight='bold',\n            fontsize=15, color='black', ha='left')\nplt.figtext(0.71, 0.34, f'{sbcin:.0f~P}', weight='bold',\n            fontsize=15, color='lightblue', ha='right')\nplt.figtext(0.58, 0.29, 'MLCAPE: ', weight='bold', fontsize=15,\n            color='black', ha='left')\nplt.figtext(0.71, 0.29, f'{mlcape:.0f~P}', weight='bold',\n            fontsize=15, color='orangered', ha='right')\nplt.figtext(0.58, 0.26, 'MLCIN: ', weight='bold', fontsize=15,\n            color='black', ha='left')\nplt.figtext(0.71, 0.26, f'{mlcin:.0f~P}', weight='bold',\n            fontsize=15, color='lightblue', ha='right')\nplt.figtext(0.58, 0.21, 'MUCAPE: ', weight='bold', fontsize=15,\n            color='black', ha='left')\nplt.figtext(0.71, 0.21, f'{mucape:.0f~P}', weight='bold',\n            fontsize=15, color='orangered', ha='right')\nplt.figtext(0.58, 0.18, 'MUCIN: ', weight='bold', fontsize=15,\n            color='black', ha='left')\nplt.figtext(0.71, 0.18, f'{mucin:.0f~P}', weight='bold',\n            fontsize=15, color='lightblue', ha='right')\nplt.figtext(0.58, 0.13, 'TT-INDEX: ', weight='bold', fontsize=15,\n            color='black', ha='left')\nplt.figtext(0.71, 0.13, f'{total_totals:.0f~P}', weight='bold',\n            fontsize=15, color='orangered', ha='right')\nplt.figtext(0.58, 0.10, 'K-INDEX: ', weight='bold', fontsize=15,\n            color='black', ha='left')\nplt.figtext(0.71, 0.10, f'{kindex:.0f~P}', weight='bold',\n            fontsize=15, color='orangered', ha='right')\n\n# now some kinematic parameters\nplt.figtext(0.73, 0.37, '0-1km SRH: ', weight='bold', fontsize=15,\n            color='black', ha='left')\nplt.figtext(0.88, 0.37, f'{total_helicity1:.0f~P}',\n            weight='bold', fontsize=15, color='navy', ha='right')\nplt.figtext(0.73, 0.34, '0-1km SHEAR: ', weight='bold', fontsize=15,\n            color='black', ha='left')\nplt.figtext(0.88, 0.34, f'{bshear1:.0f~P}', weight='bold',\n            fontsize=15, color='blue', ha='right')\nplt.figtext(0.73, 0.29, '0-3km SRH: ', weight='bold', fontsize=15,\n            color='black', ha='left')\nplt.figtext(0.88, 0.29, f'{total_helicity3:.0f~P}',\n            weight='bold', fontsize=15, color='navy', ha='right')\nplt.figtext(0.73, 0.26, '0-3km SHEAR: ', weight='bold', fontsize=15,\n            color='black', ha='left')\nplt.figtext(0.88, 0.26, f'{bshear3:.0f~P}', weight='bold',\n            fontsize=15, color='blue', ha='right')\nplt.figtext(0.73, 0.21, '0-6km SRH: ', weight='bold', fontsize=15,\n            color='black', ha='left')\nplt.figtext(0.88, 0.21, f'{total_helicity6:.0f~P}',\n            weight='bold', fontsize=15, color='navy', ha='right')\nplt.figtext(0.73, 0.18, '0-6km SHEAR: ', weight='bold', fontsize=15,\n            color='black', ha='left')\nplt.figtext(0.88, 0.18, f'{bshear6:.0f~P}', weight='bold',\n            fontsize=15, color='blue', ha='right')\nplt.figtext(0.73, 0.13, 'SIG TORNADO: ', weight='bold', fontsize=15,\n            color='black', ha='left')\nplt.figtext(0.88, 0.13, f'{sig_tor[0]:.0f~P}', weight='bold', fontsize=15,\n            color='orangered', ha='right')\nplt.figtext(0.73, 0.10, 'SUPERCELL COMP: ', weight='bold', fontsize=15,\n            color='black', ha='left')\nplt.figtext(0.88, 0.10, f'{super_comp[0]:.0f~P}', weight='bold', fontsize=15,\n            color='orangered', ha='right')\n\n# Add legends to the skew and hodo\nskewleg = skew.ax.legend(loc='upper left')\nhodoleg = h.ax.legend(loc='upper left')\n\n# add a quick plot title, this could be automated by\n# declaring a station and datetime variable when using\n# realtime observation data from Siphon.\nplt.figtext(0.45, 0.97, 'OUN | MAY 4TH 1999 - 00Z VERTICAL PROFILE',\n            weight='bold', fontsize=20, ha='center')\n\n# Show the plot\nplt.show()"
      ]
    }
  ],
  "metadata": {
    "kernelspec": {
      "display_name": "Python 3",
      "language": "python",
      "name": "python3"
    },
    "language_info": {
      "codemirror_mode": {
        "name": "ipython",
        "version": 3
      },
      "file_extension": ".py",
      "mimetype": "text/x-python",
      "name": "python",
      "nbconvert_exporter": "python",
      "pygments_lexer": "ipython3",
      "version": "3.13.3"
    }
  },
  "nbformat": 4,
  "nbformat_minor": 0
}
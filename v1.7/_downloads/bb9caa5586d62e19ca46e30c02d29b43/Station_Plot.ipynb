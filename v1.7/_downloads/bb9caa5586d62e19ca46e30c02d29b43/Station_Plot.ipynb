{
  "cells": [
    {
      "cell_type": "markdown",
      "metadata": {},
      "source": [
        "\n# Station Plot\n\nMake a station plot, complete with sky cover and weather symbols.\n\nThe station plot itself is pretty straightforward, but there is a bit of code to perform the\ndata-wrangling (hopefully that situation will improve in the future). Certainly, if you have\nexisting point data in a format you can work with trivially, the station plot will be simple.\n"
      ]
    },
    {
      "cell_type": "code",
      "execution_count": null,
      "metadata": {
        "collapsed": false
      },
      "outputs": [],
      "source": [
        "import cartopy.crs as ccrs\nimport cartopy.feature as cfeature\nimport matplotlib.pyplot as plt\n\nfrom metpy.calc import reduce_point_density\nfrom metpy.cbook import get_test_data\nfrom metpy.io import metar\nfrom metpy.plots import add_metpy_logo, current_weather, sky_cover, StationPlot"
      ]
    },
    {
      "cell_type": "markdown",
      "metadata": {},
      "source": [
        "## The setup\n\nFirst read in the data. We use the metar reader because it simplifies a lot of tasks,\nlike dealing with separating text and assembling a pandas dataframe\nhttps://thredds.ucar.edu/thredds/catalog/noaaport/text/metar/catalog.html\n\n"
      ]
    },
    {
      "cell_type": "code",
      "execution_count": null,
      "metadata": {
        "collapsed": false
      },
      "outputs": [],
      "source": [
        "data = metar.parse_metar_file(get_test_data('metar_20190701_1200.txt', as_file_obj=False))\n\n# Drop rows with missing winds\ndata = data.dropna(how='any', subset=['wind_direction', 'wind_speed'])"
      ]
    },
    {
      "cell_type": "markdown",
      "metadata": {},
      "source": [
        "This sample data has *way* too many stations to plot all of them. The number\nof stations plotted will be reduced using `reduce_point_density`.\n\n"
      ]
    },
    {
      "cell_type": "code",
      "execution_count": null,
      "metadata": {
        "collapsed": false
      },
      "outputs": [],
      "source": [
        "# Set up the map projection\nproj = ccrs.LambertConformal(central_longitude=-95, central_latitude=35,\n                             standard_parallels=[35])\n\n# Use the Cartopy map projection to transform station locations to the map and\n# then refine the number of stations plotted by setting a 300km radius\npoint_locs = proj.transform_points(ccrs.PlateCarree(), data['longitude'].values,\n                                   data['latitude'].values)\ndata = data[reduce_point_density(point_locs, 300000.)]"
      ]
    },
    {
      "cell_type": "markdown",
      "metadata": {},
      "source": [
        "## The payoff\n\n"
      ]
    },
    {
      "cell_type": "code",
      "execution_count": null,
      "metadata": {
        "collapsed": false
      },
      "outputs": [],
      "source": [
        "# Change the DPI of the resulting figure. Higher DPI drastically improves the\n# look of the text rendering.\nplt.rcParams['savefig.dpi'] = 255\n\n# Create the figure and an axes set to the projection.\nfig = plt.figure(figsize=(20, 10))\nadd_metpy_logo(fig, 1100, 300, size='large')\nax = fig.add_subplot(1, 1, 1, projection=proj)\n\n# Add some various map elements to the plot to make it recognizable.\nax.add_feature(cfeature.LAND)\nax.add_feature(cfeature.OCEAN)\nax.add_feature(cfeature.LAKES)\nax.add_feature(cfeature.COASTLINE)\nax.add_feature(cfeature.STATES)\nax.add_feature(cfeature.BORDERS)\n\n# Set plot bounds\nax.set_extent((-118, -73, 23, 50))\n\n#\n# Here's the actual station plot\n#\n\n# Start the station plot by specifying the axes to draw on, as well as the\n# lon/lat of the stations (with transform). We also the fontsize to 12 pt.\nstationplot = StationPlot(ax, data['longitude'].values, data['latitude'].values,\n                          clip_on=True, transform=ccrs.PlateCarree(), fontsize=12)\n\n# Plot the temperature and dew point to the upper and lower left, respectively, of\n# the center point. Each one uses a different color.\nstationplot.plot_parameter('NW', data['air_temperature'].values, color='red')\nstationplot.plot_parameter('SW', data['dew_point_temperature'].values,\n                           color='darkgreen')\n\n# A more complex example uses a custom formatter to control how the sea-level pressure\n# values are plotted. This uses the standard trailing 3-digits of the pressure value\n# in tenths of millibars.\nstationplot.plot_parameter('NE', data['air_pressure_at_sea_level'].values,\n                           formatter=lambda v: format(10 * v, '.0f')[-3:])\n\n# Plot the cloud cover symbols in the center location. This uses the codes made above and\n# uses the `sky_cover` mapper to convert these values to font codes for the\n# weather symbol font.\nstationplot.plot_symbol('C', data['cloud_coverage'].values, sky_cover)\n\n# Same this time, but plot current weather to the left of center, using the\n# `current_weather` mapper to convert symbols to the right glyphs.\nstationplot.plot_symbol('W', data['current_wx1_symbol'].values, current_weather)\n\n# Add wind barbs\nstationplot.plot_barb(data['eastward_wind'].values, data['northward_wind'].values)\n\n# Also plot the actual text of the station id. Instead of cardinal directions,\n# plot further out by specifying a location of 2 increments in x and 0 in y.\nstationplot.plot_text((2, 0), data['station_id'].values)\n\nplt.show()"
      ]
    }
  ],
  "metadata": {
    "kernelspec": {
      "display_name": "Python 3",
      "language": "python",
      "name": "python3"
    },
    "language_info": {
      "codemirror_mode": {
        "name": "ipython",
        "version": 3
      },
      "file_extension": ".py",
      "mimetype": "text/x-python",
      "name": "python",
      "nbconvert_exporter": "python",
      "pygments_lexer": "ipython3",
      "version": "3.13.3"
    }
  },
  "nbformat": 4,
  "nbformat_minor": 0
}
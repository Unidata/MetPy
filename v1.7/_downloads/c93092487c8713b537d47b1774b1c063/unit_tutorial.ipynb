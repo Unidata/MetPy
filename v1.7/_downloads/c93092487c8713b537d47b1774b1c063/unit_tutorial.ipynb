{
  "cells": [
    {
      "cell_type": "markdown",
      "metadata": {},
      "source": [
        "\n# Working With Units\n\nEarly in our scientific careers we all learn about the importance of paying\nattention to units in our calculations. Unit conversions can still get the best\nof us and have caused more than one major technical disaster, including the\ncrash and complete loss of the $327 million Mars Climate Orbiter.\n\nIn MetPy, we use the ``pint`` library and a custom unit registry to help prevent\nunit mistakes in calculations. That means that every quantity you pass to MetPy\nshould have units attached, just like if you were doing the calculation on\npaper! This simplifies the MetPy API by eliminating the need to specify units\nvarious functions. Instead, only the final results need to be converted to desired units. For\nmore information on unit support, see the documentation for\n[Pint](https://pint.readthedocs.io). Particular attention should be paid to the support\nfor [temperature units](https://pint.readthedocs.io/en/stable/user/nonmult.html).\n\nIn this tutorial we'll show some examples of working with units and get you on your way to\nutilizing the computation functions in MetPy.\n"
      ]
    },
    {
      "cell_type": "markdown",
      "metadata": {},
      "source": [
        "## Getting Started\nTo use units, the first step is to import the default MetPy units registry from the\n:mod:`~metpy.units` module:\n\n"
      ]
    },
    {
      "cell_type": "code",
      "execution_count": null,
      "metadata": {
        "collapsed": false
      },
      "outputs": [],
      "source": [
        "import numpy as np\n\nimport metpy.calc as mpcalc\nfrom metpy.units import units"
      ]
    },
    {
      "cell_type": "markdown",
      "metadata": {},
      "source": [
        "The unit registry encapsulates all of the available units, as well as any pertinent settings.\nThe registry also understands unit prefixes and suffixes; this allows the registry to\nunderstand ``'kilometer'`` and ``'meters'`` in addition to the base ``'meter'`` unit.\n\nIn general, using units is only a small step on top of using the :class:`numpy.ndarray`\nobject.\n\n## Adding Units to Data\nThe easiest way to attach units to an array (or integer, float, etc.) is to multiply by the\nunits:\n\n"
      ]
    },
    {
      "cell_type": "code",
      "execution_count": null,
      "metadata": {
        "collapsed": false
      },
      "outputs": [],
      "source": [
        "distance = np.arange(1, 5) * units.meters"
      ]
    },
    {
      "cell_type": "markdown",
      "metadata": {},
      "source": [
        "It is also possible to directly construct a :class:`pint.Quantity`, with a full units string:\n\n"
      ]
    },
    {
      "cell_type": "code",
      "execution_count": null,
      "metadata": {
        "collapsed": false
      },
      "outputs": [],
      "source": [
        "time = units.Quantity(np.arange(2, 10, 2), 'sec')"
      ]
    },
    {
      "cell_type": "markdown",
      "metadata": {},
      "source": [
        "Compound units can be constructed by the direct mathematical operations necessary:\n\n"
      ]
    },
    {
      "cell_type": "code",
      "execution_count": null,
      "metadata": {
        "collapsed": false
      },
      "outputs": [],
      "source": [
        "9.81 * units.meter / (units.second * units.second)"
      ]
    },
    {
      "cell_type": "markdown",
      "metadata": {},
      "source": [
        "This verbose syntax can be reduced by using the unit registry's support for parsing units:\n\n"
      ]
    },
    {
      "cell_type": "code",
      "execution_count": null,
      "metadata": {
        "collapsed": false
      },
      "outputs": [],
      "source": [
        "9.81 * units('m/s^2')"
      ]
    },
    {
      "cell_type": "markdown",
      "metadata": {},
      "source": [
        "## Operations With Units\nWith units attached, it is possible to perform mathematical operations, resulting in the\nproper units:\n\n"
      ]
    },
    {
      "cell_type": "code",
      "execution_count": null,
      "metadata": {
        "collapsed": false
      },
      "outputs": [],
      "source": [
        "print(distance / time)"
      ]
    },
    {
      "cell_type": "markdown",
      "metadata": {},
      "source": [
        "For multiplication and division, units can combine and cancel. For addition and subtraction,\ninstead the operands must have compatible units. For instance, this works:\n\n"
      ]
    },
    {
      "cell_type": "code",
      "execution_count": null,
      "metadata": {
        "collapsed": false
      },
      "outputs": [],
      "source": [
        "print(distance + distance)"
      ]
    },
    {
      "cell_type": "markdown",
      "metadata": {},
      "source": [
        "But for instance, `distance + time` would not work; instead it gives an error:\n\n`DimensionalityError: Cannot convert from 'meter' ([length]) to 'second' ([time])`\n\nEven if the units are not identical, as long as they are dimensionally equivalent, the\noperation can be performed:\n\n"
      ]
    },
    {
      "cell_type": "code",
      "execution_count": null,
      "metadata": {
        "collapsed": false
      },
      "outputs": [],
      "source": [
        "print(3 * units.inch + 5 * units.cm)"
      ]
    },
    {
      "cell_type": "markdown",
      "metadata": {},
      "source": [
        "``pint`` by default will print full unit names for :class:`~pint.Quantity`.\n\n"
      ]
    },
    {
      "cell_type": "code",
      "execution_count": null,
      "metadata": {
        "collapsed": false
      },
      "outputs": [],
      "source": [
        "print(f'{20 * units.meter ** 2}')"
      ]
    },
    {
      "cell_type": "markdown",
      "metadata": {},
      "source": [
        "This can be reduced to symbolic by specifying a compact (~) formatter:\n\n"
      ]
    },
    {
      "cell_type": "code",
      "execution_count": null,
      "metadata": {
        "collapsed": false
      },
      "outputs": [],
      "source": [
        "print(f'{20 * units.meter ** 2:~}')"
      ]
    },
    {
      "cell_type": "markdown",
      "metadata": {},
      "source": [
        "A compact (~), pretty (P) formatter:\n\n"
      ]
    },
    {
      "cell_type": "code",
      "execution_count": null,
      "metadata": {
        "collapsed": false
      },
      "outputs": [],
      "source": [
        "print(f'{20 * units.meter ** 2:~P}')"
      ]
    },
    {
      "cell_type": "markdown",
      "metadata": {},
      "source": [
        "Place formatters following other print specifications:\n\n"
      ]
    },
    {
      "cell_type": "code",
      "execution_count": null,
      "metadata": {
        "collapsed": false
      },
      "outputs": [],
      "source": [
        "print(f'{20 * units.meter ** 2:0.3f~P}')"
      ]
    },
    {
      "cell_type": "markdown",
      "metadata": {},
      "source": [
        "Other string formatting options are available, see the [Pint string formatting specification](https://pint.readthedocs.io/en/stable/user/formatting.html).\n\n"
      ]
    },
    {
      "cell_type": "markdown",
      "metadata": {},
      "source": [
        "## Converting Units\n\nConverting a :class:`~pint.Quantity` between units can be accomplished by using the\n:meth:`~pint.Quantity.to` method call, which constructs a new :class:`~pint.Quantity` in the\ndesired units:\n\n"
      ]
    },
    {
      "cell_type": "code",
      "execution_count": null,
      "metadata": {
        "collapsed": false
      },
      "outputs": [],
      "source": [
        "print((1 * units.inch).to(units.mm))"
      ]
    },
    {
      "cell_type": "markdown",
      "metadata": {},
      "source": [
        "There is also the :meth:`~pint.Quantity.ito` method which performs the same operation\nin-place:\n\n"
      ]
    },
    {
      "cell_type": "code",
      "execution_count": null,
      "metadata": {
        "collapsed": false
      },
      "outputs": [],
      "source": [
        "a = np.arange(5.) * units.meter\na.ito('feet')\nprint(a)"
      ]
    },
    {
      "cell_type": "markdown",
      "metadata": {},
      "source": [
        "To simplify units, there is also the :meth:`~pint.Quantity.to_base_units` method,\nwhich converts a quantity to SI units, performing any needed cancellation:\n\n"
      ]
    },
    {
      "cell_type": "code",
      "execution_count": null,
      "metadata": {
        "collapsed": false
      },
      "outputs": [],
      "source": [
        "Lf = 3.34e6 * units('J/kg')\nprint(Lf, Lf.to_base_units(), sep='\\n')"
      ]
    },
    {
      "cell_type": "markdown",
      "metadata": {},
      "source": [
        ":meth:`~pint.Quantity.to_base_units` can also be done in-place via the\n:meth:`~pint.Quantity.ito_base_units` method.\n\nBy default Pint does not do any more than simple unit simplification, so when you perform\noperations you could get some seemingly odd results:\n\n"
      ]
    },
    {
      "cell_type": "code",
      "execution_count": null,
      "metadata": {
        "collapsed": false
      },
      "outputs": [],
      "source": [
        "length = 10.4 * units.inch\nwidth = 5 * units.cm\narea = length * width\nprint(area)"
      ]
    },
    {
      "cell_type": "markdown",
      "metadata": {},
      "source": [
        "This is another place where :meth:`~pint.Quantity.to` comes in handy:\n\n"
      ]
    },
    {
      "cell_type": "code",
      "execution_count": null,
      "metadata": {
        "collapsed": false
      },
      "outputs": [],
      "source": [
        "print(area.to('m^2'))"
      ]
    },
    {
      "cell_type": "markdown",
      "metadata": {},
      "source": [
        "## Temperature\nTemperature units are actually relatively tricky (more like absolutely tricky as\nyou'll see). Temperature is a non-multiplicative unit - they are in a system\nwith a reference point. That means that not only is there a scaling factor, but\nalso an offset. This makes the math and unit book-keeping a little more complex.\nImagine adding 10 degrees Celsius to 100 degrees Celsius. Is the answer 110\ndegrees Celsius or 383.15 degrees Celsius (283.15 K + 373.15 K)? That's why\nthere are delta degrees units in the unit registry for offset units. For more\nexamples and explanation you can watch MetPy Monday #13:\nhttps://www.youtube.com/watch?v=iveJCqxe3Z4.\n\nLet's take a look at how this works and fails:\n\nWe would expect this to fail because we cannot add two offset units (and it does\nfail as an \"Ambiguous operation with offset unit\").\n\n`10 * units.degC + 5 * units.degC`\n\nOn the other hand, we can subtract two offset quantities and get a delta. A delta unit is\npint's way of representing a relative change in two offset units, indicating that this is\nnot an absolute value of 5 degrees Celsius, but a relative change of 5 degrees Celsius.\n\n"
      ]
    },
    {
      "cell_type": "code",
      "execution_count": null,
      "metadata": {
        "collapsed": false
      },
      "outputs": [],
      "source": [
        "print(10 * units.degC - 5 * units.degC)"
      ]
    },
    {
      "cell_type": "markdown",
      "metadata": {},
      "source": [
        "We can add a delta to an offset unit as well since it is a relative change.\n\n"
      ]
    },
    {
      "cell_type": "code",
      "execution_count": null,
      "metadata": {
        "collapsed": false
      },
      "outputs": [],
      "source": [
        "print(25 * units.degC + 5 * units.delta_degF)"
      ]
    },
    {
      "cell_type": "markdown",
      "metadata": {},
      "source": [
        "Absolute temperature scales like Kelvin and Rankine do not have an offset\nand therefore can be used in addition/subtraction without the need for a\ndelta version of the unit.\n\n"
      ]
    },
    {
      "cell_type": "code",
      "execution_count": null,
      "metadata": {
        "collapsed": false
      },
      "outputs": [],
      "source": [
        "print(273 * units.kelvin + 10 * units.kelvin)"
      ]
    },
    {
      "cell_type": "code",
      "execution_count": null,
      "metadata": {
        "collapsed": false
      },
      "outputs": [],
      "source": [
        "print(273 * units.kelvin - 10 * units.kelvin)"
      ]
    },
    {
      "cell_type": "markdown",
      "metadata": {},
      "source": [
        "## MetPy Calculations\nAll MetPy calculations are unit-aware and rely on this information to ensure\nthat the calculations operate correctly. For example, we can use units to take\nan observation in whatever units are most convenient and let MetPy handle everything\nunder the hood. Below we calculate dewpoint from the temperature and relative humidity:\n\n"
      ]
    },
    {
      "cell_type": "code",
      "execution_count": null,
      "metadata": {
        "collapsed": false
      },
      "outputs": [],
      "source": [
        "temperature = 73.2 * units.degF\nrh = 64 * units.percent\ndewpoint = mpcalc.dewpoint_from_relative_humidity(temperature, rh)\n\nprint(dewpoint)"
      ]
    },
    {
      "cell_type": "markdown",
      "metadata": {},
      "source": [
        "or back to Fahrenheit:\n\n"
      ]
    },
    {
      "cell_type": "code",
      "execution_count": null,
      "metadata": {
        "collapsed": false
      },
      "outputs": [],
      "source": [
        "print(dewpoint.to('degF'))"
      ]
    },
    {
      "cell_type": "markdown",
      "metadata": {},
      "source": [
        "## Dropping Units\nWhile units are part of the MetPy ecosystem, they can be a headache after we have\ncomputed the desired quantities with MetPy and would like to move on. For example,\nwe might have computed the dewpoint temperature for two points, say A and B, and\nwould like to compute the average:\n\n"
      ]
    },
    {
      "cell_type": "code",
      "execution_count": null,
      "metadata": {
        "collapsed": false
      },
      "outputs": [],
      "source": [
        "temperature_a = 73.2 * units.degF\nrh_a = 64 * units.percent\ndewpoint_a = mpcalc.dewpoint_from_relative_humidity(temperature_a, rh_a)\n\ntemperature_b = 71.1 * units.degF\nrh_b = 52 * units.percent\ndewpoint_b = mpcalc.dewpoint_from_relative_humidity(temperature_b, rh_b)"
      ]
    },
    {
      "cell_type": "markdown",
      "metadata": {},
      "source": [
        "Per our previous discussion on temperature units, adding two temperatures together\nwon't work. In this case, the easiest way to add two quantities and compute\nan average is by dropping the units attached to the values via ``.magnitude``:\n\n"
      ]
    },
    {
      "cell_type": "code",
      "execution_count": null,
      "metadata": {
        "collapsed": false
      },
      "outputs": [],
      "source": [
        "print(dewpoint_b.magnitude)"
      ]
    },
    {
      "cell_type": "code",
      "execution_count": null,
      "metadata": {
        "collapsed": false
      },
      "outputs": [],
      "source": [
        "dewpoint_mean = (dewpoint_a.magnitude + dewpoint_b.magnitude) / 2.\nprint(dewpoint_mean)"
      ]
    },
    {
      "cell_type": "markdown",
      "metadata": {},
      "source": [
        "## Common Mistakes\nThere are a few common mistakes the new users often make. Be sure to check\nthese when you're having issues.\n\n* Pressure units are `mbar` or `hPa` for common atmospheric measurements. The\n  unit `mb` is actually millibarns--a unit used in particle physics.\n* When using masked arrays, units must be multiplied on the left side. This\n  will be addressed in the future, but is a current limitation in the\n  ecosystem. The expected error will be\n  `AttributeError: 'MaskedArray' object has no attribute 'units'` or calculation\n  functions complaining about expecting a units and getting \"dimensionless\".\n\n"
      ]
    }
  ],
  "metadata": {
    "kernelspec": {
      "display_name": "Python 3",
      "language": "python",
      "name": "python3"
    },
    "language_info": {
      "codemirror_mode": {
        "name": "ipython",
        "version": 3
      },
      "file_extension": ".py",
      "mimetype": "text/x-python",
      "name": "python",
      "nbconvert_exporter": "python",
      "pygments_lexer": "ipython3",
      "version": "3.13.3"
    }
  },
  "nbformat": 4,
  "nbformat_minor": 0
}
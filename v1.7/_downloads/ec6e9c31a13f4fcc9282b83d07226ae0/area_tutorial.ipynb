{
  "cells": [
    {
      "cell_type": "markdown",
      "metadata": {},
      "source": [
        "\n# Using Predefined Areas with MetPy\n\nWhen plotting your data on a map you want to be able to plot the data in a useful area\nand with a projection that would match the areal extent well. Within MetPy we have generated\nmore than 400 pre-defined areas that also have associated projections, which you can use to\nmake quick plots over regions of interest with minimal effort on your part. While these were\nintended to be used with the MetPy declarative syntax, these areas and projections are now\naccessible for any use of plotting data on a map using Cartopy.\n"
      ]
    },
    {
      "cell_type": "code",
      "execution_count": null,
      "metadata": {
        "collapsed": false
      },
      "outputs": [],
      "source": [
        "from datetime import datetime, timedelta\n\nimport cartopy.crs as ccrs\nimport cartopy.feature as cfeature\nimport matplotlib.pyplot as plt\n\nfrom metpy.cbook import get_test_data\nfrom metpy.io import metar\nfrom metpy.plots import declarative, named_areas"
      ]
    },
    {
      "cell_type": "markdown",
      "metadata": {},
      "source": [
        "## Table of Predefined Areas\n\nHere is a full list of all of the areas currently in MetPy with their reference name,\ndescriptive name, and extent bounds.\n\n"
      ]
    },
    {
      "cell_type": "code",
      "execution_count": null,
      "metadata": {
        "collapsed": false
      },
      "outputs": [],
      "source": [
        "print('area      name                bounds')\nfor area in named_areas:\n    print(f'{named_areas[area].name:<10s}{named_areas[area].description:<20s}{named_areas[area].bounds}')"
      ]
    },
    {
      "cell_type": "markdown",
      "metadata": {},
      "source": [
        "## Example Using Bounds and Projection for an Area\n\nEach area string given in the table above have a descriptive name, extent bounds, and a\nprojection associated with each entry. We can pull any of this information to help us make a\nplot over the area domain.\n\n"
      ]
    },
    {
      "cell_type": "code",
      "execution_count": null,
      "metadata": {
        "collapsed": false
      },
      "outputs": [],
      "source": [
        "# Select the area string\narea = 'epac'\n\n# Get the extent and project for the selected area\nextent = named_areas[area].bounds\nproj = named_areas[area].projection\n\n# Plot a simple figure for the selected area\nplt.figure(1, figsize=(10, 10))\nax = plt.subplot(111, projection=proj)\nax.set_extent(extent, ccrs.PlateCarree())\nax.add_feature(cfeature.STATES.with_scale('10m'), edgecolor='grey', linewidth=0.75)\nax.add_feature(cfeature.COASTLINE.with_scale('10m'), linewidth=1.1)\nax.add_feature(cfeature.BORDERS.with_scale('10m'), edgecolor='black')\nax.set_title(f'area={area}          name={named_areas[area].description}'\n             f'\\nproj={proj.coordinate_operation.method_name}')\nplt.show()"
      ]
    },
    {
      "cell_type": "markdown",
      "metadata": {},
      "source": [
        "## Examaple Using Declarative Syntax\n\nHere is an example using a predefined area with the declarative plotting syntax for plotting\nsome surface observations.\n\n"
      ]
    },
    {
      "cell_type": "code",
      "execution_count": null,
      "metadata": {
        "collapsed": false
      },
      "outputs": [],
      "source": [
        "# Set the observation time\nobs_time = datetime(2019, 7, 1, 12)\n\n# Read in data\ndf = metar.parse_metar_file(get_test_data('metar_20190701_1200.txt', False), year=2019,\n                            month=7)\n\n# Plot desired data\nobs = declarative.PlotObs()\nobs.data = df\nobs.time = obs_time\nobs.time_window = timedelta(minutes=15)\nobs.level = None\nobs.fields = ['cloud_coverage', 'air_temperature', 'dew_point_temperature',\n              'air_pressure_at_sea_level', 'current_wx1_symbol']\nobs.plot_units = [None, 'degF', 'degF', None, None]\nobs.locations = ['C', 'NW', 'SW', 'NE', 'W']\nobs.formats = ['sky_cover', None, None, lambda v: format(v * 10, '.0f')[-3:],\n               'current_weather']\nobs.reduce_points = 0.75\nobs.vector_field = ['eastward_wind', 'northward_wind']\n\n# Panel for plot with Map features\npanel = declarative.MapPanel()\npanel.layout = (1, 1, 1)\npanel.projection = 'area'\npanel.area = 'in+'\npanel.layers = ['states']\npanel.title = f'Surface plot for {obs_time}'\npanel.plots = [obs]\n\n# Bringing it all together\npc = declarative.PanelContainer()\npc.size = (10, 10)\npc.panels = [panel]\n\npc.show()"
      ]
    }
  ],
  "metadata": {
    "kernelspec": {
      "display_name": "Python 3",
      "language": "python",
      "name": "python3"
    },
    "language_info": {
      "codemirror_mode": {
        "name": "ipython",
        "version": 3
      },
      "file_extension": ".py",
      "mimetype": "text/x-python",
      "name": "python",
      "nbconvert_exporter": "python",
      "pygments_lexer": "ipython3",
      "version": "3.13.3"
    }
  },
  "nbformat": 4,
  "nbformat_minor": 0
}
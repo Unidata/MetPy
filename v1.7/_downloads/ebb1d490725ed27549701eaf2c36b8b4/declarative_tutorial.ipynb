{
  "cells": [
    {
      "cell_type": "markdown",
      "metadata": {},
      "source": [
        "\n# MetPy Declarative Syntax Tutorial\n\nThe declarative syntax that is a part of the MetPy packaged is designed to aid in simple\ndata exploration and analysis needs by simplifying the plotting context from typical verbose\nPython code. The complexity of data wrangling and plotting are hidden behind the simplified\nsyntax to allow a lower barrier to investigating your data.\n"
      ]
    },
    {
      "cell_type": "markdown",
      "metadata": {},
      "source": [
        "## Imports\n\nYou'll note that the number of imports is smaller due to using the declarative syntax.\nThere is no need to import Matplotlib or Cartopy to your code as all of that is done\nbehind the scenes.\n\n"
      ]
    },
    {
      "cell_type": "code",
      "execution_count": null,
      "metadata": {
        "collapsed": false
      },
      "outputs": [],
      "source": [
        "from datetime import datetime, timedelta\n\nimport xarray as xr\n\nimport metpy.calc as mpcalc\nfrom metpy.cbook import get_test_data\nfrom metpy.io import metar\nfrom metpy.plots.declarative import (BarbPlot, ContourPlot, FilledContourPlot, MapPanel,\n                                     PanelContainer, PlotObs)\nfrom metpy.units import units"
      ]
    },
    {
      "cell_type": "markdown",
      "metadata": {},
      "source": [
        "## Getting Data\n\nDepending on what kind of data you are wanting to plot you'll use either Xarray (for gridded\ndata), Pandas (for CSV data), or the MetPy METAR parser (for METAR data).\n\nWe'll start this tutorial by reading in a gridded dataset using Xarray.\n\n"
      ]
    },
    {
      "cell_type": "code",
      "execution_count": null,
      "metadata": {
        "collapsed": false
      },
      "outputs": [],
      "source": [
        "# Open the netCDF file as a xarray Dataset and parse the full dataset\ndata = xr.open_dataset(get_test_data('GFS_test.nc', False)).metpy.parse_cf()\n\n# View a summary of the Dataset\nprint(data)"
      ]
    },
    {
      "cell_type": "markdown",
      "metadata": {},
      "source": [
        "## Set Datetime\n\nSet the date/time of that you desire to plot\n\n"
      ]
    },
    {
      "cell_type": "code",
      "execution_count": null,
      "metadata": {
        "collapsed": false
      },
      "outputs": [],
      "source": [
        "plot_time = datetime(2010, 10, 26, 12)"
      ]
    },
    {
      "cell_type": "markdown",
      "metadata": {},
      "source": [
        "## Subsetting Data\n\nMetPy provides wrappers for the usual xarray indexing and selection routines that can handle\nquantities with units. For DataArrays, MetPy also allows using the coordinate axis types\nmentioned above as aliases for the coordinates. And so, if we wanted data to be just over\nthe U.S. for plotting purposes\n\n"
      ]
    },
    {
      "cell_type": "code",
      "execution_count": null,
      "metadata": {
        "collapsed": false
      },
      "outputs": [],
      "source": [
        "ds = data.metpy.sel(lat=slice(70, 10), lon=slice(360 - 150, 360 - 55))"
      ]
    },
    {
      "cell_type": "markdown",
      "metadata": {},
      "source": [
        "For full details on xarray indexing/selection, see\n[xarray's documentation](https://docs.xarray.dev/en/stable/indexing.html).\n\n"
      ]
    },
    {
      "cell_type": "markdown",
      "metadata": {},
      "source": [
        "## Calculations\n\nIn MetPy 1.0 and later, calculation functions accept Xarray DataArray's as input and the\noutput a DataArray that can be easily added to an existing Dataset.\n\nAs an example, we calculate wind speed from the wind components and add it as a new variable\nto our Dataset.\n\n"
      ]
    },
    {
      "cell_type": "code",
      "execution_count": null,
      "metadata": {
        "collapsed": false
      },
      "outputs": [],
      "source": [
        "ds['wind_speed'] = mpcalc.wind_speed(ds['u-component_of_wind_isobaric'],\n                                     ds['v-component_of_wind_isobaric'])"
      ]
    },
    {
      "cell_type": "markdown",
      "metadata": {},
      "source": [
        "## Plotting\n\nWith that minimal preparation, we are now ready to use the simplified plotting syntax to be\nable to plot our data and analyze the meteorological situation.\n\nGeneral Structure\n\n1. Set contour attributes\n\n2. Set map characteristics and collect contours\n\n3. Collect panels and plot\n\n4. Show (or save) the results\n\nValid Plotting Types for Gridded Data:\n\n- ``ContourPlot()``\n\n- ``FilledContourPlot()``\n\n- ``ImagePlot()``\n\n- ``BarbPlot()``\n\nMore complete descriptions of these and other plotting types, as well as the map panel and\npanel container classes are at the end of this tutorial.\n\nLet's plot a 300-hPa map with color-filled wind speed, which we calculated and added to\nour Dataset above, and geopotential heights over the CONUS.\n\n"
      ]
    },
    {
      "cell_type": "markdown",
      "metadata": {},
      "source": [
        "We'll start by setting attributes for contours of Geopotential Heights at 300 hPa.\nWe need to set at least the data, field, level, and time attributes. We'll set a few others\nto have greater control over hour the data is plotted.\n\n"
      ]
    },
    {
      "cell_type": "code",
      "execution_count": null,
      "metadata": {
        "collapsed": false
      },
      "outputs": [],
      "source": [
        "# Set attributes for contours of Geopotential Heights at 300 hPa\ncntr2 = ContourPlot()\ncntr2.data = ds\ncntr2.field = 'Geopotential_height_isobaric'\ncntr2.level = 300 * units.hPa\ncntr2.time = plot_time\ncntr2.contours = list(range(0, 10000, 120))\ncntr2.linecolor = 'black'\ncntr2.linestyle = 'solid'\ncntr2.clabels = True"
      ]
    },
    {
      "cell_type": "markdown",
      "metadata": {},
      "source": [
        "Now we'll set the attributes for plotting color-filled contours of wind speed at 300 hPa.\nAgain, the attributes that must be set include data, field, level, and time. We'll also set\na colormap and colorbar to be purposeful for wind speed. Additionally, we'll set the\nattribute to change the units from m/s to knots, which is the common plotting units for\nwind speed.\n\n"
      ]
    },
    {
      "cell_type": "code",
      "execution_count": null,
      "metadata": {
        "collapsed": false
      },
      "outputs": [],
      "source": [
        "# Set attributes for plotting color-filled contours of wind speed at 300 hPa\ncfill = FilledContourPlot()\ncfill.data = ds\ncfill.field = 'wind_speed'\ncfill.level = 300 * units.hPa\ncfill.time = plot_time\ncfill.contours = list(range(10, 201, 20))\ncfill.colormap = 'BuPu'\ncfill.colorbar = 'horizontal'\ncfill.plot_units = 'knot'"
      ]
    },
    {
      "cell_type": "markdown",
      "metadata": {},
      "source": [
        "Once we have our contours (and any colorfill plots) set up, we will want to define the map\npanel that we'll plot the data on. This is the place where we can set the view extent,\nprojection of our plot, add map lines like coastlines and states, set a plot title.\nOne of the key elements is to add the data to the map panel as a list with the plots\nattribute.\n\n"
      ]
    },
    {
      "cell_type": "code",
      "execution_count": null,
      "metadata": {
        "collapsed": false
      },
      "outputs": [],
      "source": [
        "# Set the attributes for the map and add our data to the map\npanel = MapPanel()\npanel.area = [-125, -74, 20, 55]\npanel.projection = 'lcc'\npanel.layers = ['states', 'coastline', 'borders']\npanel.title = f'{cfill.level.m}-hPa Heights and Wind Speed at {plot_time}'\npanel.plots = [cfill, cntr2]"
      ]
    },
    {
      "cell_type": "markdown",
      "metadata": {},
      "source": [
        "Finally we'll collect all the panels to plot on the figure, set the size of the figure,\nand ultimately show or save the figure.\n\n"
      ]
    },
    {
      "cell_type": "code",
      "execution_count": null,
      "metadata": {
        "collapsed": false
      },
      "outputs": [],
      "source": [
        "# Set the attributes for the panel and put the panel in the figure\npc = PanelContainer()\npc.size = (15, 15)\npc.panels = [panel]"
      ]
    },
    {
      "cell_type": "markdown",
      "metadata": {},
      "source": [
        "All of our setting now produce the following map!\n\n"
      ]
    },
    {
      "cell_type": "code",
      "execution_count": null,
      "metadata": {
        "collapsed": false
      },
      "outputs": [],
      "source": [
        "# Show the image\npc.show()"
      ]
    },
    {
      "cell_type": "markdown",
      "metadata": {},
      "source": [
        "That's it! What a nice looking map, with relatively simple set of code.\n\n"
      ]
    },
    {
      "cell_type": "markdown",
      "metadata": {},
      "source": [
        "## Adding Wind Barbs\n\nWe can easily add wind barbs to the plot we generated above by adding another plot type\nand adding it to the panel. The plot type for wind barbs is ``BarbPlot()`` and has its own\nset of attributes to control plotting a vector quantity.\n\n"
      ]
    },
    {
      "cell_type": "markdown",
      "metadata": {},
      "source": [
        "We start with setting the attributes that we had before for our 300 hPa plot including,\nGeopotential Height contours, and color-filled wind speed.\n\n"
      ]
    },
    {
      "cell_type": "code",
      "execution_count": null,
      "metadata": {
        "collapsed": false
      },
      "outputs": [],
      "source": [
        "# Set attributes for contours of Geopotential Heights at 300 hPa\ncntr2 = ContourPlot()\ncntr2.data = ds\ncntr2.field = 'Geopotential_height_isobaric'\ncntr2.level = 300 * units.hPa\ncntr2.time = plot_time\ncntr2.contours = list(range(0, 10000, 120))\ncntr2.linecolor = 'black'\ncntr2.linestyle = 'solid'\ncntr2.clabels = True\n\n# Set attributes for plotting color-filled contours of wind speed at 300 hPa\ncfill = FilledContourPlot()\ncfill.data = ds\ncfill.field = 'wind_speed'\ncfill.level = 300 * units.hPa\ncfill.time = plot_time\ncfill.contours = list(range(10, 201, 20))\ncfill.colormap = 'BuPu'\ncfill.colorbar = 'horizontal'\ncfill.plot_units = 'knot'"
      ]
    },
    {
      "cell_type": "markdown",
      "metadata": {},
      "source": [
        "Now we'll set the attributes for plotting wind barbs, with the required attributes of data,\ntime, field, and level. The skip attribute is particularly useful for thinning the number of\nwind barbs that are plotted on the map. Again we convert to units of knots.\n\n"
      ]
    },
    {
      "cell_type": "code",
      "execution_count": null,
      "metadata": {
        "collapsed": false
      },
      "outputs": [],
      "source": [
        "# Set attributes for plotting wind barbs\nbarbs = BarbPlot()\nbarbs.data = ds\nbarbs.time = plot_time\nbarbs.field = ['u-component_of_wind_isobaric', 'v-component_of_wind_isobaric']\nbarbs.level = 300 * units.hPa\nbarbs.skip = (3, 3)\nbarbs.plot_units = 'knot'"
      ]
    },
    {
      "cell_type": "markdown",
      "metadata": {},
      "source": [
        "Add all of our plot types to the panel, don't forget to add in the new wind barbs to our plot\nlist!\n\n"
      ]
    },
    {
      "cell_type": "code",
      "execution_count": null,
      "metadata": {
        "collapsed": false
      },
      "outputs": [],
      "source": [
        "# Set the attributes for the map and add our data to the map\npanel = MapPanel()\npanel.area = [-125, -74, 20, 55]\npanel.projection = 'lcc'\npanel.layers = ['states', 'coastline', 'borders']\npanel.title = f'{cfill.level.m}-hPa Heights and Wind Speed at {plot_time}'\npanel.plots = [cfill, cntr2, barbs]\n\n# Set the attributes for the panel and put the panel in the figure\npc = PanelContainer()\npc.size = (15, 15)\npc.panels = [panel]\n\n# Show the figure\npc.show()"
      ]
    },
    {
      "cell_type": "markdown",
      "metadata": {},
      "source": [
        "## Plot Surface Obs\n\nWe can also plot surface (or upper-air) observations at point locations using the simplified\nsyntax. Whether it is surface or upper-air data, the ``PlotObs()`` class is what you would\nwant to use. Then you would add those observations to a map panel and then collect the panels\nto plot the figure; similar to what you would do for a gridded plot.\n\n"
      ]
    },
    {
      "cell_type": "code",
      "execution_count": null,
      "metadata": {
        "collapsed": false
      },
      "outputs": [],
      "source": [
        "df = metar.parse_metar_file(get_test_data('metar_20190701_1200.txt', False), year=2019,\n                            month=7)\n\n# Let's take a look at the variables that we could plot coming from our METAR observations.\nprint(df.keys())\n\n# Set the observation time\nobs_time = datetime(2019, 7, 1, 12)"
      ]
    },
    {
      "cell_type": "markdown",
      "metadata": {},
      "source": [
        "Setting of our attributes for plotting observations is pretty straightforward and just needs\nto be lists for the variables, and a comparable number of items for plot characteristics that\nare specific to the individual fields. For example, the locations around a station plot, the\nplot units, and any plotting formats would all need to have the same number of items as the\nfields attribute.\n\nPlotting wind bards is done through the vector_field attribute. You can reduce the number\nof points plotted (especially important for surface observations) with the ``reduce_points``\nattribute.\n\nFor a very basic plot of one field, the minimum required attributes are the data, time,\nfields, and location attributes.\n\n"
      ]
    },
    {
      "cell_type": "code",
      "execution_count": null,
      "metadata": {
        "collapsed": false
      },
      "outputs": [],
      "source": [
        "# Plot desired data\nobs = PlotObs()\nobs.data = df\nobs.time = obs_time\nobs.time_window = timedelta(minutes=15)\nobs.level = None\nobs.fields = ['cloud_coverage', 'air_temperature', 'dew_point_temperature',\n              'air_pressure_at_sea_level', 'current_wx1_symbol']\nobs.plot_units = [None, 'degF', 'degF', None, None]\nobs.locations = ['C', 'NW', 'SW', 'NE', 'W']\nobs.formats = ['sky_cover', None, None, lambda v: format(v * 10, '.0f')[-3:],\n               'current_weather']\nobs.reduce_points = 0.75\nobs.vector_field = ['eastward_wind', 'northward_wind']"
      ]
    },
    {
      "cell_type": "markdown",
      "metadata": {},
      "source": [
        "We use the same Classes for plotting our data on a map panel and collecting all the\npanels on the figure. In this case we'll focus in on the state of Indiana for plotting.\n\n"
      ]
    },
    {
      "cell_type": "code",
      "execution_count": null,
      "metadata": {
        "collapsed": false
      },
      "outputs": [],
      "source": [
        "# Panel for plot with Map features\npanel = MapPanel()\npanel.layout = (1, 1, 1)\npanel.projection = 'lcc'\npanel.area = 'in'\npanel.layers = ['states']\npanel.title = f'Surface plot for {obs_time}'\npanel.plots = [obs]\n\n# Bringing it all together\npc = PanelContainer()\npc.size = (10, 10)\npc.panels = [panel]\n\npc.show()"
      ]
    },
    {
      "cell_type": "markdown",
      "metadata": {},
      "source": [
        "## Detailed Attribute Descriptions\n\nThis final section contains verbose descriptions of the attributes that can be set by the\nplot types used in this tutorial.\n\n"
      ]
    },
    {
      "cell_type": "markdown",
      "metadata": {},
      "source": [
        "## ContourPlot()\n\nThis class is designed to plot contours of gridded data, most commonly model output from the\nGFS, NAM, RAP, or other gridded dataset (e.g., NARR).\n\nAttributes:\n\n``data``\n\nThis attribute must be set with the variable name that contains the xarray dataset.\n(Typically this is the variable ds)\n\n``field``\n\nThis attribute must be set with the name of the variable that you want to contour.\nFor example, to plot the heights of pressure surfaces from the GFS you would use the name\n``\u2018Geopotential_height_isobaric\u2019``\n\n``level``\n\nThis attribute sets the level of the data you wish to plot. If it is a pressure level,\nthen it must be set to a unit bearing value (e.g., 500*units.hPa). If the variable does\nnot have any vertical levels (e.g., mean sea-level pressure), then the level attribute must\nbe set to None.\n\n``time``\n\nThis attribute must be set with a datetime object, just as with the ``PlotObs()`` class.\nTo get a forecast hour, you can use the timedelta function from datetime to add the number of\nhours into the future you wish to plot. For example, if you wanted the six hour forecast from\nthe 00 UTC 2 February 2020 model run, then you would set the attribute with:\n\n``datetime(2020, 2, 2, 0) + timedelta(hours=6)``\n\n``contours``\n\nThis attribute sets the contour values to be plotted with a list. This can be set manually\nwith a list of integers in square brackets (e.g., ``[5400, 5460, 5520, 5580, 5640, 5700]``)\nor programmatically (e.g., ``list(range(0, 10000, 60))``). The second method is a way to\neasily set a contour interval (in this case 60).\n\n``clabel``\n\nThis attribute can be set to ``True`` if you desire to have your contours labeled.\n\n``linestyle``\n\nThis attribute can be set to make the contours ``\u2018solid\u2019``, ``\u2018dashed\u2019``, ``\u2018dotted\u2019``,\nor ``\u2018dashdot\u2019``. Other linestyles are can be used and are found at:\nhttps://matplotlib.org/3.1.0/gallery/lines_bars_and_markers/linestyles.html\n\nDefault is ``\u2018solid\u2019``.\n\n``linewidth``\n\nThis attribute alters the width of the contours (defaults to 1). Setting the value greater\nthan 1 will yield a thicker contour line.\n\n``linecolor``\n\nThis attribute sets the color of the contour lines. Default is ``\u2018black\u2019``. All colors from\nmatplotlib are valid: https://matplotlib.org/3.1.0/_images/sphx_glr_named_colors_003.png\n\n``plot_units``\n\nIf you want to change the units for plotting purposes, add the string value of the units\ndesired. For example, if you want to plot temperature in Celsius, then set this attribute\nto ``\u2018degC\u2019``.\n\n``scale``\n\nThis attribute will scale the field by multiplying by the scale. For example, to\nscale vorticity to be whole values for contouring you could set the scale to 1e5, such that\nthe data values will be multiplied by 10^5.\n\n"
      ]
    },
    {
      "cell_type": "markdown",
      "metadata": {},
      "source": [
        "## FilledContourPlot()\n\nWorks very similarly to ``ContourPlot()``, except that contours are filled using a colormap\nbetween contour values. All attributes for ``ContourPlot()`` work for color-filled plots,\nexcept for linestyle, linecolor, and linewidth. Additionally, there are the following\nattributes that work for color-filling:\n\nAttributes:\n\n``colormap``\n\nThis attribute is used to set a valid colormap from either Matplotlib or MetPy:\nMatplotlib Colormaps: https://matplotlib.org/3.1.1/gallery/color/colormap_reference.html\nMetPy Colormaps: https://unidata.github.io/MetPy/v1.0/api/generated/metpy.plots.ctables.html\n\n``colorbar``\n\nThis attribute can be set to ``\u2018vertical\u2019`` or ``\u2018horizontal\u2019``, which is the location the\ncolorbar will be plotted on the panel.\n\n``image_range``\n\nA set of values indicating the minimum and maximum for the data being plotted. This\nattribute should be set as ``(min_value, max_value)``, where min_value and max_value are\nnumeric values.\n\n"
      ]
    },
    {
      "cell_type": "markdown",
      "metadata": {},
      "source": [
        "## PanelContainer()\n\nAttributes:\n\n``size``\n\nThe size of the figure in inches (e.g., (10, 8))\n\n``panels``\n\nA list collecting the panels to be plotted in the figure.\n\n``show``\n\nShow the plot\n\n``save``\n\nSave the figure using the Matplotlib arguments/keyword arguments\n\n"
      ]
    },
    {
      "cell_type": "markdown",
      "metadata": {},
      "source": [
        "## MapPanel()\n\nAttributes:\n\n``layout``\n\nThe Matplotlib layout of the figure. For a single panel figure the setting should be\n``(1, 1, 1)``\n\n``projection``\n\nThe projection can be set with the name of a default projection (``\u2018lcc\u2019``, ``\u2018mer\u2019``, or\n``\u2018ps\u2019``) or it can be set to a Cartopy projection.\n\n``layers``\n\nThis attribute will add map layers to identify boundaries or features to plot on the map.\nValid layers are ``'borders'``, ``'coastline'``, ``'states'``, ``'lakes'``, ``'land'``,\n``'ocean'``, ``'rivers'``, ``'counties'``.\n\n``area``\n\nThis attribute sets the geographical area of the panel. This can be set with a predefined\nname of an area including all US state postal abbreviations (e.g., ``\u2018us\u2019``, ``\u2018natl\u2019``,\n``\u2018in\u2019``, ``\u2018il\u2019``, ``\u2018wi\u2019``, ``\u2018mi\u2019``, etc.) or a tuple value that corresponds to\nlongitude/latitude box based on the projection of the map with the format\n``(west-most longitude, east-most longitude, south-most latitude, north-most latitude)``.\nThis tuple defines a box from the lower-left to the upper-right corner.\n\n``title``\n\nThis attribute sets a title for the panel.\n\n``plots``\n\nA list collecting the observations to be plotted in the panel.\n\n"
      ]
    },
    {
      "cell_type": "markdown",
      "metadata": {},
      "source": [
        "## BarbPlot()\n\nThis plot class is used to add wind barbs to the plot with the following\n\nAttributes:\n\n``data``\n\nThis attribute must be set to the variable that contains the vector components to be plotted.\n\n``field``\n\nThis attribute is a list of the vector components to be plotted. For the typical\nmeteorological case it would be the ``[\u2018u-component\u2019, \u2018v-component\u2019]``.\n\n``time``\n\nThis attribute should be set to a datetime object, the same as for all other declarative\nclasses.\n\n``barblength``\n\nThis attribute sets the length of the wind barbs. The default value is based on the\nfont size.\n\n``color``\n\nThis attribute sets the color of the wind barbs, which can be any Matplotlib color.\nDefault color is ``\u2018black\u2019``.\n\n``earth_relative``\n\nThis attribute can be set to False if the vector components are grid relative (e.g., for NAM\nor NARR output)\n\n``pivot``\n\nThis attribute can be set to a string value about where the wind barb will pivot relative to\nthe grid point. Possible values include ``\u2018tip\u2019`` or ``\u2018middle\u2019``. Default is ``\u2018middle\u2019``.\n\n"
      ]
    },
    {
      "cell_type": "markdown",
      "metadata": {},
      "source": [
        "## PlotObs()\n\nThis class is used to plot point observations from the surface or upper-air.\n\nAttributes:\n\n``data``\n\nThis attribute needs to be set to the DataFrame variable containing the fields that you\ndesire to plot.\n\n``fields``\n\nThis attribute is a list of variable names from your DataFrame that you desire to plot at the\ngiven locations around the station model.\n\n``level``\n\nFor a surface plot this needs to be set to None.\n\n``time``\n\nThis attribute needs to be set to subset your data attribute for the time of the observations\nto be plotted. This needs to be a datetime object.\n\n``locations``\n\nThis attribute sets the location of the fields to be plotted around the surface station\nmodel. The default location is center ``(\u2018C\u2019)``\n\n``time_window``\n\nThis attribute allows you to define a window for valid observations (e.g., 15 minutes on\neither side of the datetime object setting. This is important for surface data since actual\nobserved times are not all exactly on the hour. If multiple observations exist in the defined\nwindow, the most recent observations is retained for plotting purposes.\n\n``formats``\n\nThis attribute sets a formatter for text or plotting symbols around the station model. For\nexample, plotting mean sea-level pressure is done in a three-digit code and a formatter can\nbe used to achieve that on the station plot.\n\nMSLP Formatter: ``lambda v: format(10 * v, '.0f')[-3:]``\n\nFor plotting symbols use the available MetPy options through their name. Valid symbol formats\nare ``'current_weather'``, ``'sky_cover'``, ``'low_clouds'``, ``'mid_clouds'``,\n``'high_clouds'``, and ``'pressure_tendency'``.\n\n``colors``\n\nThis attribute can change the color of the plotted observation. Default is ``\u2018black\u2019``.\nAcceptable colors are those available through Matplotlib:\nhttps://matplotlib.org/3.1.1/_images/sphx_glr_named_colors_003.png\n\n``vector_field``\n\nThis attribute can be set to a list of wind component values for plotting\n(e.g., ``[\u2018uwind\u2019, \u2018vwind\u2019]``)\n\n``vector_field_color``\n\nSame as colors except only controls the color of the wind barbs. Default is ``\u2018black\u2019``.\n\n``reduce_points``\n\nThis attribute can be set to a real number to reduce the number of stations that are plotted.\nDefault value is zero (e.g., no points are removed from the plot).\n\n"
      ]
    }
  ],
  "metadata": {
    "kernelspec": {
      "display_name": "Python 3",
      "language": "python",
      "name": "python3"
    },
    "language_info": {
      "codemirror_mode": {
        "name": "ipython",
        "version": 3
      },
      "file_extension": ".py",
      "mimetype": "text/x-python",
      "name": "python",
      "nbconvert_exporter": "python",
      "pygments_lexer": "ipython3",
      "version": "3.13.3"
    }
  },
  "nbformat": 4,
  "nbformat_minor": 0
}
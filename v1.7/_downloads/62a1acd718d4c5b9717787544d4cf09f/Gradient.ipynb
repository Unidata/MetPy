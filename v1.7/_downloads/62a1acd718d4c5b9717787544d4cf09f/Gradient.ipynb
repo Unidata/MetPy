{
  "cells": [
    {
      "cell_type": "markdown",
      "metadata": {},
      "source": [
        "\n# Gradient\n\nUse `metpy.calc.gradient`.\n\nThis example demonstrates the various ways that MetPy's gradient function\ncan be utilized.\n"
      ]
    },
    {
      "cell_type": "code",
      "execution_count": null,
      "metadata": {
        "collapsed": false
      },
      "outputs": [],
      "source": [
        "import numpy as np\n\nimport metpy.calc as mpcalc\nfrom metpy.units import units"
      ]
    },
    {
      "cell_type": "markdown",
      "metadata": {},
      "source": [
        "Create some test data to use for our example\n\n"
      ]
    },
    {
      "cell_type": "code",
      "execution_count": null,
      "metadata": {
        "collapsed": false
      },
      "outputs": [],
      "source": [
        "data = np.array([[23, 24, 23],\n                 [25, 26, 25],\n                 [27, 28, 27],\n                 [24, 25, 24]]) * units.degC\n\n# Create an array of x position data (the coordinates of our temperature data)\nx = np.array([[1, 2, 3],\n              [1, 2, 3],\n              [1, 2, 3],\n              [1, 2, 3]]) * units.kilometer\n\ny = np.array([[1, 1, 1],\n              [2, 2, 2],\n              [3, 3, 3],\n              [4, 4, 4]]) * units.kilometer"
      ]
    },
    {
      "cell_type": "markdown",
      "metadata": {},
      "source": [
        "Calculate the gradient using the coordinates of the data\n\n"
      ]
    },
    {
      "cell_type": "code",
      "execution_count": null,
      "metadata": {
        "collapsed": false
      },
      "outputs": [],
      "source": [
        "grad = mpcalc.gradient(data, coordinates=(y, x))\nprint('Gradient in y direction: ', grad[0])\nprint('Gradient in x direction: ', grad[1])"
      ]
    },
    {
      "cell_type": "markdown",
      "metadata": {},
      "source": [
        "It's also possible that we do not have the position of data points, but know\nthat they are evenly spaced. We can then specify a scalar delta value for each\naxes.\n\n"
      ]
    },
    {
      "cell_type": "code",
      "execution_count": null,
      "metadata": {
        "collapsed": false
      },
      "outputs": [],
      "source": [
        "x_delta = 2 * units.km\ny_delta = 1 * units.km\ngrad = mpcalc.gradient(data, deltas=(y_delta, x_delta))\nprint('Gradient in y direction: ', grad[0])\nprint('Gradient in x direction: ', grad[1])"
      ]
    },
    {
      "cell_type": "markdown",
      "metadata": {},
      "source": [
        "Finally, the deltas can be arrays for unevenly spaced data.\n\n"
      ]
    },
    {
      "cell_type": "code",
      "execution_count": null,
      "metadata": {
        "collapsed": false
      },
      "outputs": [],
      "source": [
        "x_deltas = np.array([[2, 3],\n                     [1, 3],\n                     [2, 3],\n                     [1, 2]]) * units.kilometer\ny_deltas = np.array([[2, 3, 1],\n                     [1, 3, 2],\n                     [2, 3, 1]]) * units.kilometer\ngrad = mpcalc.gradient(data, deltas=(y_deltas, x_deltas))\nprint('Gradient in y direction: ', grad[0])\nprint('Gradient in x direction: ', grad[1])"
      ]
    }
  ],
  "metadata": {
    "kernelspec": {
      "display_name": "Python 3",
      "language": "python",
      "name": "python3"
    },
    "language_info": {
      "codemirror_mode": {
        "name": "ipython",
        "version": 3
      },
      "file_extension": ".py",
      "mimetype": "text/x-python",
      "name": "python",
      "nbconvert_exporter": "python",
      "pygments_lexer": "ipython3",
      "version": "3.13.3"
    }
  },
  "nbformat": 4,
  "nbformat_minor": 0
}
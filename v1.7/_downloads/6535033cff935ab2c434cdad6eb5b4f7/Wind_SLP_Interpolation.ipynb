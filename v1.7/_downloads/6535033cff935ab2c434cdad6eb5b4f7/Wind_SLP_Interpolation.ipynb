{
  "cells": [
    {
      "cell_type": "markdown",
      "metadata": {},
      "source": [
        "\n# Wind and Sea Level Pressure Interpolation\n\nInterpolate sea level pressure, as well as wind component data,\nto make a consistent looking analysis, featuring contours of pressure and wind barbs.\n"
      ]
    },
    {
      "cell_type": "code",
      "execution_count": null,
      "metadata": {
        "collapsed": false
      },
      "outputs": [],
      "source": [
        "import cartopy.crs as ccrs\nimport cartopy.feature as cfeature\nfrom matplotlib.colors import BoundaryNorm\nimport matplotlib.pyplot as plt\nimport numpy as np\nimport pandas as pd\n\nfrom metpy.calc import wind_components\nfrom metpy.cbook import get_test_data\nfrom metpy.interpolate import interpolate_to_grid, remove_nan_observations\nfrom metpy.plots import add_metpy_logo\nfrom metpy.units import units\n\nto_proj = ccrs.AlbersEqualArea(central_longitude=-97., central_latitude=38.)"
      ]
    },
    {
      "cell_type": "markdown",
      "metadata": {},
      "source": [
        "Read in data\n\n"
      ]
    },
    {
      "cell_type": "code",
      "execution_count": null,
      "metadata": {
        "collapsed": false
      },
      "outputs": [],
      "source": [
        "with get_test_data('station_data.txt') as f:\n    data = pd.read_csv(f, header=0, usecols=(2, 3, 4, 5, 18, 19),\n                       names=['latitude', 'longitude', 'slp', 'temperature', 'wind_dir',\n                              'wind_speed'],\n                       na_values=-99999)"
      ]
    },
    {
      "cell_type": "markdown",
      "metadata": {},
      "source": [
        "Project the lon/lat locations to our final projection\n\n"
      ]
    },
    {
      "cell_type": "code",
      "execution_count": null,
      "metadata": {
        "collapsed": false
      },
      "outputs": [],
      "source": [
        "lon = data['longitude'].values\nlat = data['latitude'].values\nxp, yp, _ = to_proj.transform_points(ccrs.Geodetic(), lon, lat).T"
      ]
    },
    {
      "cell_type": "markdown",
      "metadata": {},
      "source": [
        "Remove all missing data from pressure\n\n"
      ]
    },
    {
      "cell_type": "code",
      "execution_count": null,
      "metadata": {
        "collapsed": false
      },
      "outputs": [],
      "source": [
        "x_masked, y_masked, pressure = remove_nan_observations(xp, yp, data['slp'].values)"
      ]
    },
    {
      "cell_type": "markdown",
      "metadata": {},
      "source": [
        "Interpolate pressure using Cressman interpolation\n\n"
      ]
    },
    {
      "cell_type": "code",
      "execution_count": null,
      "metadata": {
        "collapsed": false
      },
      "outputs": [],
      "source": [
        "slpgridx, slpgridy, slp = interpolate_to_grid(x_masked, y_masked, pressure,\n                                              interp_type='cressman', minimum_neighbors=1,\n                                              search_radius=400000, hres=100000)"
      ]
    },
    {
      "cell_type": "markdown",
      "metadata": {},
      "source": [
        "Get wind information and mask where either speed or direction is unavailable\n\n"
      ]
    },
    {
      "cell_type": "code",
      "execution_count": null,
      "metadata": {
        "collapsed": false
      },
      "outputs": [],
      "source": [
        "wind_speed = (data['wind_speed'].values * units('m/s')).to('knots')\nwind_dir = data['wind_dir'].values * units.degree\n\ngood_indices = np.where((~np.isnan(wind_dir)) & (~np.isnan(wind_speed)))\n\nx_masked = xp[good_indices]\ny_masked = yp[good_indices]\nwind_speed = wind_speed[good_indices]\nwind_dir = wind_dir[good_indices]"
      ]
    },
    {
      "cell_type": "markdown",
      "metadata": {},
      "source": [
        "Calculate u and v components of wind and then interpolate both.\n\nBoth will have the same underlying grid so throw away grid returned from v interpolation.\n\n"
      ]
    },
    {
      "cell_type": "code",
      "execution_count": null,
      "metadata": {
        "collapsed": false
      },
      "outputs": [],
      "source": [
        "u, v = wind_components(wind_speed, wind_dir)\n\nwindgridx, windgridy, uwind = interpolate_to_grid(x_masked, y_masked, np.array(u),\n                                                  interp_type='cressman', search_radius=400000,\n                                                  hres=100000)\n\n_, _, vwind = interpolate_to_grid(x_masked, y_masked, np.array(v), interp_type='cressman',\n                                  search_radius=400000, hres=100000)"
      ]
    },
    {
      "cell_type": "markdown",
      "metadata": {},
      "source": [
        "Get temperature information\n\n"
      ]
    },
    {
      "cell_type": "code",
      "execution_count": null,
      "metadata": {
        "collapsed": false
      },
      "outputs": [],
      "source": [
        "x_masked, y_masked, t = remove_nan_observations(xp, yp, data['temperature'].values)\ntempx, tempy, temp = interpolate_to_grid(x_masked, y_masked, t, interp_type='cressman',\n                                         minimum_neighbors=3, search_radius=400000, hres=35000)\n\ntemp = np.ma.masked_where(np.isnan(temp), temp)"
      ]
    },
    {
      "cell_type": "markdown",
      "metadata": {},
      "source": [
        "Set up the map and plot the interpolated grids appropriately.\n\n"
      ]
    },
    {
      "cell_type": "code",
      "execution_count": null,
      "metadata": {
        "collapsed": false
      },
      "outputs": [],
      "source": [
        "levels = list(range(-20, 20, 1))\ncmap = plt.get_cmap('viridis')\nnorm = BoundaryNorm(levels, ncolors=cmap.N, clip=True)\n\nfig = plt.figure(figsize=(20, 10))\nadd_metpy_logo(fig, 360, 120, size='large')\nview = fig.add_subplot(1, 1, 1, projection=to_proj)\n\nview.set_extent([-120, -70, 20, 50])\nview.add_feature(cfeature.STATES.with_scale('50m'))\nview.add_feature(cfeature.OCEAN)\nview.add_feature(cfeature.COASTLINE.with_scale('50m'))\nview.add_feature(cfeature.BORDERS, linestyle=':')\n\ncs = view.contour(slpgridx, slpgridy, slp, colors='k', levels=list(range(990, 1034, 4)))\nview.clabel(cs, inline=1, fontsize=12, fmt='%i')\n\nmmb = view.pcolormesh(tempx, tempy, temp, cmap=cmap, norm=norm)\nfig.colorbar(mmb, shrink=.4, pad=0.02, boundaries=levels)\n\nview.barbs(windgridx, windgridy, uwind, vwind, alpha=.4, length=5)\n\nview.set_title('Surface Temperature (shaded), SLP, and Wind.')\n\nplt.show()"
      ]
    }
  ],
  "metadata": {
    "kernelspec": {
      "display_name": "Python 3",
      "language": "python",
      "name": "python3"
    },
    "language_info": {
      "codemirror_mode": {
        "name": "ipython",
        "version": 3
      },
      "file_extension": ".py",
      "mimetype": "text/x-python",
      "name": "python",
      "nbconvert_exporter": "python",
      "pygments_lexer": "ipython3",
      "version": "3.13.3"
    }
  },
  "nbformat": 4,
  "nbformat_minor": 0
}
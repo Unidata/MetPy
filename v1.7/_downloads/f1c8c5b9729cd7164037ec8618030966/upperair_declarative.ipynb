{
  "cells": [
    {
      "cell_type": "markdown",
      "metadata": {},
      "source": [
        "\n# Upper Air Analysis using Declarative Syntax\n\nThe MetPy declarative syntax allows for a simplified interface to creating common\nmeteorological analyses including upper air observation plots.\n"
      ]
    },
    {
      "cell_type": "code",
      "execution_count": null,
      "metadata": {
        "collapsed": false
      },
      "outputs": [],
      "source": [
        "from datetime import datetime\n\nimport pandas as pd\n\nfrom metpy.cbook import get_test_data\nimport metpy.plots as mpplots\nfrom metpy.units import units"
      ]
    },
    {
      "cell_type": "markdown",
      "metadata": {},
      "source": [
        "**Getting the data**\n\nIn this example, data is originally from the Iowa State Upper-air archive\n(https://mesonet.agron.iastate.edu/archive/raob/) available through a Siphon method.\nThe data are pre-processed to attach latitude/longitude locations for each RAOB site.\n\n"
      ]
    },
    {
      "cell_type": "code",
      "execution_count": null,
      "metadata": {
        "collapsed": false
      },
      "outputs": [],
      "source": [
        "data = pd.read_csv(get_test_data('UPA_obs.csv', as_file_obj=False))\n\n# In a real-world case, you could obtain and preprocess the data with code such as\n# from siphon.simplewebservice.iastate import IAStateUpperAir\n# from metpy.io import add_station_lat_lon\n\n# data = IAStateUpperAir().request_all_data(datetime(2021, 8, 25, 12))\n# data = add_station_lat_lon(data)"
      ]
    },
    {
      "cell_type": "markdown",
      "metadata": {},
      "source": [
        "**Plotting the data**\n\nUse the declarative plotting interface to create a CONUS upper-air map for 500 hPa\n\n"
      ]
    },
    {
      "cell_type": "code",
      "execution_count": null,
      "metadata": {
        "collapsed": false
      },
      "outputs": [],
      "source": [
        "# Plotting the Observations\nobs = mpplots.PlotObs()\nobs.data = data\nobs.time = datetime(1993, 3, 14, 0)\nobs.level = 500 * units.hPa\nobs.fields = ['temperature', 'dewpoint', 'height']\nobs.locations = ['NW', 'SW', 'NE']\nobs.formats = [None, None, lambda v: format(v, '.0f')[:3]]\nobs.vector_field = ('u_wind', 'v_wind')\nobs.reduce_points = 0\n\n# Add map features for the particular panel\npanel = mpplots.MapPanel()\npanel.layout = (1, 1, 1)\npanel.area = (-124, -72, 20, 53)\npanel.projection = 'lcc'\npanel.layers = ['coastline', 'borders', 'states', 'land', 'ocean']\npanel.plots = [obs]\n\n# Collecting panels for complete figure\npc = mpplots.PanelContainer()\npc.size = (15, 10)\npc.panels = [panel]\n\n# Showing the results\npc.show()"
      ]
    }
  ],
  "metadata": {
    "kernelspec": {
      "display_name": "Python 3",
      "language": "python",
      "name": "python3"
    },
    "language_info": {
      "codemirror_mode": {
        "name": "ipython",
        "version": 3
      },
      "file_extension": ".py",
      "mimetype": "text/x-python",
      "name": "python",
      "nbconvert_exporter": "python",
      "pygments_lexer": "ipython3",
      "version": "3.13.3"
    }
  },
  "nbformat": 4,
  "nbformat_minor": 0
}
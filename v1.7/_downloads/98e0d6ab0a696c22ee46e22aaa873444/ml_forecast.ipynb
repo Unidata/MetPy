{
  "cells": [
    {
      "cell_type": "markdown",
      "metadata": {},
      "source": [
        "\n# ML Weather Prediction Access and Plotting\n\nUse MetPy to access machine learning weather prediction (MLWP) data in AWS S3 and plot using\nthe simplified plotting interface.\n"
      ]
    },
    {
      "cell_type": "code",
      "execution_count": null,
      "metadata": {
        "collapsed": false
      },
      "outputs": [],
      "source": [
        "from datetime import datetime\n\nfrom metpy.plots import MapPanel, PanelContainer, RasterPlot\nfrom metpy.remote import MLWPArchive\n\n###################\n# Access the GraphCast forecast closest to the desired date/time\ndt = datetime(2025, 2, 15, 18)\nds = MLWPArchive().get_product('graphcast', dt).access()\n\n###################\n# Plot the data using MetPy's simplified plotting interface.\nraster = RasterPlot()\nraster.data = ds\nraster.field = 't2'\nraster.time = dt\nraster.colorbar = 'horizontal'\nraster.colormap = 'RdBu_r'\n\npanel = MapPanel()\npanel.area = 'co'\npanel.projection = 'lcc'\npanel.layers = ['coastline', 'borders', 'states']\npanel.plots = [raster]\npanel.title = f\"{ds[raster.field].attrs['long_name']} @ {dt}\"\n\npc = PanelContainer()\npc.size = (8, 8)\npc.panels = [panel]\npc.draw()\n\npc.show()"
      ]
    }
  ],
  "metadata": {
    "kernelspec": {
      "display_name": "Python 3",
      "language": "python",
      "name": "python3"
    },
    "language_info": {
      "codemirror_mode": {
        "name": "ipython",
        "version": 3
      },
      "file_extension": ".py",
      "mimetype": "text/x-python",
      "name": "python",
      "nbconvert_exporter": "python",
      "pygments_lexer": "ipython3",
      "version": "3.13.3"
    }
  },
  "nbformat": 4,
  "nbformat_minor": 0
}
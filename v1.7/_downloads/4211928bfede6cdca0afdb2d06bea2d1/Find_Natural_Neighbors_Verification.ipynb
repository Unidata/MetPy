{
  "cells": [
    {
      "cell_type": "markdown",
      "metadata": {},
      "source": [
        "\n# Find Natural Neighbors Verification\n\nFinding natural neighbors in a triangulation\n\nA triangle is a natural neighbor of a point if that point is within a circumscribed\ncircle (\"circumcircle\") containing the triangle.\n"
      ]
    },
    {
      "cell_type": "code",
      "execution_count": null,
      "metadata": {
        "collapsed": false
      },
      "outputs": [],
      "source": [
        "import matplotlib.pyplot as plt\nimport numpy as np\nfrom scipy.spatial import Delaunay\n\nfrom metpy.interpolate.geometry import circumcircle_radius, find_natural_neighbors\n\n# Create test observations, test points, and plot the triangulation and points.\ngx, gy = np.meshgrid(np.arange(0, 20, 4), np.arange(0, 20, 4))\npts = np.vstack([gx.ravel(), gy.ravel()]).T\ntri = Delaunay(pts)\n\nfig, ax = plt.subplots(figsize=(15, 10))\nfor i, inds in enumerate(tri.simplices):\n    pts = tri.points[inds]\n    x, y = np.vstack((pts, pts[0])).T\n    ax.plot(x, y)\n    ax.annotate(i, xy=(np.mean(x), np.mean(y)))\n\ntest_points = np.array([[2, 2], [5, 10], [12, 13.4], [12, 8], [20, 20]])\n\nfor i, (x, y) in enumerate(test_points):\n    ax.plot(x, y, 'k.', markersize=6)\n    ax.annotate('test ' + str(i), xy=(x, y))"
      ]
    },
    {
      "cell_type": "markdown",
      "metadata": {},
      "source": [
        "Since finding natural neighbors already calculates circumcenters, return\nthat information for later use.\n\nThe key of the neighbors dictionary refers to the test point index, and the list of integers\nare the triangles that are natural neighbors of that particular test point.\n\nSince point 4 is far away from the triangulation, it has no natural neighbors.\nPoint 3 is at the confluence of several triangles so it has many natural neighbors.\n\n"
      ]
    },
    {
      "cell_type": "code",
      "execution_count": null,
      "metadata": {
        "collapsed": false
      },
      "outputs": [],
      "source": [
        "neighbors, circumcenters = find_natural_neighbors(tri, test_points)\nprint(neighbors)"
      ]
    },
    {
      "cell_type": "markdown",
      "metadata": {},
      "source": [
        "We can plot all of the triangles as well as the circles representing the circumcircles\n\n\n"
      ]
    },
    {
      "cell_type": "code",
      "execution_count": null,
      "metadata": {
        "collapsed": false
      },
      "outputs": [],
      "source": [
        "fig, ax = plt.subplots(figsize=(15, 10))\nfor i, inds in enumerate(tri.simplices):\n    pts = tri.points[inds]\n    x, y = np.vstack((pts, pts[0])).T\n    ax.plot(x, y)\n    ax.annotate(i, xy=(np.mean(x), np.mean(y)))\n\n# Using circumcenters and calculated circumradii, plot the circumcircles\nfor idx, cc in enumerate(circumcenters):\n    ax.plot(cc[0], cc[1], 'k.', markersize=5)\n    circ = plt.Circle(cc, circumcircle_radius(*tri.points[tri.simplices[idx]]),\n                      edgecolor='k', facecolor='none', transform=fig.axes[0].transData)\n    ax.add_artist(circ)\n\nax.set_aspect('equal', 'datalim')\n\nplt.show()"
      ]
    }
  ],
  "metadata": {
    "kernelspec": {
      "display_name": "Python 3",
      "language": "python",
      "name": "python3"
    },
    "language_info": {
      "codemirror_mode": {
        "name": "ipython",
        "version": 3
      },
      "file_extension": ".py",
      "mimetype": "text/x-python",
      "name": "python",
      "nbconvert_exporter": "python",
      "pygments_lexer": "ipython3",
      "version": "3.13.3"
    }
  },
  "nbformat": 4,
  "nbformat_minor": 0
}
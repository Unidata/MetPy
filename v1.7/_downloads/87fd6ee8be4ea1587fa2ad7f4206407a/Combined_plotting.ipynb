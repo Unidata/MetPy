{
  "cells": [
    {
      "cell_type": "markdown",
      "metadata": {},
      "source": [
        "\n# Combined Plotting\n\nDemonstrate the use of MetPy's simplified plotting interface combining multiple plots.\n\nAlso shows how to control the maps that are plotted. Plots sample NARR data.\n"
      ]
    },
    {
      "cell_type": "code",
      "execution_count": null,
      "metadata": {
        "collapsed": false
      },
      "outputs": [],
      "source": [
        "import xarray as xr\n\nfrom metpy.cbook import get_test_data\nfrom metpy.plots import ContourPlot, ImagePlot, MapPanel, PanelContainer\nfrom metpy.units import units\n\n# Use sample NARR data for plotting\nnarr = xr.open_dataset(get_test_data('narr_example.nc', as_file_obj=False))"
      ]
    },
    {
      "cell_type": "markdown",
      "metadata": {},
      "source": [
        "Create a contour plot of temperature\n\n"
      ]
    },
    {
      "cell_type": "code",
      "execution_count": null,
      "metadata": {
        "collapsed": false
      },
      "outputs": [],
      "source": [
        "contour = ContourPlot()\ncontour.data = narr\ncontour.field = 'Temperature'\ncontour.level = 850 * units.hPa\ncontour.linecolor = 'red'\ncontour.contours = 15"
      ]
    },
    {
      "cell_type": "markdown",
      "metadata": {},
      "source": [
        "Create an image plot of Geopotential height\n\n"
      ]
    },
    {
      "cell_type": "code",
      "execution_count": null,
      "metadata": {
        "collapsed": false
      },
      "outputs": [],
      "source": [
        "img = ImagePlot()\nimg.data = narr\nimg.field = 'Geopotential_height'\nimg.level = 850 * units.hPa"
      ]
    },
    {
      "cell_type": "markdown",
      "metadata": {},
      "source": [
        "Plot the data on a map\n\n"
      ]
    },
    {
      "cell_type": "code",
      "execution_count": null,
      "metadata": {
        "collapsed": false
      },
      "outputs": [],
      "source": [
        "panel = MapPanel()\npanel.area = 'us'\npanel.layers = ['coastline', 'borders', 'states', 'rivers', 'ocean', 'land']\npanel.title = 'NARR Example'\npanel.plots = [contour, img]\n\npc = PanelContainer()\npc.size = (10, 8)\npc.panels = [panel]\npc.show()"
      ]
    }
  ],
  "metadata": {
    "kernelspec": {
      "display_name": "Python 3",
      "language": "python",
      "name": "python3"
    },
    "language_info": {
      "codemirror_mode": {
        "name": "ipython",
        "version": 3
      },
      "file_extension": ".py",
      "mimetype": "text/x-python",
      "name": "python",
      "nbconvert_exporter": "python",
      "pygments_lexer": "ipython3",
      "version": "3.13.3"
    }
  },
  "nbformat": 4,
  "nbformat_minor": 0
}
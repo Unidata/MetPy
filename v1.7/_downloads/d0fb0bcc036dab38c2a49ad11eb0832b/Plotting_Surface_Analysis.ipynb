{
  "cells": [
    {
      "cell_type": "markdown",
      "metadata": {},
      "source": [
        "\n# Plotting Fronts\n\nThis uses MetPy to decode text surface analysis bulletins from the Weather Prediction Center.\nThe features in this bulletin are then plotted on a map, making use of MetPy's various\npath effects for matplotlib than can be used to represent a line as a traditional front.\n"
      ]
    },
    {
      "cell_type": "code",
      "execution_count": null,
      "metadata": {
        "collapsed": false
      },
      "outputs": [],
      "source": [
        "import cartopy.crs as ccrs\nimport cartopy.feature as cfeature\nimport matplotlib.pyplot as plt\n\nfrom metpy.cbook import get_test_data\nfrom metpy.io import parse_wpc_surface_bulletin\nfrom metpy.plots import (add_metpy_logo, ColdFront, OccludedFront, scattertext,\n                         StationaryFront, WarmFront)"
      ]
    },
    {
      "cell_type": "markdown",
      "metadata": {},
      "source": [
        "Define a function that can be used to readily plot a bulletin that has been parsed into a\npandas `DataFrame`. This essentially encapsulates some appropriate plotting methods as well\nas the necessary keyword arguments for giving the expected visual appearance for the\nfeatures.\n\n"
      ]
    },
    {
      "cell_type": "code",
      "execution_count": null,
      "metadata": {
        "collapsed": false
      },
      "outputs": [],
      "source": [
        "def plot_bulletin(ax, data):\n    \"\"\"Plot a dataframe of surface features on a map.\"\"\"\n    # Set some default visual styling\n    size = 4\n    fontsize = 9\n    complete_style = {'HIGH': {'color': 'blue', 'fontsize': fontsize},\n                      'LOW': {'color': 'red', 'fontsize': fontsize},\n                      'WARM': {'linewidth': 1, 'path_effects': [WarmFront(size=size)]},\n                      'COLD': {'linewidth': 1, 'path_effects': [ColdFront(size=size)]},\n                      'OCFNT': {'linewidth': 1, 'path_effects': [OccludedFront(size=size)]},\n                      'STNRY': {'linewidth': 1, 'path_effects': [StationaryFront(size=size)]},\n                      'TROF': {'linewidth': 2, 'linestyle': 'dashed',\n                               'edgecolor': 'darkorange'}}\n\n    # Handle H/L points using MetPy's StationPlot class\n    for field in ('HIGH', 'LOW'):\n        rows = data[data.feature == field]\n        x, y = zip(*((pt.x, pt.y) for pt in rows.geometry), strict=False)\n        scattertext(ax, x, y, field[0],\n                    **complete_style[field], transform=ccrs.PlateCarree(), clip_on=True)\n        scattertext(ax, x, y, rows.strength, formatter='.0f', loc=(0, -10),\n                    **complete_style[field], transform=ccrs.PlateCarree(), clip_on=True)\n\n    # Handle all the boundary types\n    for field in ('WARM', 'COLD', 'STNRY', 'OCFNT', 'TROF'):\n        rows = data[data.feature == field]\n        ax.add_geometries(rows.geometry, crs=ccrs.PlateCarree(), **complete_style[field],\n                          facecolor='none')"
      ]
    },
    {
      "cell_type": "markdown",
      "metadata": {},
      "source": [
        "Set up the map for plotting, parse the bulletin, and plot it\n\n"
      ]
    },
    {
      "cell_type": "code",
      "execution_count": null,
      "metadata": {
        "collapsed": false
      },
      "outputs": [],
      "source": [
        "# Set up a default figure and map\nfig = plt.figure(figsize=(7, 7), dpi=150)\nax = fig.add_subplot(1, 1, 1, projection=ccrs.LambertConformal(central_longitude=-100))\nax.add_feature(cfeature.COASTLINE)\nax.add_feature(cfeature.OCEAN)\nax.add_feature(cfeature.LAND)\nax.add_feature(cfeature.BORDERS)\nax.add_feature(cfeature.STATES)\nax.add_feature(cfeature.LAKES)\n\n# Parse the bulletin and plot it\ndf = parse_wpc_surface_bulletin(get_test_data('WPC_sfc_fronts_20210628_1800.txt'))\nplot_bulletin(ax, df)\n\nax.set_title(f'WPC Surface Analysis Valid {df.valid.dt.strftime(\"%HZ %d %b %Y\")[0]}')\nadd_metpy_logo(fig, 275, 295, size='large')\nplt.show()"
      ]
    }
  ],
  "metadata": {
    "kernelspec": {
      "display_name": "Python 3",
      "language": "python",
      "name": "python3"
    },
    "language_info": {
      "codemirror_mode": {
        "name": "ipython",
        "version": 3
      },
      "file_extension": ".py",
      "mimetype": "text/x-python",
      "name": "python",
      "nbconvert_exporter": "python",
      "pygments_lexer": "ipython3",
      "version": "3.13.3"
    }
  },
  "nbformat": 4,
  "nbformat_minor": 0
}
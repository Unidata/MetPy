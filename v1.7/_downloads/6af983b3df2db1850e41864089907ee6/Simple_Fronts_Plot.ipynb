{
  "cells": [
    {
      "cell_type": "markdown",
      "metadata": {},
      "source": [
        "\n# Simple Plotting of Fronts\nThis uses MetPy's path effects for matplotlib that can be used to represent a line as a\ntraditional front. This example relies on already having location information for the\nboundaries you would like to plot.\n"
      ]
    },
    {
      "cell_type": "code",
      "execution_count": null,
      "metadata": {
        "collapsed": false
      },
      "outputs": [],
      "source": [
        "import matplotlib.pyplot as plt\nimport numpy as np\n\nfrom metpy.plots import ColdFront, WarmFront"
      ]
    },
    {
      "cell_type": "markdown",
      "metadata": {},
      "source": [
        "Define some synthetic points to represent the low pressure system and its frontal boundaries.\n\n"
      ]
    },
    {
      "cell_type": "code",
      "execution_count": null,
      "metadata": {
        "collapsed": false
      },
      "outputs": [],
      "source": [
        "low_lon, low_lat = -94, 32\ncold_lat = np.linspace(low_lat - 0.15, low_lat - 1.75, 100)\ncold_lon = (low_lon + 0.25) - (cold_lat - (low_lat - 0.5))**2\n\nwarm_lon = np.linspace(low_lon + 0.3, low_lon + 5, 100)\nwarm_lat = (low_lat + 0.3) - (warm_lon - (low_lon + 2))**2 / 12"
      ]
    },
    {
      "cell_type": "markdown",
      "metadata": {},
      "source": [
        "Draw the low as an \"L\" using matplotlib's `text()` method, then plot the fronts as\nstandard lines, but add our path effects.\n\n"
      ]
    },
    {
      "cell_type": "code",
      "execution_count": null,
      "metadata": {
        "collapsed": false
      },
      "outputs": [],
      "source": [
        "fig, ax = plt.subplots(figsize=(8, 8), dpi=150)\nax.text(low_lon, low_lat, 'L', color='red', size=30,\n        horizontalalignment='center', verticalalignment='center')\nax.plot(cold_lon, cold_lat, 'blue', path_effects=[ColdFront(size=8, spacing=1.5)])\nax.plot(warm_lon, warm_lat, 'red', path_effects=[WarmFront(size=8, spacing=1.5)])\nplt.show()"
      ]
    }
  ],
  "metadata": {
    "kernelspec": {
      "display_name": "Python 3",
      "language": "python",
      "name": "python3"
    },
    "language_info": {
      "codemirror_mode": {
        "name": "ipython",
        "version": 3
      },
      "file_extension": ".py",
      "mimetype": "text/x-python",
      "name": "python",
      "nbconvert_exporter": "python",
      "pygments_lexer": "ipython3",
      "version": "3.13.3"
    }
  },
  "nbformat": 4,
  "nbformat_minor": 0
}
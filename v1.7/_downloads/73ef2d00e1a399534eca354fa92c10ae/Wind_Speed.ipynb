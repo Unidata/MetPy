{
  "cells": [
    {
      "cell_type": "markdown",
      "metadata": {},
      "source": [
        "\n# Wind Speed\n\nUse `metpy.calc.wind_speed`.\n\nThis example demonstrates the calculation of wind speed using the example xarray Dataset and\nplotting using Matplotlib.\n"
      ]
    },
    {
      "cell_type": "code",
      "execution_count": null,
      "metadata": {
        "collapsed": false
      },
      "outputs": [],
      "source": [
        "import matplotlib.pyplot as plt\n\nimport metpy.calc as mpcalc\nfrom metpy.cbook import example_data\n\n# load example data\nds = example_data()\n\n# Calculate the total deformation of the flow\nwind_speed = mpcalc.wind_speed(ds.uwind, ds.vwind)\n\n# start figure and set axis\nfig, ax = plt.subplots(figsize=(5, 5))\n\n# plot wind speed\ncf = ax.contourf(ds.lon, ds.lat, wind_speed, range(5, 80, 5), cmap=plt.cm.BuPu)\nplt.colorbar(cf, pad=0, aspect=50)\nax.barbs(ds.lon.values, ds.lat.values, ds.uwind, ds.vwind, color='black', length=5, alpha=0.5)\nax.set(xlim=(260, 270), ylim=(30, 40))\nax.set_title('Wind Speed Calculation')\n\nplt.show()"
      ]
    }
  ],
  "metadata": {
    "kernelspec": {
      "display_name": "Python 3",
      "language": "python",
      "name": "python3"
    },
    "language_info": {
      "codemirror_mode": {
        "name": "ipython",
        "version": 3
      },
      "file_extension": ".py",
      "mimetype": "text/x-python",
      "name": "python",
      "nbconvert_exporter": "python",
      "pygments_lexer": "ipython3",
      "version": "3.13.3"
    }
  },
  "nbformat": 4,
  "nbformat_minor": 0
}
{
  "cells": [
    {
      "cell_type": "markdown",
      "metadata": {},
      "source": [
        "\n# NEXRAD Level 3 File\n\nUse MetPy to read information from a NEXRAD Level 3 (NIDS product) file and plot\n"
      ]
    },
    {
      "cell_type": "code",
      "execution_count": null,
      "metadata": {
        "collapsed": false
      },
      "outputs": [],
      "source": [
        "import cartopy.crs as ccrs\nimport matplotlib.gridspec as gridspec\nimport matplotlib.pyplot as plt\nimport numpy as np\n\nfrom metpy.calc import azimuth_range_to_lat_lon\nfrom metpy.cbook import get_test_data\nfrom metpy.io import Level3File\nfrom metpy.plots import add_metpy_logo, add_timestamp, colortables, USCOUNTIES\nfrom metpy.units import units"
      ]
    },
    {
      "cell_type": "code",
      "execution_count": null,
      "metadata": {
        "collapsed": false
      },
      "outputs": [],
      "source": [
        "spec = gridspec.GridSpec(1, 2)\nfig = plt.figure(figsize=(15, 8))\nadd_metpy_logo(fig, 190, 85, size='large')\nctables = (('NWSStormClearReflectivity', -20, 0.5),  # dBZ\n           ('NWS8bitVel', -100, 1.0))  # m/s\n\nfor v, ctable, ax_rect in zip(('N0Q', 'N0U'), ctables, spec, strict=False):\n    # Open the file\n    name = get_test_data(f'nids/KOUN_SDUS54_{v}TLX_201305202016', as_file_obj=False)\n    f = Level3File(name)\n\n    # Pull the data out of the file object\n    datadict = f.sym_block[0][0]\n\n    # Turn into an array using the scale specified by the file\n    data = f.map_data(datadict['data'])\n\n    # Grab azimuths and calculate a range based on number of gates,\n    # both with their respective units\n    az = units.Quantity(np.array(datadict['start_az'] + [datadict['end_az'][-1]]), 'degrees')\n    rng = units.Quantity(np.linspace(0, f.max_range, data.shape[-1] + 1), 'kilometers')\n\n    # Extract central latitude and longitude from the file\n    cent_lon = f.lon\n    cent_lat = f.lat\n\n    # Convert az,range to x,y\n    xlocs, ylocs = azimuth_range_to_lat_lon(az, rng, cent_lon, cent_lat)\n\n    # Plot the data\n    crs = ccrs.LambertConformal()\n    ax = fig.add_subplot(ax_rect, projection=crs)\n    ax.add_feature(USCOUNTIES, linewidth=0.5)\n    norm, cmap = colortables.get_with_steps(*ctable)\n    ax.pcolormesh(xlocs, ylocs, data, norm=norm, cmap=cmap, transform=ccrs.PlateCarree())\n    ax.set_extent([cent_lon - 0.5, cent_lon + 0.5, cent_lat - 0.5, cent_lat + 0.5])\n    ax.set_aspect('equal', 'datalim')\n    add_timestamp(ax, f.metadata['prod_time'], y=0.02, high_contrast=True)\n\nplt.show()"
      ]
    }
  ],
  "metadata": {
    "kernelspec": {
      "display_name": "Python 3",
      "language": "python",
      "name": "python3"
    },
    "language_info": {
      "codemirror_mode": {
        "name": "ipython",
        "version": 3
      },
      "file_extension": ".py",
      "mimetype": "text/x-python",
      "name": "python",
      "nbconvert_exporter": "python",
      "pygments_lexer": "ipython3",
      "version": "3.13.3"
    }
  },
  "nbformat": 4,
  "nbformat_minor": 0
}
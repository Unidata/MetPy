{
  "cells": [
    {
      "cell_type": "markdown",
      "metadata": {},
      "source": [
        "\n# Surface Analysis using Declarative Syntax\n\nThe MetPy declarative syntax allows for a simplified interface to creating common\nmeteorological analyses including surface observation plots.\n"
      ]
    },
    {
      "cell_type": "code",
      "execution_count": null,
      "metadata": {
        "collapsed": false
      },
      "outputs": [],
      "source": [
        "from datetime import datetime, timedelta\n\nimport cartopy.crs as ccrs\nimport pandas as pd\n\nfrom metpy.cbook import get_test_data\nimport metpy.plots as mpplots"
      ]
    },
    {
      "cell_type": "markdown",
      "metadata": {},
      "source": [
        "**Getting the data**\n\nIn this example, data is originally from the Iowa State ASOS archive\n(https://mesonet.agron.iastate.edu/request/download.phtml) downloaded through a separate\nPython script. The data are pre-processed to determine sky cover and weather symbols from\ntext output.\n\n"
      ]
    },
    {
      "cell_type": "code",
      "execution_count": null,
      "metadata": {
        "collapsed": false
      },
      "outputs": [],
      "source": [
        "data = pd.read_csv(get_test_data('SFC_obs.csv', as_file_obj=False))\ndata['valid'] = pd.to_datetime(data['valid'], format='%Y-%m-%d %H:%M:%S')"
      ]
    },
    {
      "cell_type": "markdown",
      "metadata": {},
      "source": [
        "**Plotting the data**\n\nUse the declarative plotting interface to plot surface observations over the state of\nGeorgia.\n\n"
      ]
    },
    {
      "cell_type": "code",
      "execution_count": null,
      "metadata": {
        "collapsed": false
      },
      "outputs": [],
      "source": [
        "# Plotting the Observations using a 15 minute time window for surface observations\nobs = mpplots.PlotObs()\nobs.data = data\nobs.time = datetime(1993, 3, 12, 13)\nobs.time_window = timedelta(minutes=15)\nobs.level = None\nobs.fields = ['tmpf', 'dwpf', 'emsl', 'cloud_cover', 'wxsym']\nobs.locations = ['NW', 'SW', 'NE', 'C', 'W']\nobs.colors = ['red', 'green', 'black', 'black', 'blue']\nobs.formats = [None, None, lambda v: format(10 * v, '.0f')[-3:], 'sky_cover',\n               'current_weather']\nobs.vector_field = ('uwind', 'vwind')\nobs.reduce_points = 1\n\n# Add map features for the particular panel\npanel = mpplots.MapPanel()\npanel.layout = (1, 1, 1)\npanel.area = 'ga'\npanel.projection = ccrs.PlateCarree()\npanel.layers = ['coastline', 'borders', 'states']\npanel.plots = [obs]\n\n# Collecting panels for complete figure\npc = mpplots.PanelContainer()\npc.size = (10, 10)\npc.panels = [panel]\n\n# Showing the results\npc.show()"
      ]
    }
  ],
  "metadata": {
    "kernelspec": {
      "display_name": "Python 3",
      "language": "python",
      "name": "python3"
    },
    "language_info": {
      "codemirror_mode": {
        "name": "ipython",
        "version": 3
      },
      "file_extension": ".py",
      "mimetype": "text/x-python",
      "name": "python",
      "nbconvert_exporter": "python",
      "pygments_lexer": "ipython3",
      "version": "3.13.3"
    }
  },
  "nbformat": 4,
  "nbformat_minor": 0
}
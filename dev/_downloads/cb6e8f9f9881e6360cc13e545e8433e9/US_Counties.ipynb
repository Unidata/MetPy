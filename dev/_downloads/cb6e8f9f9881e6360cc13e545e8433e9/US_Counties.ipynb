{
  "cells": [
    {
      "cell_type": "markdown",
      "metadata": {},
      "source": [
        "\n# US Counties\n\nDemonstrate how to plot US counties at all three available resolutions.\n"
      ]
    },
    {
      "cell_type": "code",
      "execution_count": null,
      "metadata": {
        "collapsed": false
      },
      "outputs": [],
      "source": [
        "import cartopy.crs as ccrs\nimport matplotlib.pyplot as plt\n\nfrom metpy.plots import USCOUNTIES"
      ]
    },
    {
      "cell_type": "code",
      "execution_count": null,
      "metadata": {
        "collapsed": false
      },
      "outputs": [],
      "source": [
        "proj = ccrs.LambertConformal(central_longitude=-85.0, central_latitude=45.0)\n\nfig = plt.figure(figsize=(12, 9))\nax1 = fig.add_subplot(1, 3, 1, projection=proj)\nax2 = fig.add_subplot(1, 3, 2, projection=proj)\nax3 = fig.add_subplot(1, 3, 3, projection=proj)\n\nfor scale, axis in zip(['20m', '5m', '500k'], [ax1, ax2, ax3], strict=False):\n    axis.set_extent([270.25, 270.9, 38.15, 38.75], ccrs.Geodetic())\n    axis.add_feature(USCOUNTIES.with_scale(scale))"
      ]
    }
  ],
  "metadata": {
    "kernelspec": {
      "display_name": "Python 3",
      "language": "python",
      "name": "python3"
    },
    "language_info": {
      "codemirror_mode": {
        "name": "ipython",
        "version": 3
      },
      "file_extension": ".py",
      "mimetype": "text/x-python",
      "name": "python",
      "nbconvert_exporter": "python",
      "pygments_lexer": "ipython3",
      "version": "3.13.3"
    }
  },
  "nbformat": 4,
  "nbformat_minor": 0
}
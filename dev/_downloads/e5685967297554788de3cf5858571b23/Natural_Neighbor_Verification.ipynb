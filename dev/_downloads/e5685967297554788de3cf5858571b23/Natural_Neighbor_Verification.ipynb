{
  "cells": [
    {
      "cell_type": "markdown",
      "metadata": {},
      "source": [
        "\n# Natural Neighbor Verification\n\nWalks through the steps of Natural Neighbor interpolation to validate that the algorithmic\napproach taken in MetPy is correct.\n"
      ]
    },
    {
      "cell_type": "markdown",
      "metadata": {},
      "source": [
        "Find natural neighbors visual test\n\nA triangle is a natural neighbor for a point if the\n[circumscribed circle](https://en.wikipedia.org/wiki/Circumscribed_circle) of the\ntriangle contains that point. It is important that we correctly grab the correct triangles\nfor each point before proceeding with the interpolation.\n\nAlgorithmically:\n\n1. We place all of the grid points in a KDTree. These provide worst-case O(n) time\n   complexity for spatial searches.\n\n2. We generate a [Delaunay Triangulation](https://docs.scipy.org/doc/scipy/\n   tutorial/spatial.html#delaunay-triangulations)\n   using the locations of the provided observations.\n\n3. For each triangle, we calculate its circumcenter and circumradius. Using\n   KDTree, we then assign each grid a triangle that has a circumcenter within a\n   circumradius of the grid's location.\n\n4. The resulting dictionary uses the grid index as a key and a set of natural\n   neighbor triangles in the form of triangle codes from the Delaunay triangulation.\n   This dictionary is then iterated through to calculate interpolation values.\n\n5. We then traverse the ordered natural neighbor edge vertices for a particular\n   grid cell in groups of 3 (n - 1, n, n + 1), and perform calculations to generate\n   proportional polygon areas.\n\n   Circumcenter of (n - 1), n, grid_location\n   Circumcenter of (n + 1), n, grid_location\n\n   Determine what existing circumcenters (ie, Delaunay circumcenters) are associated\n   with vertex n, and add those as polygon vertices. Calculate the area of this polygon.\n\n6. Increment the current edges to be checked, i.e.:\n   n - 1 = n, n = n + 1, n + 1 = n + 2\n\n7. Repeat steps 5 & 6 until all the edge combinations of 3 have been visited.\n\n8. Repeat steps 4 through 7 for each grid cell.\n\n"
      ]
    },
    {
      "cell_type": "code",
      "execution_count": null,
      "metadata": {
        "collapsed": false
      },
      "outputs": [],
      "source": [
        "import matplotlib.pyplot as plt\nimport numpy as np\nfrom scipy.spatial import ConvexHull, Delaunay, delaunay_plot_2d, Voronoi, voronoi_plot_2d\nfrom scipy.spatial.distance import euclidean\n\nfrom metpy.interpolate import geometry\nfrom metpy.interpolate.points import natural_neighbor_point"
      ]
    },
    {
      "cell_type": "markdown",
      "metadata": {},
      "source": [
        "For a test case, we generate 10 random points and observations, where the\nobservation values are just the x coordinate value times the y coordinate\nvalue divided by 1000.\n\nWe then create two test points (grid 0 & grid 1) at which we want to\nestimate a value using natural neighbor interpolation.\n\nThe locations of these observations are then used to generate a Delaunay triangulation.\n\n"
      ]
    },
    {
      "cell_type": "code",
      "execution_count": null,
      "metadata": {
        "collapsed": false
      },
      "outputs": [],
      "source": [
        "# Some randomly selected points\npts = np.array([[8, 24], [67, 87], [79, 48], [10, 94], [52, 98],\n                [53, 66], [98, 14], [34, 24], [15, 60], [58, 16]])\n\nxp = pts[:, 0]\nyp = pts[:, 1]\nzp = (pts[:, 0] * pts[:, 0]) / 1000\n\ntri = Delaunay(pts)\n\nfig, ax = plt.subplots(1, 1, figsize=(15, 10))\nax.ishold = lambda: True  # Work-around for Matplotlib 3.0.0 incompatibility\ndelaunay_plot_2d(tri, ax=ax)\n\nfor i, zval in enumerate(zp):\n    ax.annotate(f'{zval} F', xy=(pts[i, 0] + 2, pts[i, 1]))\n\nsim_gridx = [30., 60.]\nsim_gridy = [30., 60.]\n\nax.plot(sim_gridx, sim_gridy, '+', markersize=10)\nax.set_aspect('equal', 'datalim')\nax.set_title('Triangulation of observations and test grid cell '\n             'natural neighbor interpolation values')\n\nmembers, circumcenters = geometry.find_natural_neighbors(tri, list(zip(sim_gridx, sim_gridy,\n                                                                       strict=False)))\n\nval = natural_neighbor_point(xp, yp, zp, (sim_gridx[0], sim_gridy[0]), tri, members[0],\n                             circumcenters)\nax.annotate(f'grid 0: {val:.3f}', xy=(sim_gridx[0] + 2, sim_gridy[0]))\n\nval = natural_neighbor_point(xp, yp, zp, (sim_gridx[1], sim_gridy[1]), tri, members[1],\n                             circumcenters)\nax.annotate(f'grid 1: {val:.3f}', xy=(sim_gridx[1] + 2, sim_gridy[1]))"
      ]
    },
    {
      "cell_type": "markdown",
      "metadata": {},
      "source": [
        "Using the circumcenter and circumcircle radius information from\n`metpy.interpolate.find_natural_neighbors`, we can visually\nexamine the results to see if they are correct.\n\n"
      ]
    },
    {
      "cell_type": "code",
      "execution_count": null,
      "metadata": {
        "collapsed": false
      },
      "outputs": [],
      "source": [
        "def draw_circle(ax, x, y, r, m, label):\n    th = np.linspace(0, 2 * np.pi, 100)\n    nx = x + r * np.cos(th)\n    ny = y + r * np.sin(th)\n    ax.plot(nx, ny, m, label=label)\n\n\nfig, ax = plt.subplots(1, 1, figsize=(15, 10))\nax.ishold = lambda: True  # Work-around for Matplotlib 3.0.0 incompatibility\ndelaunay_plot_2d(tri, ax=ax)\nax.plot(sim_gridx, sim_gridy, 'ks', markersize=10)\n\nfor i, (x_t, y_t) in enumerate(circumcenters):\n    r = geometry.circumcircle_radius(*tri.points[tri.simplices[i]])\n    if i in members[1] and i in members[0]:\n        draw_circle(ax, x_t, y_t, r, 'm-', str(i) + ': grid 1 & 2')\n        ax.annotate(str(i), xy=(x_t, y_t), fontsize=15)\n    elif i in members[0]:\n        draw_circle(ax, x_t, y_t, r, 'r-', str(i) + ': grid 0')\n        ax.annotate(str(i), xy=(x_t, y_t), fontsize=15)\n    elif i in members[1]:\n        draw_circle(ax, x_t, y_t, r, 'b-', str(i) + ': grid 1')\n        ax.annotate(str(i), xy=(x_t, y_t), fontsize=15)\n    else:\n        draw_circle(ax, x_t, y_t, r, 'k:', str(i) + ': no match')\n        ax.annotate(str(i), xy=(x_t, y_t), fontsize=9)\n\nax.set_aspect('equal', 'datalim')\nax.legend()"
      ]
    },
    {
      "cell_type": "markdown",
      "metadata": {},
      "source": [
        "What?....the circle from triangle 8 looks pretty darn close. Why isn't\ngrid 0 included in that circle?\n\n"
      ]
    },
    {
      "cell_type": "code",
      "execution_count": null,
      "metadata": {
        "collapsed": false
      },
      "outputs": [],
      "source": [
        "x_t, y_t = circumcenters[8]\nr = geometry.circumcircle_radius(*tri.points[tri.simplices[8]])\n\nprint('Distance between grid0 and Triangle 8 circumcenter:',\n      euclidean([x_t, y_t], [sim_gridx[0], sim_gridy[0]]))\nprint('Triangle 8 circumradius:', r)"
      ]
    },
    {
      "cell_type": "markdown",
      "metadata": {},
      "source": [
        "Lets do a manual check of the above interpolation value for grid 0 (southernmost grid)\nGrab the circumcenters and radii for natural neighbors\n\n"
      ]
    },
    {
      "cell_type": "code",
      "execution_count": null,
      "metadata": {
        "collapsed": false
      },
      "outputs": [],
      "source": [
        "cc = np.array([circumcenters[m] for m in members[0]])\nr = np.array([geometry.circumcircle_radius(*tri.points[tri.simplices[m]]) for m in members[0]])\n\nprint('circumcenters:\\n', cc)\nprint('radii\\n', r)"
      ]
    },
    {
      "cell_type": "markdown",
      "metadata": {},
      "source": [
        "Draw the natural neighbor triangles and their circumcenters. Also plot a [Voronoi diagram](https://docs.scipy.org/doc/scipy/tutorial/spatial.html#voronoi-diagrams)\nwhich serves as a complementary (but not necessary)\nspatial data structure that we use here simply to show areal ratios.\nNotice that the two natural neighbor triangle circumcenters are also vertices\nin the Voronoi plot (green dots), and the observations are in the polygons (blue dots).\n\n"
      ]
    },
    {
      "cell_type": "code",
      "execution_count": null,
      "metadata": {
        "collapsed": false
      },
      "outputs": [],
      "source": [
        "vort = Voronoi(list(zip(xp, yp, strict=False)))\n\nfig, ax = plt.subplots(1, 1, figsize=(15, 10))\nax.ishold = lambda: True  # Work-around for Matplotlib 3.0.0 incompatibility\nvoronoi_plot_2d(vort, ax=ax)\n\nnn_ind = np.array([0, 5, 7, 8])\nz_0 = zp[nn_ind]\nx_0 = xp[nn_ind]\ny_0 = yp[nn_ind]\n\nfor x, y, z in zip(x_0, y_0, z_0, strict=False):\n    ax.annotate(f'{x}, {y}: {z:.3f} F', xy=(x, y))\n\nax.plot(sim_gridx[0], sim_gridy[0], 'k+', markersize=10)\nax.annotate(f'{sim_gridx[0]}, {sim_gridy[0]}', xy=(sim_gridx[0] + 2, sim_gridy[0]))\nax.plot(cc[:, 0], cc[:, 1], 'ks', markersize=15, fillstyle='none',\n        label='natural neighbor\\ncircumcenters')\n\nfor center in cc:\n    ax.annotate(f'{center[0]:.3f}, {center[1]:.3f}', xy=(center[0] + 1, center[1] + 1))\n\ntris = tri.points[tri.simplices[members[0]]]\nfor triangle in tris:\n    x = [triangle[0, 0], triangle[1, 0], triangle[2, 0], triangle[0, 0]]\n    y = [triangle[0, 1], triangle[1, 1], triangle[2, 1], triangle[0, 1]]\n    ax.plot(x, y, ':', linewidth=2)\n\nax.legend()\nax.set_aspect('equal', 'datalim')\n\n\ndef draw_polygon_with_info(ax, polygon, off_x=0, off_y=0):\n    \"\"\"Draw one of the natural neighbor polygons with some information.\"\"\"\n    pts = np.array(polygon)[ConvexHull(polygon).vertices]\n    for i, pt in enumerate(pts):\n        ax.plot([pt[0], pts[(i + 1) % len(pts)][0]],\n                [pt[1], pts[(i + 1) % len(pts)][1]], 'k-')\n\n    avex, avey = np.mean(pts, axis=0)\n    ax.annotate(f'area: {geometry.area(pts):.3f}', xy=(avex + off_x, avey + off_y),\n                fontsize=12)\n\n\ncc1 = geometry.circumcenter((53, 66), (15, 60), (30, 30))\ncc2 = geometry.circumcenter((34, 24), (53, 66), (30, 30))\ndraw_polygon_with_info(ax, [cc[0], cc1, cc2])\n\ncc1 = geometry.circumcenter((53, 66), (15, 60), (30, 30))\ncc2 = geometry.circumcenter((15, 60), (8, 24), (30, 30))\ndraw_polygon_with_info(ax, [cc[0], cc[1], cc1, cc2], off_x=-9, off_y=3)\n\ncc1 = geometry.circumcenter((8, 24), (34, 24), (30, 30))\ncc2 = geometry.circumcenter((15, 60), (8, 24), (30, 30))\ndraw_polygon_with_info(ax, [cc[1], cc1, cc2], off_x=-15)\n\ncc1 = geometry.circumcenter((8, 24), (34, 24), (30, 30))\ncc2 = geometry.circumcenter((34, 24), (53, 66), (30, 30))\ndraw_polygon_with_info(ax, [cc[0], cc[1], cc1, cc2])"
      ]
    },
    {
      "cell_type": "markdown",
      "metadata": {},
      "source": [
        "Put all of the generated polygon areas and their affiliated values in arrays.\nCalculate the total area of all of the generated polygons.\n\n"
      ]
    },
    {
      "cell_type": "code",
      "execution_count": null,
      "metadata": {
        "collapsed": false
      },
      "outputs": [],
      "source": [
        "areas = np.array([60.434, 448.296, 25.916, 70.647])\nvalues = np.array([0.064, 1.156, 2.809, 0.225])\ntotal_area = np.sum(areas)\nprint(total_area)"
      ]
    },
    {
      "cell_type": "markdown",
      "metadata": {},
      "source": [
        "For each polygon area, calculate its percent of total area.\n\n"
      ]
    },
    {
      "cell_type": "code",
      "execution_count": null,
      "metadata": {
        "collapsed": false
      },
      "outputs": [],
      "source": [
        "proportions = areas / total_area\nprint(proportions)"
      ]
    },
    {
      "cell_type": "markdown",
      "metadata": {},
      "source": [
        "Multiply the percent of total area by the respective values.\n\n"
      ]
    },
    {
      "cell_type": "code",
      "execution_count": null,
      "metadata": {
        "collapsed": false
      },
      "outputs": [],
      "source": [
        "contributions = proportions * values\nprint(contributions)"
      ]
    },
    {
      "cell_type": "markdown",
      "metadata": {},
      "source": [
        "The sum of this array is the interpolation value!\n\n"
      ]
    },
    {
      "cell_type": "code",
      "execution_count": null,
      "metadata": {
        "collapsed": false
      },
      "outputs": [],
      "source": [
        "interpolation_value = np.sum(contributions)\nfunction_output = natural_neighbor_point(xp, yp, zp, (sim_gridx[0], sim_gridy[0]), tri,\n                                         members[0], circumcenters)\n\nprint(interpolation_value, function_output)"
      ]
    },
    {
      "cell_type": "markdown",
      "metadata": {},
      "source": [
        "The values are slightly different due to truncating the area values in\nthe above visual example to the 3rd decimal place.\n\n"
      ]
    },
    {
      "cell_type": "code",
      "execution_count": null,
      "metadata": {
        "collapsed": false
      },
      "outputs": [],
      "source": [
        "plt.show()"
      ]
    }
  ],
  "metadata": {
    "kernelspec": {
      "display_name": "Python 3",
      "language": "python",
      "name": "python3"
    },
    "language_info": {
      "codemirror_mode": {
        "name": "ipython",
        "version": 3
      },
      "file_extension": ".py",
      "mimetype": "text/x-python",
      "name": "python",
      "nbconvert_exporter": "python",
      "pygments_lexer": "ipython3",
      "version": "3.13.3"
    }
  },
  "nbformat": 4,
  "nbformat_minor": 0
}
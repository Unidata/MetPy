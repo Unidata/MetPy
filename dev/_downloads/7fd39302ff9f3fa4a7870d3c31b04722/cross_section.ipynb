{
  "cells": [
    {
      "cell_type": "markdown",
      "metadata": {},
      "source": [
        "\n# Cross Section Analysis\n\nThe MetPy function `metpy.interpolate.cross_section` can obtain a cross-sectional slice through\ngridded data.\n"
      ]
    },
    {
      "cell_type": "code",
      "execution_count": null,
      "metadata": {
        "collapsed": false
      },
      "outputs": [],
      "source": [
        "import cartopy.crs as ccrs\nimport cartopy.feature as cfeature\nimport matplotlib.pyplot as plt\nimport numpy as np\nimport xarray as xr\n\nimport metpy.calc as mpcalc\nfrom metpy.cbook import get_test_data\nfrom metpy.interpolate import cross_section"
      ]
    },
    {
      "cell_type": "markdown",
      "metadata": {},
      "source": [
        "**Getting the data**\n\nThis example uses [NARR reanalysis data](\nhttps://www.ncei.noaa.gov/products/weather-climate-models/north-american-regional)\nfor 18 UTC 04 April 1987 from NCEI.\n\nWe use MetPy's CF parsing to get the data ready for use, and squeeze down the size-one time\ndimension.\n\n"
      ]
    },
    {
      "cell_type": "code",
      "execution_count": null,
      "metadata": {
        "collapsed": false
      },
      "outputs": [],
      "source": [
        "data = xr.open_dataset(get_test_data('narr_example.nc', False))\ndata = data.metpy.parse_cf().squeeze()\nprint(data)"
      ]
    },
    {
      "cell_type": "markdown",
      "metadata": {},
      "source": [
        "Define start and end points:\n\n"
      ]
    },
    {
      "cell_type": "code",
      "execution_count": null,
      "metadata": {
        "collapsed": false
      },
      "outputs": [],
      "source": [
        "start = (37.0, -105.0)\nend = (35.5, -65.0)"
      ]
    },
    {
      "cell_type": "markdown",
      "metadata": {},
      "source": [
        "Get the cross section, and convert lat/lon to supplementary coordinates:\n\n"
      ]
    },
    {
      "cell_type": "code",
      "execution_count": null,
      "metadata": {
        "collapsed": false
      },
      "outputs": [],
      "source": [
        "cross = cross_section(data, start, end).set_coords(('lat', 'lon'))\nprint(cross)"
      ]
    },
    {
      "cell_type": "markdown",
      "metadata": {},
      "source": [
        "For this example, we will be plotting potential temperature, relative humidity, and\ntangential/normal winds. And so, we need to calculate those, and add them to the dataset:\n\n"
      ]
    },
    {
      "cell_type": "code",
      "execution_count": null,
      "metadata": {
        "collapsed": false
      },
      "outputs": [],
      "source": [
        "cross['Potential_temperature'] = mpcalc.potential_temperature(\n    cross['isobaric'],\n    cross['Temperature']\n)\ncross['Relative_humidity'] = mpcalc.relative_humidity_from_specific_humidity(\n    cross['isobaric'],\n    cross['Temperature'],\n    cross['Specific_humidity']\n)\ncross['u_wind'] = cross['u_wind'].metpy.convert_units('knots')\ncross['v_wind'] = cross['v_wind'].metpy.convert_units('knots')\ncross['t_wind'], cross['n_wind'] = mpcalc.cross_section_components(\n    cross['u_wind'],\n    cross['v_wind']\n)\n\nprint(cross)"
      ]
    },
    {
      "cell_type": "markdown",
      "metadata": {},
      "source": [
        "Now, we can make the plot.\n\n"
      ]
    },
    {
      "cell_type": "code",
      "execution_count": null,
      "metadata": {
        "collapsed": false
      },
      "outputs": [],
      "source": [
        "# Define the figure object and primary axes\nfig = plt.figure(1, figsize=(16., 9.))\nax = plt.axes()\n\n# Plot RH using contourf\nrh_contour = ax.contourf(cross['lon'], cross['isobaric'], cross['Relative_humidity'],\n                         levels=np.arange(0, 1.05, .05), cmap='YlGnBu')\nrh_colorbar = fig.colorbar(rh_contour)\n\n# Plot potential temperature using contour, with some custom labeling\ntheta_contour = ax.contour(cross['lon'], cross['isobaric'], cross['Potential_temperature'],\n                           levels=np.arange(250, 450, 5), colors='k', linewidths=2)\ntheta_contour.clabel(theta_contour.levels[1::2], fontsize=8, colors='k', inline=1,\n                     inline_spacing=8, fmt='%i', rightside_up=True, use_clabeltext=True)\n\n# Plot winds using the axes interface directly, with some custom indexing to make the barbs\n# less crowded\nwind_slc_vert = list(range(0, 19, 2)) + list(range(19, 29))\nwind_slc_horz = slice(5, 100, 5)\nax.barbs(cross['lon'][wind_slc_horz], cross['isobaric'][wind_slc_vert],\n         cross['t_wind'][wind_slc_vert, wind_slc_horz],\n         cross['n_wind'][wind_slc_vert, wind_slc_horz], color='k')\n\n# Adjust the y-axis to be logarithmic\nax.set_yscale('symlog')\nax.set_ylim(cross['isobaric'].max(), cross['isobaric'].min())\nax.set_yticks(np.arange(1000, 50, -100))\n\n# Define the CRS and inset axes\ndata_crs = data['Geopotential_height'].metpy.cartopy_crs\nax_inset = fig.add_axes([0.125, 0.665, 0.25, 0.25], projection=data_crs)\n\n# Plot geopotential height at 500 hPa using xarray's contour wrapper\nax_inset.contour(data['x'], data['y'], data['Geopotential_height'].sel(isobaric=500.),\n                 levels=np.arange(5100, 6000, 60), cmap='inferno')\n\n# Plot the path of the cross section\nendpoints = data_crs.transform_points(ccrs.Geodetic(),\n                                      *np.vstack([start, end]).transpose()[::-1])\nax_inset.scatter(endpoints[:, 0], endpoints[:, 1], c='k', zorder=2)\nax_inset.plot(cross['x'], cross['y'], c='k', zorder=2)\n\n# Add geographic features\nax_inset.coastlines()\nax_inset.add_feature(cfeature.STATES.with_scale('50m'), edgecolor='k', alpha=0.2, zorder=0)\n\n# Set the titles and axes labels\nax_inset.set_title('')\nax.set_title(f'NARR Cross-Section \\u2013 {start} to {end} \\u2013 '\n             f'Valid: {cross[\"time\"].dt.strftime(\"%Y-%m-%d %H:%MZ\").item()}\\n'\n             'Potential Temperature (K), Tangential/Normal Winds (knots), Relative Humidity '\n             '(dimensionless)\\nInset: Cross-Section Path and 500 hPa Geopotential Height')\nax.set_ylabel('Pressure (hPa)')\nax.set_xlabel('Longitude (degrees east)')\nrh_colorbar.set_label('Relative Humidity (dimensionless)')\n\nplt.show()"
      ]
    },
    {
      "cell_type": "markdown",
      "metadata": {},
      "source": [
        "Note: The x-axis can display any variable that is the same length as the\nplotted variables, including latitude. Additionally, arguments can be provided\nto ``ax.set_xticklabels`` to label lat/lon pairs, similar to the default NCL output.\n\n"
      ]
    }
  ],
  "metadata": {
    "kernelspec": {
      "display_name": "Python 3",
      "language": "python",
      "name": "python3"
    },
    "language_info": {
      "codemirror_mode": {
        "name": "ipython",
        "version": 3
      },
      "file_extension": ".py",
      "mimetype": "text/x-python",
      "name": "python",
      "nbconvert_exporter": "python",
      "pygments_lexer": "ipython3",
      "version": "3.13.3"
    }
  },
  "nbformat": 4,
  "nbformat_minor": 0
}
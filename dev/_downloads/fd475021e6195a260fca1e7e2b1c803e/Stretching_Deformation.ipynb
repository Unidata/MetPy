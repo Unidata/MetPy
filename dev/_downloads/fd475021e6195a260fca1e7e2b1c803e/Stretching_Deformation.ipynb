{
  "cells": [
    {
      "cell_type": "markdown",
      "metadata": {},
      "source": [
        "\n# Stretching Deformation\n\nUse `metpy.calc.stretching_deformation`.\n\nThis example demonstrates the calculation of stretching deformation using the example xarray\nDataset and plotting using Matplotlib.\n"
      ]
    },
    {
      "cell_type": "code",
      "execution_count": null,
      "metadata": {
        "collapsed": false
      },
      "outputs": [],
      "source": [
        "import matplotlib.pyplot as plt\n\nimport metpy.calc as mpcalc\nfrom metpy.cbook import example_data\n\n# load example data\nds = example_data()\n\n# Calculate the stretching deformation of the flow\nstr_def = mpcalc.stretching_deformation(ds.uwind, ds.vwind)\n\n# start figure and set axis\nfig, ax = plt.subplots(figsize=(5, 5))\n\n# plot stretching deformation and scale by 1e5\ncf = ax.contourf(ds.lon, ds.lat, str_def * 1e5, range(-80, 81, 1), cmap=plt.cm.PuOr_r)\nplt.colorbar(cf, pad=0, aspect=50)\nax.barbs(ds.lon.values, ds.lat.values, ds.uwind, ds.vwind, color='black', length=5, alpha=0.5)\nax.set(xlim=(260, 270), ylim=(30, 40))\nax.set_title('Stretching Deformation Calculation')\n\nplt.show()"
      ]
    }
  ],
  "metadata": {
    "kernelspec": {
      "display_name": "Python 3",
      "language": "python",
      "name": "python3"
    },
    "language_info": {
      "codemirror_mode": {
        "name": "ipython",
        "version": 3
      },
      "file_extension": ".py",
      "mimetype": "text/x-python",
      "name": "python",
      "nbconvert_exporter": "python",
      "pygments_lexer": "ipython3",
      "version": "3.13.3"
    }
  },
  "nbformat": 4,
  "nbformat_minor": 0
}
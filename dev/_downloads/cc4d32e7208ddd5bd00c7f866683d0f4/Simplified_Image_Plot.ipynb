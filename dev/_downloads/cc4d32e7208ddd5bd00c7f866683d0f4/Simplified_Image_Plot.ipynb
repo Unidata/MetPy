{
  "cells": [
    {
      "cell_type": "markdown",
      "metadata": {},
      "source": [
        "\n# Simple Plotting\n\nDemonstrate the use of MetPy's simplified plotting interface.\n\nPlots a sample satellite image file.\n"
      ]
    },
    {
      "cell_type": "code",
      "execution_count": null,
      "metadata": {
        "collapsed": false
      },
      "outputs": [],
      "source": [
        "import xarray as xr\n\nfrom metpy.cbook import get_test_data\nfrom metpy.io import GiniFile\nfrom metpy.plots import ImagePlot, MapPanel, PanelContainer\n\ndata = xr.open_dataset(GiniFile(get_test_data('NHEM-MULTICOMP_1km_IR_20151208_2100.gini')))\n\nimg = ImagePlot()\nimg.data = data\nimg.field = 'IR'\nimg.colormap = 'Greys_r'\n\npanel = MapPanel()\npanel.plots = [img]\n\npc = PanelContainer()\npc.panels = [panel]\npc.show()"
      ]
    }
  ],
  "metadata": {
    "kernelspec": {
      "display_name": "Python 3",
      "language": "python",
      "name": "python3"
    },
    "language_info": {
      "codemirror_mode": {
        "name": "ipython",
        "version": 3
      },
      "file_extension": ".py",
      "mimetype": "text/x-python",
      "name": "python",
      "nbconvert_exporter": "python",
      "pygments_lexer": "ipython3",
      "version": "3.13.3"
    }
  },
  "nbformat": 4,
  "nbformat_minor": 0
}
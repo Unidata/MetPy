{
  "cells": [
    {
      "cell_type": "markdown",
      "metadata": {},
      "source": [
        "\n# NOAA NHC Wind Speed Probabilities\n\nDemonstrate the use of geoJSON and shapefile data with PlotGeometry in MetPy's simplified\nplotting interface. This example walks through plotting cities, along with 5-day\ntropical-storm-force wind speed probabilities from NOAA National Hurricane Center.\n\nThe wind probabilities shapefile was retrieved from the [National Hurricane Center's GIS page](https://www.nhc.noaa.gov/gis/). The cities shapefile was retrieved from [Stanford Libraries](https://earthworks.stanford.edu/catalog/stanford-bx729wr3020).\n"
      ]
    },
    {
      "cell_type": "code",
      "execution_count": null,
      "metadata": {
        "collapsed": false
      },
      "outputs": [],
      "source": [
        "import geopandas\n\nfrom metpy.cbook import get_test_data\nfrom metpy.plots import MapPanel, PanelContainer, PlotGeometry"
      ]
    },
    {
      "cell_type": "markdown",
      "metadata": {},
      "source": [
        "Read in the shapefile file containing the wind probabilities.\n\n"
      ]
    },
    {
      "cell_type": "code",
      "execution_count": null,
      "metadata": {
        "collapsed": false
      },
      "outputs": [],
      "source": [
        "wind_data = geopandas.read_file(get_test_data('nhc_wind_prob_2021082012.zip'))"
      ]
    },
    {
      "cell_type": "markdown",
      "metadata": {},
      "source": [
        "Add the color scheme to the GeoDataFrame. This is the same color scheme used by the National\nHurricane Center for their wind speed probability plots.\n\n"
      ]
    },
    {
      "cell_type": "code",
      "execution_count": null,
      "metadata": {
        "collapsed": false
      },
      "outputs": [],
      "source": [
        "wind_data['fill'] = ['none', '#008B00', '#00CD00', '#7FFF00', '#FFFF00', '#FFD700',\n                     '#CD8500', '#FF7F00', '#CD0000', '#8B0000', '#8B008B']\nwind_data"
      ]
    },
    {
      "cell_type": "markdown",
      "metadata": {},
      "source": [
        "Read in the shapefile file containing the cities.\n\n"
      ]
    },
    {
      "cell_type": "code",
      "execution_count": null,
      "metadata": {
        "collapsed": false
      },
      "outputs": [],
      "source": [
        "cities = geopandas.read_file(get_test_data('us_cities.zip'))"
      ]
    },
    {
      "cell_type": "markdown",
      "metadata": {},
      "source": [
        "There are thousands of cities in the United States. We choose a few cities here that we want\nto display on our plot.\n\n"
      ]
    },
    {
      "cell_type": "code",
      "execution_count": null,
      "metadata": {
        "collapsed": false
      },
      "outputs": [],
      "source": [
        "cities = cities.loc[\n    ((cities['NAME'] == 'Myrtle Beach') & (cities['STATE'] == 'SC'))\n    | ((cities['NAME'] == 'Hatteras') & (cities['STATE'] == 'NC'))\n    | ((cities['NAME'] == 'Ocean City') & (cities['STATE'] == 'MD'))\n    | ((cities['NAME'] == 'New York') & (cities['STATE'] == 'NY'))\n    | ((cities['NAME'] == 'Nantucket') & (cities['STATE'] == 'MA'))\n    | ((cities['NAME'] == 'Portland') & (cities['STATE'] == 'ME'))\n]\ncities"
      ]
    },
    {
      "cell_type": "markdown",
      "metadata": {},
      "source": [
        "Make sure that both GeoDataFrames have the same coordinate reference system (CRS).\n\n"
      ]
    },
    {
      "cell_type": "code",
      "execution_count": null,
      "metadata": {
        "collapsed": false
      },
      "outputs": [],
      "source": [
        "cities = cities.to_crs(wind_data.crs)"
      ]
    },
    {
      "cell_type": "markdown",
      "metadata": {},
      "source": [
        "We want to find out what the probability of tropical-storm-force winds is for each of the\ncities we selected above. Geopandas provides a spatial join method, which merges the two\nGeoDataFrames and can tell us which wind speed probability polygon each of our city points\nlies within. That information is stored in the 'PERCENTAGE' column below.\n\n"
      ]
    },
    {
      "cell_type": "code",
      "execution_count": null,
      "metadata": {
        "collapsed": false
      },
      "outputs": [],
      "source": [
        "cities = geopandas.sjoin(cities, wind_data, how='left', predicate='within')\ncities"
      ]
    },
    {
      "cell_type": "markdown",
      "metadata": {},
      "source": [
        "Plot the wind speed probability polygons from the 'geometry' column. Use the 'fill' column\nwe created above as the fill colors for the polygons, and set the stroke color to 'none' for\nall of the polygons.\n\n"
      ]
    },
    {
      "cell_type": "code",
      "execution_count": null,
      "metadata": {
        "collapsed": false
      },
      "outputs": [],
      "source": [
        "wind_geo = PlotGeometry()\nwind_geo.geometry = wind_data['geometry']\nwind_geo.fill = wind_data['fill']\nwind_geo.stroke = 'none'"
      ]
    },
    {
      "cell_type": "markdown",
      "metadata": {},
      "source": [
        "Plot the cities from the 'geometry' column, marked with diamonds ('D'). Label each point\nwith the name of the city, and it's probability of tropical-storm-force winds on the line\nbelow. Points are set to plot in white and the font color is set to black.\n\n"
      ]
    },
    {
      "cell_type": "code",
      "execution_count": null,
      "metadata": {
        "collapsed": false
      },
      "outputs": [],
      "source": [
        "city_geo = PlotGeometry()\ncity_geo.geometry = cities['geometry']\ncity_geo.marker = 'D'\ncity_geo.labels = cities['NAME'] + '\\n(' + cities['PERCENTAGE'] + ')'\ncity_geo.fill = 'white'\ncity_geo.label_facecolor = 'black'"
      ]
    },
    {
      "cell_type": "markdown",
      "metadata": {},
      "source": [
        "Add the geometry plots to a panel and container. Finally, we are left with a complete plot of\nwind speed probabilities, along with some select cities and their specific probabilities.\n\n"
      ]
    },
    {
      "cell_type": "code",
      "execution_count": null,
      "metadata": {
        "collapsed": false
      },
      "outputs": [],
      "source": [
        "panel = MapPanel()\npanel.title = 'NHC 5-Day Tropical-Storm-Force Wind Probabilities (Valid 12z Aug 20 2021)'\npanel.plots = [wind_geo, city_geo]\npanel.area = [-90, -52, 27, 48]\npanel.projection = 'mer'\npanel.layers = ['lakes', 'land', 'ocean', 'states', 'coastline', 'borders']\n\npc = PanelContainer()\npc.size = (12, 10)\npc.panels = [panel]\npc.show()"
      ]
    }
  ],
  "metadata": {
    "kernelspec": {
      "display_name": "Python 3",
      "language": "python",
      "name": "python3"
    },
    "language_info": {
      "codemirror_mode": {
        "name": "ipython",
        "version": 3
      },
      "file_extension": ".py",
      "mimetype": "text/x-python",
      "name": "python",
      "nbconvert_exporter": "python",
      "pygments_lexer": "ipython3",
      "version": "3.13.3"
    }
  },
  "nbformat": 4,
  "nbformat_minor": 0
}
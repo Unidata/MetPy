{
  "cells": [
    {
      "cell_type": "markdown",
      "metadata": {},
      "source": [
        "\n# XArray Projection Handling\n\nUse MetPy's XArray accessors to simplify opening a data file and plotting\ndata on a map using CartoPy.\n"
      ]
    },
    {
      "cell_type": "code",
      "execution_count": null,
      "metadata": {
        "collapsed": false
      },
      "outputs": [],
      "source": [
        "import cartopy.feature as cfeature\nimport matplotlib.pyplot as plt\nimport xarray as xr\n\n# Any import of metpy will activate the accessors\nfrom metpy.cbook import get_test_data\n\nds = xr.open_dataset(get_test_data('narr_example.nc', as_file_obj=False))\ndata_var = ds.metpy.parse_cf('Temperature')\n\nx = data_var.x\ny = data_var.y\nim_data = data_var.isel(time=0).sel(isobaric=1000.)\n\nfig = plt.figure(figsize=(14, 14))\nax = fig.add_subplot(1, 1, 1, projection=data_var.metpy.cartopy_crs)\n\nax.imshow(im_data, extent=(x.min(), x.max(), y.min(), y.max()),\n          cmap='RdBu', origin='lower' if y[0] < y[-1] else 'upper')\nax.coastlines(color='tab:green', resolution='10m')\nax.add_feature(cfeature.LAKES.with_scale('10m'), facecolor='none', edgecolor='tab:blue')\nax.add_feature(cfeature.RIVERS.with_scale('10m'), edgecolor='tab:blue')\n\nplt.show()"
      ]
    }
  ],
  "metadata": {
    "kernelspec": {
      "display_name": "Python 3",
      "language": "python",
      "name": "python3"
    },
    "language_info": {
      "codemirror_mode": {
        "name": "ipython",
        "version": 3
      },
      "file_extension": ".py",
      "mimetype": "text/x-python",
      "name": "python",
      "nbconvert_exporter": "python",
      "pygments_lexer": "ipython3",
      "version": "3.13.3"
    }
  },
  "nbformat": 4,
  "nbformat_minor": 0
}
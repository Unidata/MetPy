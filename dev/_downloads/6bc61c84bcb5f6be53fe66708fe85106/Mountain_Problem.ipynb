{
  "cells": [
    {
      "cell_type": "markdown",
      "metadata": {},
      "source": [
        "\n# Mountain Problem\n\nUse functions from `metpy.calc` to perform calculations for a rising and sinking parcel.\n\nThe code below explores a common problem in meteorology where a parcel can be defined and\nlifted initiatlly dry adibatically until saturation is reached. It then ascends moist\nadiabatically to a desired level before descending back to the original level from which the\nparcel started.\n"
      ]
    },
    {
      "cell_type": "code",
      "execution_count": null,
      "metadata": {
        "collapsed": false
      },
      "outputs": [],
      "source": [
        "import numpy as np\n\nfrom metpy.calc import dry_lapse, lcl, moist_lapse\nfrom metpy.units import units"
      ]
    },
    {
      "cell_type": "markdown",
      "metadata": {},
      "source": [
        "To set up the classic mountain problem, let's define that the parcel will start at 1000-hPa\nand ascend to 700-hPa with an initial temperature of 25 Celsius and a dewpoint of 10 Celsius\n\n"
      ]
    },
    {
      "cell_type": "code",
      "execution_count": null,
      "metadata": {
        "collapsed": false
      },
      "outputs": [],
      "source": [
        "p = np.linspace(1000, 700, 301) * units.hPa\nT = 25 * units.degC\nTd = 10 * units.degC"
      ]
    },
    {
      "cell_type": "markdown",
      "metadata": {},
      "source": [
        "We first need to determine the maximum level of dry ascent. For this we can use the LCL\nfunction and retain the pressure level and temperature of the parcel at the LCL\n\n"
      ]
    },
    {
      "cell_type": "code",
      "execution_count": null,
      "metadata": {
        "collapsed": false
      },
      "outputs": [],
      "source": [
        "lclp, lclt = lcl(p[0], T, Td)\nprint('Initial dry ascent yields:')\nprint(f'  LCL Pressure: {lclp:.2f}')\nprint(f'  LCL Temperature: {lclt:.2f}')\nprint()"
      ]
    },
    {
      "cell_type": "markdown",
      "metadata": {},
      "source": [
        "Knowing that the calculation of the dry ascent is accomplished by the LCL calculation, we\nknow how to begin our moist ascent. Begin by subsetting the pressure to begin at levels\nless than or equal to the LCL pressure and use the moist_lapse to find the temperature\nat the top of our ascent (700-hPa in our case)\n\n"
      ]
    },
    {
      "cell_type": "code",
      "execution_count": null,
      "metadata": {
        "collapsed": false
      },
      "outputs": [],
      "source": [
        "moist_ascent_p = p[p <= lclp]\nmoist_ascent_t = moist_lapse(moist_ascent_p, lclt)\nprint('After moist ascent:')\nprint(f'  Temperature at top of ascent: {moist_ascent_t[-1]:.2f}')\nprint()"
      ]
    },
    {
      "cell_type": "markdown",
      "metadata": {},
      "source": [
        "Now to come \"down the mountain\" our parcel will warm dry adiabatically, so we can use the\ndry_laspe function to descend from the lowest pressure (using [::-1] to reverse the order)\nand convert our solution to Celsius\n\n"
      ]
    },
    {
      "cell_type": "code",
      "execution_count": null,
      "metadata": {
        "collapsed": false
      },
      "outputs": [],
      "source": [
        "dry_descent = dry_lapse(p[::-1], moist_ascent_t[-1]).to('degC')"
      ]
    },
    {
      "cell_type": "markdown",
      "metadata": {},
      "source": [
        "Pulling it all together\n\n"
      ]
    },
    {
      "cell_type": "code",
      "execution_count": null,
      "metadata": {
        "collapsed": false
      },
      "outputs": [],
      "source": [
        "print(f'Starting Temperature: {T:.2f}')\nprint(f'Starting Dewpoint: {Td:.2f}', end='\\n\\n')\nprint(f'Final Temperature: {dry_descent[-1]:.2f}')\nprint(f'Final Dewpoint: {moist_ascent_t[-1]:.2f}')"
      ]
    },
    {
      "cell_type": "markdown",
      "metadata": {},
      "source": [
        "So as we expect the parcel has warmed and dried out through the combined dry and moist ascent\ndue to the release of latent heat and subsequent precipitating out of moisture from the\nparcel\n\n"
      ]
    }
  ],
  "metadata": {
    "kernelspec": {
      "display_name": "Python 3",
      "language": "python",
      "name": "python3"
    },
    "language_info": {
      "codemirror_mode": {
        "name": "ipython",
        "version": 3
      },
      "file_extension": ".py",
      "mimetype": "text/x-python",
      "name": "python",
      "nbconvert_exporter": "python",
      "pygments_lexer": "ipython3",
      "version": "3.13.3"
    }
  },
  "nbformat": 4,
  "nbformat_minor": 0
}
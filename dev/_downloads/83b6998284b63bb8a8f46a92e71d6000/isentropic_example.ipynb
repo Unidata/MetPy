{
  "cells": [
    {
      "cell_type": "markdown",
      "metadata": {},
      "source": [
        "\n# Isentropic Analysis\n\nThe MetPy function `mpcalc.isentropic_interpolation` allows for isentropic analysis from model\nanalysis data in isobaric coordinates.\n"
      ]
    },
    {
      "cell_type": "code",
      "execution_count": null,
      "metadata": {
        "collapsed": false
      },
      "outputs": [],
      "source": [
        "import cartopy.crs as ccrs\nimport cartopy.feature as cfeature\nimport matplotlib.pyplot as plt\nimport numpy as np\nimport xarray as xr\n\nimport metpy.calc as mpcalc\nfrom metpy.cbook import get_test_data\nfrom metpy.plots import add_metpy_logo, add_timestamp\nfrom metpy.units import units"
      ]
    },
    {
      "cell_type": "markdown",
      "metadata": {},
      "source": [
        "**Getting the data**\n\nIn this example, [NARR reanalysis data](\nhttps://www.ncei.noaa.gov/products/weather-climate-models/north-american-regional)\nfor 18 UTC 04 April 1987 from the National Centers for Environmental Information will be\nused.\n\n"
      ]
    },
    {
      "cell_type": "code",
      "execution_count": null,
      "metadata": {
        "collapsed": false
      },
      "outputs": [],
      "source": [
        "data = xr.open_dataset(get_test_data('narr_example.nc', False))"
      ]
    },
    {
      "cell_type": "code",
      "execution_count": null,
      "metadata": {
        "collapsed": false
      },
      "outputs": [],
      "source": [
        "print(list(data.variables))"
      ]
    },
    {
      "cell_type": "markdown",
      "metadata": {},
      "source": [
        "We will reduce the dimensionality of the data as it is pulled in to remove an empty time\ndimension, as well as add longitude and latitude as coordinates (instead of data variables).\n\n"
      ]
    },
    {
      "cell_type": "code",
      "execution_count": null,
      "metadata": {
        "collapsed": false
      },
      "outputs": [],
      "source": [
        "data = data.squeeze().set_coords(['lon', 'lat'])"
      ]
    },
    {
      "cell_type": "markdown",
      "metadata": {},
      "source": [
        "To properly interpolate to isentropic coordinates, the function must know the desired output\nisentropic levels. An array with these levels will be created below.\n\n"
      ]
    },
    {
      "cell_type": "code",
      "execution_count": null,
      "metadata": {
        "collapsed": false
      },
      "outputs": [],
      "source": [
        "isentlevs = [296.] * units.kelvin"
      ]
    },
    {
      "cell_type": "markdown",
      "metadata": {},
      "source": [
        "**Conversion to Isentropic Coordinates**\n\nOnce three dimensional data in isobaric coordinates has been pulled and the desired\nisentropic levels created, the conversion to isentropic coordinates can begin. Data will be\npassed to the function as below. The function requires that isentropic levels, as well as a\nDataArray of temperature on isobaric coordinates be input. Any additional inputs (in this\ncase specific humidity, geopotential height, and u and v wind components) will be\nlogarithmicaly interpolated to isentropic space.\n\n"
      ]
    },
    {
      "cell_type": "code",
      "execution_count": null,
      "metadata": {
        "collapsed": false
      },
      "outputs": [],
      "source": [
        "isent_data = mpcalc.isentropic_interpolation_as_dataset(\n    isentlevs,\n    data['Temperature'],\n    data['u_wind'],\n    data['v_wind'],\n    data['Specific_humidity'],\n    data['Geopotential_height']\n)"
      ]
    },
    {
      "cell_type": "markdown",
      "metadata": {},
      "source": [
        "The output is an xarray Dataset:\n\n"
      ]
    },
    {
      "cell_type": "code",
      "execution_count": null,
      "metadata": {
        "collapsed": false
      },
      "outputs": [],
      "source": [
        "isent_data"
      ]
    },
    {
      "cell_type": "markdown",
      "metadata": {},
      "source": [
        "Note that the units on our wind variables are not ideal for plotting. Instead, let us\nconvert them to more appropriate values.\n\n"
      ]
    },
    {
      "cell_type": "code",
      "execution_count": null,
      "metadata": {
        "collapsed": false
      },
      "outputs": [],
      "source": [
        "isent_data['u_wind'] = isent_data['u_wind'].metpy.convert_units('kt')\nisent_data['v_wind'] = isent_data['v_wind'].metpy.convert_units('kt')"
      ]
    },
    {
      "cell_type": "markdown",
      "metadata": {},
      "source": [
        "**Converting to Relative Humidity**\n\nThe NARR only gives specific humidity on isobaric vertical levels, so relative humidity will\nhave to be calculated after the interpolation to isentropic space.\n\n"
      ]
    },
    {
      "cell_type": "code",
      "execution_count": null,
      "metadata": {
        "collapsed": false
      },
      "outputs": [],
      "source": [
        "isent_data['Relative_humidity'] = mpcalc.relative_humidity_from_specific_humidity(\n    isent_data['pressure'],\n    isent_data['temperature'],\n    isent_data['Specific_humidity']\n).metpy.convert_units('percent')"
      ]
    },
    {
      "cell_type": "markdown",
      "metadata": {},
      "source": [
        "**Plotting the Isentropic Analysis**\n\n"
      ]
    },
    {
      "cell_type": "code",
      "execution_count": null,
      "metadata": {
        "collapsed": false
      },
      "outputs": [],
      "source": [
        "# Set up our projection and coordinates\ncrs = ccrs.LambertConformal(central_longitude=-100.0, central_latitude=45.0)\nlon = isent_data['pressure'].metpy.longitude\nlat = isent_data['pressure'].metpy.latitude\n\n# Coordinates to limit map area\nbounds = [(-122., -75., 25., 50.)]\n# Choose a level to plot, in this case 296 K (our sole level in this example)\nlevel = 0\n\nfig = plt.figure(figsize=(17., 12.))\nadd_metpy_logo(fig, 120, 245, size='large')\nax = fig.add_subplot(1, 1, 1, projection=crs)\nax.set_extent(*bounds, crs=ccrs.PlateCarree())\nax.add_feature(cfeature.COASTLINE.with_scale('50m'), linewidth=0.75)\nax.add_feature(cfeature.STATES, linewidth=0.5)\n\n# Plot the surface\nclevisent = np.arange(0, 1000, 25)\ncs = ax.contour(lon, lat, isent_data['pressure'].isel(isentropic_level=level),\n                clevisent, colors='k', linewidths=1.0, linestyles='solid',\n                transform=ccrs.PlateCarree())\ncs.clabel(fontsize=10, inline=1, inline_spacing=7, fmt='%i', rightside_up=True,\n          use_clabeltext=True)\n\n# Plot RH\ncf = ax.contourf(lon, lat, isent_data['Relative_humidity'].isel(isentropic_level=level),\n                 range(10, 106, 5), cmap=plt.cm.gist_earth_r, transform=ccrs.PlateCarree())\ncb = fig.colorbar(cf, orientation='horizontal', aspect=65, shrink=0.5, pad=0.05,\n                  extendrect='True')\ncb.set_label('Relative Humidity', size='x-large')\n\n# Plot wind barbs\nax.barbs(lon.values, lat.values, isent_data['u_wind'].isel(isentropic_level=level).values,\n         isent_data['v_wind'].isel(isentropic_level=level).values, length=6,\n         regrid_shape=20, transform=ccrs.PlateCarree())\n\n# Make some titles\nax.set_title(f'{isentlevs[level]:~.0f} Isentropic Pressure (hPa), Wind (kt), '\n             'Relative Humidity (percent)', loc='left')\nadd_timestamp(ax, isent_data['time'].values.astype('datetime64[ms]').astype('O'),\n              y=0.02, high_contrast=True)\nfig.tight_layout()"
      ]
    },
    {
      "cell_type": "markdown",
      "metadata": {},
      "source": [
        "**Montgomery Streamfunction**\n\nThe Montgomery Streamfunction, ${\\psi} = gdz + CpT$, is often desired because its\ngradient is proportional to the geostrophic wind in isentropic space. This can be easily\ncalculated with `mpcalc.montgomery_streamfunction`.\n\n"
      ]
    },
    {
      "cell_type": "code",
      "execution_count": null,
      "metadata": {
        "collapsed": false
      },
      "outputs": [],
      "source": [
        "# Calculate Montgomery Streamfunction and scale by 10^-2 for plotting\nmsf = mpcalc.montgomery_streamfunction(\n    isent_data['Geopotential_height'],\n    isent_data['temperature']\n).data.to_base_units() * 1e-2\n\n# Choose a level to plot, in this case 296 K\nlevel = 0\n\nfig = plt.figure(figsize=(17., 12.))\nadd_metpy_logo(fig, 120, 250, size='large')\nax = plt.subplot(111, projection=crs)\nax.set_extent(*bounds, crs=ccrs.PlateCarree())\nax.add_feature(cfeature.COASTLINE.with_scale('50m'), linewidth=0.75)\nax.add_feature(cfeature.STATES.with_scale('50m'), linewidth=0.5)\n\n# Plot the surface\nclevmsf = np.arange(0, 4000, 5)\ncs = ax.contour(lon, lat, msf[level, :, :], clevmsf,\n                colors='k', linewidths=1.0, linestyles='solid', transform=ccrs.PlateCarree())\ncs.clabel(fontsize=10, inline=1, inline_spacing=7, fmt='%i', rightside_up=True,\n          use_clabeltext=True)\n\n# Plot RH\ncf = ax.contourf(lon, lat, isent_data['Relative_humidity'].isel(isentropic_level=level),\n                 range(10, 106, 5), cmap=plt.cm.gist_earth_r, transform=ccrs.PlateCarree())\ncb = fig.colorbar(cf, orientation='horizontal', aspect=65, shrink=0.5, pad=0.05,\n                  extendrect='True')\ncb.set_label('Relative Humidity', size='x-large')\n\n# Plot wind barbs\nax.barbs(lon.values, lat.values, isent_data['u_wind'].isel(isentropic_level=level).values,\n         isent_data['v_wind'].isel(isentropic_level=level).values, length=6,\n         regrid_shape=20, transform=ccrs.PlateCarree())\n\n# Make some titles\nax.set_title(f'{isentlevs[level]:~.0f} Montgomery Streamfunction '\n             r'($10^{-2} m^2 s^{-2}$), Wind (kt), Relative Humidity (percent)', loc='left')\nadd_timestamp(ax, isent_data['time'].values.astype('datetime64[ms]').astype('O'),\n              y=0.02, pretext='Valid: ', high_contrast=True)\n\nfig.tight_layout()\nplt.show()"
      ]
    }
  ],
  "metadata": {
    "kernelspec": {
      "display_name": "Python 3",
      "language": "python",
      "name": "python3"
    },
    "language_info": {
      "codemirror_mode": {
        "name": "ipython",
        "version": 3
      },
      "file_extension": ".py",
      "mimetype": "text/x-python",
      "name": "python",
      "nbconvert_exporter": "python",
      "pygments_lexer": "ipython3",
      "version": "3.13.3"
    }
  },
  "nbformat": 4,
  "nbformat_minor": 0
}
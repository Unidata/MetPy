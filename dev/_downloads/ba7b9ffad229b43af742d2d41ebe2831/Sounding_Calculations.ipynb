{
  "cells": [
    {
      "cell_type": "markdown",
      "metadata": {},
      "source": [
        "\n# Sounding Calculation Examples\n\nUse functions from `metpy.calc` to perform a number of calculations using sounding data.\n\nThe code below uses example data to perform many sounding calculations for a severe weather\nevent on May 22, 2011 from the Norman, OK sounding.\n"
      ]
    },
    {
      "cell_type": "code",
      "execution_count": null,
      "metadata": {
        "collapsed": false
      },
      "outputs": [],
      "source": [
        "import numpy as np\nimport pandas as pd\n\nimport metpy.calc as mpcalc\nfrom metpy.cbook import get_test_data\nfrom metpy.units import units"
      ]
    },
    {
      "cell_type": "markdown",
      "metadata": {},
      "source": [
        "Effective Shear Algorithm for use in Supercell Composite Calculation\n\n"
      ]
    },
    {
      "cell_type": "code",
      "execution_count": null,
      "metadata": {
        "collapsed": false
      },
      "outputs": [],
      "source": [
        "def effective_layer(p, t, td, h, height_layer=False):\n    \"\"\"A function that determines the effective inflow layer for a convective sounding.\n\n    Uses the default values of Thompason et al. (2004) for CAPE (100 J/kg) and CIN (-250 J/kg).\n\n    Input:\n      - p: sounding pressure with units\n      - T: sounding temperature with units\n      - Td: sounding dewpoint temperature with units\n      - h: sounding heights with units\n\n    Returns:\n      - pbot/hbot, ptop/htop: pressure/height of the bottom level,\n                              pressure/height of the top level\n    \"\"\"\n    from metpy.calc import cape_cin, parcel_profile\n    from metpy.units import units\n\n    pbot = None\n\n    for i in range(p.shape[0]):\n        prof = parcel_profile(p[i:], t[i], td[i])\n        sbcape, sbcin = cape_cin(p[i:], t[i:], td[i:], prof)\n        if sbcape >= 100 * units('J/kg') and sbcin > -250 * units('J/kg'):\n            pbot = p[i]\n            hbot = h[i]\n            bot_idx = i\n            break\n    if not pbot:\n        return None, None\n\n    for i in range(bot_idx + 1, p.shape[0]):\n        prof = parcel_profile(p[i:], t[i], td[i])\n        sbcape, sbcin = cape_cin(p[i:], t[i:], td[i:], prof)\n        if sbcape < 100 * units('J/kg') or sbcin < -250 * units('J/kg'):\n            ptop = p[i]\n            htop = h[i]\n            break\n\n    if height_layer:\n        return hbot, htop\n    else:\n        return pbot, ptop"
      ]
    },
    {
      "cell_type": "markdown",
      "metadata": {},
      "source": [
        "Upper air data can be obtained using the siphon package, but for this example we will use\nsome of MetPy's sample data.\n\n"
      ]
    },
    {
      "cell_type": "code",
      "execution_count": null,
      "metadata": {
        "collapsed": false
      },
      "outputs": [],
      "source": [
        "col_names = ['pressure', 'height', 'temperature', 'dewpoint', 'direction', 'speed']\n\ndf = pd.read_fwf(get_test_data('20110522_OUN_12Z.txt', as_file_obj=False),\n                 skiprows=7, usecols=[0, 1, 2, 3, 6, 7], names=col_names)\n\n# Drop any rows with all NaN values for T, Td, winds\ndf = df.dropna(subset=('temperature', 'dewpoint', 'direction', 'speed'\n                       ), how='all').reset_index(drop=True)"
      ]
    },
    {
      "cell_type": "markdown",
      "metadata": {},
      "source": [
        "Isolate needed variables from our data file and attach units\n\n"
      ]
    },
    {
      "cell_type": "code",
      "execution_count": null,
      "metadata": {
        "collapsed": false
      },
      "outputs": [],
      "source": [
        "p = df['pressure'].values * units.hPa\nT = df['temperature'].values * units.degC\nTd = df['dewpoint'].values * units.degC\nwdir = df['direction'].values * units.degree\nsped = df['speed'].values * units.knot\nheight = df['height'].values * units.meter"
      ]
    },
    {
      "cell_type": "markdown",
      "metadata": {},
      "source": [
        "Compute needed variables from our data file and attach units\n\n"
      ]
    },
    {
      "cell_type": "code",
      "execution_count": null,
      "metadata": {
        "collapsed": false
      },
      "outputs": [],
      "source": [
        "relhum = mpcalc.relative_humidity_from_dewpoint(T, Td)\nmixrat = mpcalc.mixing_ratio_from_relative_humidity(p, T, relhum)"
      ]
    },
    {
      "cell_type": "markdown",
      "metadata": {},
      "source": [
        "Compute the wind components\n\n"
      ]
    },
    {
      "cell_type": "code",
      "execution_count": null,
      "metadata": {
        "collapsed": false
      },
      "outputs": [],
      "source": [
        "u, v = mpcalc.wind_components(sped, wdir)"
      ]
    },
    {
      "cell_type": "markdown",
      "metadata": {},
      "source": [
        "Compute common sounding index parameters\n\n"
      ]
    },
    {
      "cell_type": "code",
      "execution_count": null,
      "metadata": {
        "collapsed": false
      },
      "outputs": [],
      "source": [
        "ctotals = mpcalc.cross_totals(p, T, Td)\nkindex = mpcalc.k_index(p, T, Td)\ngdi = mpcalc.galvez_davison_index(p, T, mixrat, p[0])\nshowalter = mpcalc.showalter_index(p, T, Td)\ntotal_totals = mpcalc.total_totals_index(p, T, Td)\nvert_totals = mpcalc.vertical_totals(p, T)"
      ]
    },
    {
      "cell_type": "markdown",
      "metadata": {},
      "source": [
        "Compture the parcel profile for a surface-based parcel\n\n"
      ]
    },
    {
      "cell_type": "code",
      "execution_count": null,
      "metadata": {
        "collapsed": false
      },
      "outputs": [],
      "source": [
        "prof = mpcalc.parcel_profile(p, T[0], Td[0])"
      ]
    },
    {
      "cell_type": "markdown",
      "metadata": {},
      "source": [
        "Compute the corresponding LI, CAPE, CIN values for a surface parcel\n\n"
      ]
    },
    {
      "cell_type": "code",
      "execution_count": null,
      "metadata": {
        "collapsed": false
      },
      "outputs": [],
      "source": [
        "lift_index = mpcalc.lifted_index(p, T, prof)\ncape, cin = mpcalc.cape_cin(p, T, Td, prof)"
      ]
    },
    {
      "cell_type": "markdown",
      "metadata": {},
      "source": [
        "Determine the LCL, LFC, and EL for our surface parcel\n\n"
      ]
    },
    {
      "cell_type": "code",
      "execution_count": null,
      "metadata": {
        "collapsed": false
      },
      "outputs": [],
      "source": [
        "lclp, lclt = mpcalc.lcl(p[0], T[0], Td[0])\nlfcp, _ = mpcalc.lfc(p, T, Td)\nel_pressure, _ = mpcalc.el(p, T, Td, prof)"
      ]
    },
    {
      "cell_type": "markdown",
      "metadata": {},
      "source": [
        "Compute the characteristics of a mean layer parcel (50-hPa depth)\n\n"
      ]
    },
    {
      "cell_type": "code",
      "execution_count": null,
      "metadata": {
        "collapsed": false
      },
      "outputs": [],
      "source": [
        "ml_t, ml_td = mpcalc.mixed_layer(p, T, Td, depth=50 * units.hPa)\nml_p, _, _ = mpcalc.mixed_parcel(p, T, Td, depth=50 * units.hPa)\nmlcape, mlcin = mpcalc.mixed_layer_cape_cin(p, T, prof, depth=50 * units.hPa)"
      ]
    },
    {
      "cell_type": "markdown",
      "metadata": {},
      "source": [
        "Compute the characteristics of the most unstable parcel (50-hPa depth)\n\n"
      ]
    },
    {
      "cell_type": "code",
      "execution_count": null,
      "metadata": {
        "collapsed": false
      },
      "outputs": [],
      "source": [
        "mu_p, mu_t, mu_td, _ = mpcalc.most_unstable_parcel(p, T, Td, depth=50 * units.hPa)\nmucape, mucin = mpcalc.most_unstable_cape_cin(p, T, Td, depth=50 * units.hPa)"
      ]
    },
    {
      "cell_type": "markdown",
      "metadata": {},
      "source": [
        "Compute the Bunkers Storm Motion vector and use to calculate the critical angle\n\n"
      ]
    },
    {
      "cell_type": "code",
      "execution_count": null,
      "metadata": {
        "collapsed": false
      },
      "outputs": [],
      "source": [
        "(u_storm, v_storm), *_ = mpcalc.bunkers_storm_motion(p, u, v, height)\ncritical_angle = mpcalc.critical_angle(p, u, v, height, u_storm, v_storm)"
      ]
    },
    {
      "cell_type": "markdown",
      "metadata": {},
      "source": [
        "Work on the calculations needed to compute the significant tornado parameter\n\n"
      ]
    },
    {
      "cell_type": "code",
      "execution_count": null,
      "metadata": {
        "collapsed": false
      },
      "outputs": [],
      "source": [
        "# Estimate height of LCL in meters from hydrostatic thickness\nnew_p = np.append(p[p > lclp], lclp)\nnew_t = np.append(T[p > lclp], lclt)\nlcl_height = mpcalc.thickness_hydrostatic(new_p, new_t)\n\n# Compute Surface-based CAPE\nsbcape, _ = mpcalc.surface_based_cape_cin(p, T, Td)\n\n# Compute SRH, given a motion vector toward the NE at 9.9 m/s\n*_, total_helicity = mpcalc.storm_relative_helicity(height, u, v, depth=1 * units.km,\n                                                    storm_u=u_storm, storm_v=v_storm)\n\n# Copmute Bulk Shear components and then magnitude\nubshr, vbshr = mpcalc.bulk_shear(p, u, v, height=height, depth=6 * units.km)\nbshear = mpcalc.wind_speed(ubshr, vbshr)\n\n# Use all computed pieces to calculate the Significant Tornado parameter\nsig_tor = mpcalc.significant_tornado(sbcape, lcl_height,\n                                     total_helicity, bshear).to_base_units()"
      ]
    },
    {
      "cell_type": "markdown",
      "metadata": {},
      "source": [
        "Compute the supercell composite parameter, if possible\n\n"
      ]
    },
    {
      "cell_type": "code",
      "execution_count": null,
      "metadata": {
        "collapsed": false
      },
      "outputs": [],
      "source": [
        "# Determine the top and bottom of the effective layer using our own function\nhbot, htop = effective_layer(p, T, Td, height, height_layer=True)\n\n# Perform the calculation of supercell composite if an effective layer exists\nif hbot:\n    esrh = mpcalc.storm_relative_helicity(height, u, v, depth=htop - hbot, bottom=hbot)\n    eubshr, evbshr = mpcalc.bulk_shear(p, u, v, height=height, depth=htop - hbot, bottom=hbot)\n    ebshear = mpcalc.wind_speed(eubshr, evbshr)\n\n    super_comp = mpcalc.supercell_composite(mucape, esrh[0], ebshear)\nelse:\n    super_comp = np.nan"
      ]
    },
    {
      "cell_type": "markdown",
      "metadata": {},
      "source": [
        "Print Important Sounding Parameters\n\n"
      ]
    },
    {
      "cell_type": "code",
      "execution_count": null,
      "metadata": {
        "collapsed": false
      },
      "outputs": [],
      "source": [
        "print('Important Sounding Parameters for KOUN on 22 Mary 2011 12 UTC')\nprint()\nprint(f'        CAPE: {cape:.2f}')\nprint(f'         CIN: {cin:.2f}')\nprint(f'LCL Pressure: {lclp:.2f}')\nprint(f'LFC Pressure: {lfcp:.2f}')\nprint(f' EL Pressure: {el_pressure:.2f}')\nprint()\nprint(f'   Lifted Index: {lift_index:.2f}')\nprint(f'        K-Index: {kindex:.2f}')\nprint(f'Showalter Index: {showalter:.2f}')\nprint(f'   Cross Totals: {ctotals:.2f}')\nprint(f'   Total Totals: {total_totals:.2f}')\nprint(f'Vertical Totals: {vert_totals:.2f}')\nprint()\nprint('Mixed Layer - Lowest 50-hPa')\nprint(f'     ML Temp: {ml_t:.2f}')\nprint(f'     ML Dewp: {ml_td:.2f}')\nprint(f'     ML CAPE: {mlcape:.2f}')\nprint(f'      ML CIN: {mlcin:.2f}')\nprint()\nprint('Most Unstable - Lowest 50-hPa')\nprint(f'     MU Temp: {mu_t:.2f}')\nprint(f'     MU Dewp: {mu_td:.2f}')\nprint(f' MU Pressure: {mu_p:.2f}')\nprint(f'     MU CAPE: {mucape:.2f}')\nprint(f'      MU CIN: {mucin:.2f}')\nprint()\nprint('Bunkers Storm Motion Vector')\nprint(f'  u_storm: {u_storm:.2f}')\nprint(f'  v_storm: {v_storm:.2f}')\nprint(f'Critical Angle: {critical_angle:.2f}')\nprint()\nprint(f'Storm Relative Helicity: {total_helicity:.2f}')\nprint(f'Significant Tornado Parameter: {sig_tor:.2f}')\nprint(f'Supercell Composite Parameter: {super_comp:.2f}')"
      ]
    }
  ],
  "metadata": {
    "kernelspec": {
      "display_name": "Python 3",
      "language": "python",
      "name": "python3"
    },
    "language_info": {
      "codemirror_mode": {
        "name": "ipython",
        "version": 3
      },
      "file_extension": ".py",
      "mimetype": "text/x-python",
      "name": "python",
      "nbconvert_exporter": "python",
      "pygments_lexer": "ipython3",
      "version": "3.13.3"
    }
  },
  "nbformat": 4,
  "nbformat_minor": 0
}
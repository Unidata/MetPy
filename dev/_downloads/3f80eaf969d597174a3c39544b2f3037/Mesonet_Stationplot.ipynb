{
  "cells": [
    {
      "cell_type": "markdown",
      "metadata": {},
      "source": [
        "\n# Mesonet Station Plot\n\nMake a surface station plot with Oklahoma Mesonet data.\n\nThe station plot itself is pretty straightforward, but there is a bit of code to perform the\ndata-wrangling.\n"
      ]
    },
    {
      "cell_type": "code",
      "execution_count": null,
      "metadata": {
        "collapsed": false
      },
      "outputs": [],
      "source": [
        "import cartopy.crs as ccrs\nimport cartopy.feature as cfeature\nimport matplotlib.pyplot as plt\nimport pandas as pd\n\nimport metpy.calc as mpcalc\nfrom metpy.cbook import get_test_data\nfrom metpy.plots import add_metpy_logo, StationPlot\nfrom metpy.units import units"
      ]
    },
    {
      "cell_type": "markdown",
      "metadata": {},
      "source": [
        "## Read in the data and wrangle it\n\nFirst read in the data. We use pandas because it simplifies a lot of tasks, like dealing\nwith strings. We'll also convert any blank cells to NaNs, and then drop rows with NaNs\nin variables that we want to plot\n\n"
      ]
    },
    {
      "cell_type": "code",
      "execution_count": null,
      "metadata": {
        "collapsed": false
      },
      "outputs": [],
      "source": [
        "# Current observations can be downloaded here:\n# https://www.mesonet.org/index.php/weather/category/past_data_files\ndata = pd.read_csv(get_test_data('mesonet_sample.txt'), na_values=' ')\n\n# Drop stations with missing values of data we want\ndata = data.dropna(how='any', subset=['PRES', 'TAIR', 'TDEW', 'WDIR', 'WSPD'])"
      ]
    },
    {
      "cell_type": "markdown",
      "metadata": {},
      "source": [
        "The mesonet has so many stations that it would clutter the plot if we used them all.\nThe number of stations plotted will be reduced using `reduce_point_density`.\n\n"
      ]
    },
    {
      "cell_type": "code",
      "execution_count": null,
      "metadata": {
        "collapsed": false
      },
      "outputs": [],
      "source": [
        "# Reduce the density of observations so the plot is readable\nproj = ccrs.LambertConformal(central_longitude=-98)\npoint_locs = proj.transform_points(ccrs.PlateCarree(), data['LON'].values, data['LAT'].values)\ndata = data[mpcalc.reduce_point_density(point_locs, 50 * units.km)]"
      ]
    },
    {
      "cell_type": "markdown",
      "metadata": {},
      "source": [
        "Now that we have the data we want, we need to perform some conversions:\n\n- First, assign units to the data, as applicable\n- Convert cardinal wind direction to degrees\n- Get wind components from speed and direction\n\n"
      ]
    },
    {
      "cell_type": "code",
      "execution_count": null,
      "metadata": {
        "collapsed": false
      },
      "outputs": [],
      "source": [
        "# Read in the data and assign units as defined by the Mesonet\ntemperature = data['TAIR'].values * units.degF\ndewpoint = data['TDEW'].values * units.degF\npressure = data['PRES'].values * units.hPa\nwind_speed = data['WSPD'].values * units.mph\nwind_direction = data['WDIR']\nlatitude = data['LAT']\nlongitude = data['LON']\nstation_id = data['STID']\n\n# Take cardinal direction and convert to degrees, then convert to components\nwind_direction = mpcalc.parse_angle(list(wind_direction))\nu, v = mpcalc.wind_components(wind_speed.to('knots'), wind_direction)"
      ]
    },
    {
      "cell_type": "markdown",
      "metadata": {},
      "source": [
        "## Create the figure\n\n"
      ]
    },
    {
      "cell_type": "code",
      "execution_count": null,
      "metadata": {
        "collapsed": false
      },
      "outputs": [],
      "source": [
        "# Create the figure and an axes set to the projection.\nfig = plt.figure(figsize=(20, 8))\nadd_metpy_logo(fig, 70, 30, size='large')\nax = fig.add_subplot(1, 1, 1, projection=proj)\n\n# Add some various map elements to the plot to make it recognizable.\nax.add_feature(cfeature.LAND)\nax.add_feature(cfeature.STATES.with_scale('50m'))\n\n# Set plot bounds\nax.set_extent((-104, -93, 33.4, 37.2))\n\nstationplot = StationPlot(ax, longitude.values, latitude.values, clip_on=True,\n                          transform=ccrs.PlateCarree(), fontsize=12)\n\n# Plot the temperature and dew point to the upper and lower left, respectively, of\n# the center point. Each one uses a different color.\nstationplot.plot_parameter('NW', temperature, color='red')\nstationplot.plot_parameter('SW', dewpoint, color='darkgreen')\n\n# A more complex example uses a custom formatter to control how the sea-level pressure\n# values are plotted. This uses the standard trailing 3-digits of the pressure value\n# in tenths of millibars.\nstationplot.plot_parameter('NE', pressure.m, formatter=lambda v: format(10 * v, '.0f')[-3:])\n\n# Add wind barbs\nstationplot.plot_barb(u, v)\n\n# Also plot the actual text of the station id. Instead of cardinal directions,\n# plot further out by specifying a location of 2 increments in x and -1 in y.\nstationplot.plot_text((2, -1), station_id)\n\n# Add title and display figure\nplt.title('Oklahoma Mesonet Observations', fontsize=16, loc='left')\nplt.title('Time: 2100 UTC 09 September 2019', fontsize=16, loc='right')\nplt.show()"
      ]
    }
  ],
  "metadata": {
    "kernelspec": {
      "display_name": "Python 3",
      "language": "python",
      "name": "python3"
    },
    "language_info": {
      "codemirror_mode": {
        "name": "ipython",
        "version": 3
      },
      "file_extension": ".py",
      "mimetype": "text/x-python",
      "name": "python",
      "nbconvert_exporter": "python",
      "pygments_lexer": "ipython3",
      "version": "3.13.3"
    }
  },
  "nbformat": 4,
  "nbformat_minor": 0
}
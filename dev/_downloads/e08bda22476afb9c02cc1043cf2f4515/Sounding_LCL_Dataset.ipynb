{
  "cells": [
    {
      "cell_type": "markdown",
      "metadata": {},
      "source": [
        "\n# Sounding as Dataset Example\n\nUse MetPy to make a Skew-T LogP plot from an xarray Dataset after computing LCL parcel\nprofile.\n\nThis example makes a skewT diagram with specified special lines while storing the sounding\ndata as an xarray dataset.\n"
      ]
    },
    {
      "cell_type": "code",
      "execution_count": null,
      "metadata": {
        "collapsed": false
      },
      "outputs": [],
      "source": [
        "import matplotlib.pyplot as plt\nimport numpy as np\nimport pandas as pd\n\nimport metpy.calc as mpcalc\nfrom metpy.cbook import get_test_data\nfrom metpy.plots import add_metpy_logo, SkewT\nfrom metpy.units import units"
      ]
    },
    {
      "cell_type": "markdown",
      "metadata": {},
      "source": [
        "Upper air data can be obtained using the siphon package, but for this example we will use\nsome of MetPy's sample data.\n\n"
      ]
    },
    {
      "cell_type": "code",
      "execution_count": null,
      "metadata": {
        "collapsed": false
      },
      "outputs": [],
      "source": [
        "col_names = ['pressure', 'height', 'temperature', 'dewpoint', 'direction', 'speed']\n\ndf = pd.read_fwf(get_test_data('20110522_OUN_12Z.txt', as_file_obj=False),\n                 skiprows=7, usecols=[0, 1, 2, 3, 6, 7], names=col_names)\n\n# Drop any rows with all NaN values for T, Td, winds\ndf = df.dropna(subset=('temperature', 'dewpoint', 'direction', 'speed'),\n               how='all').reset_index(drop=True)"
      ]
    },
    {
      "cell_type": "markdown",
      "metadata": {},
      "source": [
        "We will pull the data out of the example dataset into individual variables and\nassign units.\n\n"
      ]
    },
    {
      "cell_type": "code",
      "execution_count": null,
      "metadata": {
        "collapsed": false
      },
      "outputs": [],
      "source": [
        "p = df['pressure'].values * units.hPa\nT = df['temperature'].values * units.degC\nTd = df['dewpoint'].values * units.degC\nwind_speed = df['speed'].values * units.knots\nwind_dir = df['direction'].values * units.degrees\nu, v = mpcalc.wind_components(wind_speed, wind_dir)\n\nds = mpcalc.parcel_profile_with_lcl_as_dataset(p, T, Td)\nprint(list(ds.variables))"
      ]
    },
    {
      "cell_type": "code",
      "execution_count": null,
      "metadata": {
        "collapsed": false
      },
      "outputs": [],
      "source": [
        "fig = plt.figure(figsize=(10, 8))\nskew = SkewT(fig, rotation=45)\n\n# Plot the data using the data from the xarray Dataset including the parcel temperature with\n# the LCL level included\nskew.plot(ds.isobaric, ds.ambient_temperature, 'r')\nskew.plot(ds.isobaric, ds.ambient_dew_point, 'g')\nskew.plot(ds.isobaric, ds.parcel_temperature.metpy.convert_units('degC'), 'black')\n\n# Plot the wind barbs from the original data\nskew.plot_barbs(p[::2], u[::2], v[::2])\n\n# Add the relevant special lines\npressure = np.arange(1000, 499, -50) * units('hPa')\nmixing_ratio = np.array([0.1, 0.2, 0.4, 0.6, 1, 1.5, 2, 3, 4,\n                        6, 8, 10, 13, 16, 20, 25, 30, 36, 42]).reshape(-1, 1) * units('g/kg')\n\nskew.plot_dry_adiabats(t0=np.arange(233, 533, 10) * units.K, alpha=0.25,\n                       colors='orangered', linewidths=1)\nskew.plot_moist_adiabats(t0=np.arange(233, 400, 5) * units.K, alpha=0.25,\n                         colors='tab:green', linewidths=1)\nskew.plot_mixing_lines(pressure=pressure, mixing_ratio=mixing_ratio, linestyles='dotted',\n                       colors='dodgerblue', linewidths=1)\nskew.ax.set_ylim(1000, 100)\n\n# Add the MetPy logo!\nadd_metpy_logo(fig, 350, 200)\n\n# Add some titles\nplt.title('KOUN', loc='left')\nplt.title('2011-05-22 12 UTC', loc='right')\n\nplt.show()"
      ]
    }
  ],
  "metadata": {
    "kernelspec": {
      "display_name": "Python 3",
      "language": "python",
      "name": "python3"
    },
    "language_info": {
      "codemirror_mode": {
        "name": "ipython",
        "version": 3
      },
      "file_extension": ".py",
      "mimetype": "text/x-python",
      "name": "python",
      "nbconvert_exporter": "python",
      "pygments_lexer": "ipython3",
      "version": "3.13.3"
    }
  },
  "nbformat": 4,
  "nbformat_minor": 0
}
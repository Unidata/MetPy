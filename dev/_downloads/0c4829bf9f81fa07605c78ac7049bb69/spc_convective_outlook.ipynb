{
  "cells": [
    {
      "cell_type": "markdown",
      "metadata": {},
      "source": [
        "\n# NOAA SPC Convective Outlook\n\nDemonstrate the use of geoJSON and shapefile data with PlotGeometry in MetPy's simplified\nplotting interface. This example walks through plotting the Day 1 Convective Outlook from NOAA\nStorm Prediction Center. The geoJSON file was retrieved from the [Storm Prediction Center's\narchives](https://www.spc.noaa.gov/archive/).\n"
      ]
    },
    {
      "cell_type": "code",
      "execution_count": null,
      "metadata": {
        "collapsed": false
      },
      "outputs": [],
      "source": [
        "import geopandas\n\nfrom metpy.cbook import get_test_data\nfrom metpy.plots import MapPanel, PanelContainer, PlotGeometry"
      ]
    },
    {
      "cell_type": "markdown",
      "metadata": {},
      "source": [
        "Read in the geoJSON file containing the convective outlook.\n\n"
      ]
    },
    {
      "cell_type": "code",
      "execution_count": null,
      "metadata": {
        "collapsed": false
      },
      "outputs": [],
      "source": [
        "day1_outlook = geopandas.read_file(get_test_data('spc_day1otlk_20210317_1200_lyr.geojson'))"
      ]
    },
    {
      "cell_type": "markdown",
      "metadata": {},
      "source": [
        "Preview the data.\n\n"
      ]
    },
    {
      "cell_type": "code",
      "execution_count": null,
      "metadata": {
        "collapsed": false
      },
      "outputs": [],
      "source": [
        "day1_outlook"
      ]
    },
    {
      "cell_type": "markdown",
      "metadata": {},
      "source": [
        "Plot the shapes from the 'geometry' column. Give the shapes their fill and stroke color by\nproviding the 'fill' and 'stroke' columns. Use text from the 'LABEL' column as labels for the\nshapes.\n\n"
      ]
    },
    {
      "cell_type": "code",
      "execution_count": null,
      "metadata": {
        "collapsed": false
      },
      "outputs": [],
      "source": [
        "geo = PlotGeometry()\ngeo.geometry = day1_outlook['geometry']\ngeo.fill = day1_outlook['fill']\ngeo.stroke = day1_outlook['stroke']\ngeo.labels = day1_outlook['LABEL']\ngeo.label_fontsize = 'large'"
      ]
    },
    {
      "cell_type": "markdown",
      "metadata": {},
      "source": [
        "Add the geometry plot to a panel and container.\n\n"
      ]
    },
    {
      "cell_type": "code",
      "execution_count": null,
      "metadata": {
        "collapsed": false
      },
      "outputs": [],
      "source": [
        "panel = MapPanel()\npanel.title = 'SPC Day 1 Convective Outlook (Valid 12z Mar 17 2021)'\npanel.plots = [geo]\npanel.area = [-120, -75, 25, 50]\npanel.projection = 'lcc'\npanel.layers = ['lakes', 'land', 'ocean', 'states', 'coastline', 'borders']\n\npc = PanelContainer()\npc.size = (12, 8)\npc.panels = [panel]\npc.show()"
      ]
    }
  ],
  "metadata": {
    "kernelspec": {
      "display_name": "Python 3",
      "language": "python",
      "name": "python3"
    },
    "language_info": {
      "codemirror_mode": {
        "name": "ipython",
        "version": 3
      },
      "file_extension": ".py",
      "mimetype": "text/x-python",
      "name": "python",
      "nbconvert_exporter": "python",
      "pygments_lexer": "ipython3",
      "version": "3.13.3"
    }
  },
  "nbformat": 4,
  "nbformat_minor": 0
}
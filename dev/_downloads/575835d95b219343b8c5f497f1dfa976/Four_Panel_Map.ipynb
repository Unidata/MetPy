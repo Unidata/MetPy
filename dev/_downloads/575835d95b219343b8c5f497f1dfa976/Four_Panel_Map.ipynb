{
  "cells": [
    {
      "cell_type": "markdown",
      "metadata": {},
      "source": [
        "\n# Four Panel Map\n\nBy reading model output data from a netCDF file, we can create a four panel plot showing:\n\n* 300 hPa heights and winds\n* 500 hPa heights and absolute vorticity\n* Surface temperatures\n* Precipitable water\n"
      ]
    },
    {
      "cell_type": "code",
      "execution_count": null,
      "metadata": {
        "collapsed": false
      },
      "outputs": [],
      "source": [
        "import cartopy.crs as ccrs\nimport cartopy.feature as cfeature\nimport matplotlib.pyplot as plt\nimport numpy as np\nimport scipy.ndimage as ndimage\nimport xarray as xr\n\nfrom metpy.cbook import get_test_data\nfrom metpy.plots import add_metpy_logo"
      ]
    },
    {
      "cell_type": "code",
      "execution_count": null,
      "metadata": {
        "collapsed": false
      },
      "outputs": [],
      "source": [
        "crs = ccrs.LambertConformal(central_longitude=-100.0, central_latitude=45.0)"
      ]
    },
    {
      "cell_type": "code",
      "execution_count": null,
      "metadata": {
        "collapsed": false
      },
      "outputs": [],
      "source": [
        "# Function used to create the map subplots\ndef plot_background(ax):\n    ax.set_extent([235., 290., 20., 55.])\n    ax.add_feature(cfeature.COASTLINE.with_scale('50m'), linewidth=0.5)\n    ax.add_feature(cfeature.STATES, linewidth=0.5)\n    ax.add_feature(cfeature.BORDERS, linewidth=0.5)\n    return ax"
      ]
    },
    {
      "cell_type": "code",
      "execution_count": null,
      "metadata": {
        "collapsed": false
      },
      "outputs": [],
      "source": [
        "# Open the example netCDF data\nds = xr.open_dataset(get_test_data('gfs_output.nc', False))\nprint(ds)"
      ]
    },
    {
      "cell_type": "code",
      "execution_count": null,
      "metadata": {
        "collapsed": false
      },
      "outputs": [],
      "source": [
        "# Combine 1D latitude and longitudes into a 2D grid of locations\nlon_2d, lat_2d = np.meshgrid(ds['lon'], ds['lat'])"
      ]
    },
    {
      "cell_type": "code",
      "execution_count": null,
      "metadata": {
        "collapsed": false
      },
      "outputs": [],
      "source": [
        "# Pull out the data\nvort_500 = ds['vort_500'][0]\nsurface_temp = ds['temp'][0]\nprecip_water = ds['precip_water'][0]\nwinds_300 = ds['winds_300'][0]"
      ]
    },
    {
      "cell_type": "code",
      "execution_count": null,
      "metadata": {
        "collapsed": false
      },
      "outputs": [],
      "source": [
        "# Do unit conversions to what we wish to plot\nvort_500 = vort_500 * 1e5\nsurface_temp = surface_temp.metpy.convert_units('degF')\nprecip_water = precip_water.metpy.convert_units('inches')\nwinds_300 = winds_300.metpy.convert_units('knots')"
      ]
    },
    {
      "cell_type": "code",
      "execution_count": null,
      "metadata": {
        "collapsed": false
      },
      "outputs": [],
      "source": [
        "# Smooth the height data\nheights_300 = ndimage.gaussian_filter(ds['heights_300'][0], sigma=1.5, order=0)\nheights_500 = ndimage.gaussian_filter(ds['heights_500'][0], sigma=1.5, order=0)"
      ]
    },
    {
      "cell_type": "code",
      "execution_count": null,
      "metadata": {
        "collapsed": false
      },
      "outputs": [],
      "source": [
        "# Create the figure and plot background on different axes\nfig, axarr = plt.subplots(nrows=2, ncols=2, figsize=(20, 13), constrained_layout=True,\n                          subplot_kw={'projection': crs})\nadd_metpy_logo(fig, 140, 120, size='large')\naxlist = axarr.flatten()\nfor ax in axlist:\n    plot_background(ax)\n\n# Upper left plot - 300-hPa winds and geopotential heights\ncf1 = axlist[0].contourf(lon_2d, lat_2d, winds_300, cmap='cool', transform=ccrs.PlateCarree())\nc1 = axlist[0].contour(lon_2d, lat_2d, heights_300, colors='black', linewidths=2,\n                       transform=ccrs.PlateCarree())\naxlist[0].clabel(c1, fontsize=10, inline=1, inline_spacing=1, fmt='%i', rightside_up=True)\naxlist[0].set_title('300-hPa Wind Speeds and Heights', fontsize=16)\ncb1 = fig.colorbar(cf1, ax=axlist[0], orientation='horizontal', shrink=0.74, pad=0)\ncb1.set_label('knots', size='x-large')\n\n# Upper right plot - 500mb absolute vorticity and geopotential heights\ncf2 = axlist[1].contourf(lon_2d, lat_2d, vort_500, cmap='BrBG', transform=ccrs.PlateCarree(),\n                         zorder=0, norm=plt.Normalize(-32, 32))\nc2 = axlist[1].contour(lon_2d, lat_2d, heights_500, colors='k', linewidths=2,\n                       transform=ccrs.PlateCarree())\naxlist[1].clabel(c2, fontsize=10, inline=1, inline_spacing=1, fmt='%i', rightside_up=True)\naxlist[1].set_title('500-hPa Absolute Vorticity and Heights', fontsize=16)\ncb2 = fig.colorbar(cf2, ax=axlist[1], orientation='horizontal', shrink=0.74, pad=0)\ncb2.set_label(r'$10^{-5}$ s$^{-1}$', size='x-large')\n\n# Lower left plot - surface temperatures\ncf3 = axlist[2].contourf(lon_2d, lat_2d, surface_temp, cmap='YlOrRd',\n                         transform=ccrs.PlateCarree(), zorder=0)\naxlist[2].set_title('Surface Temperatures', fontsize=16)\ncb3 = fig.colorbar(cf3, ax=axlist[2], orientation='horizontal', shrink=0.74, pad=0)\ncb3.set_label('\\N{DEGREE FAHRENHEIT}', size='x-large')\n\n# Lower right plot - precipitable water entire atmosphere\ncf4 = axlist[3].contourf(lon_2d, lat_2d, precip_water, cmap='Greens',\n                         transform=ccrs.PlateCarree(), zorder=0)\naxlist[3].set_title('Precipitable Water', fontsize=16)\ncb4 = fig.colorbar(cf4, ax=axlist[3], orientation='horizontal', shrink=0.74, pad=0)\ncb4.set_label('in.', size='x-large')\n\n# Set height padding for plots\nfig.set_constrained_layout_pads(w_pad=0., h_pad=0.1, hspace=0., wspace=0.)\n\n# Set figure title\nfig.suptitle(ds['time'][0].dt.strftime('%d %B %Y %H:%MZ').values, fontsize=24)\n\n# Display the plot\nplt.show()"
      ]
    }
  ],
  "metadata": {
    "kernelspec": {
      "display_name": "Python 3",
      "language": "python",
      "name": "python3"
    },
    "language_info": {
      "codemirror_mode": {
        "name": "ipython",
        "version": 3
      },
      "file_extension": ".py",
      "mimetype": "text/x-python",
      "name": "python",
      "nbconvert_exporter": "python",
      "pygments_lexer": "ipython3",
      "version": "3.13.3"
    }
  },
  "nbformat": 4,
  "nbformat_minor": 0
}
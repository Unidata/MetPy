{
  "cells": [
    {
      "cell_type": "markdown",
      "metadata": {},
      "source": [
        "\n# Remote Data Access\n\nUse MetPy to access data hosted in known AWS S3 buckets\n"
      ]
    },
    {
      "cell_type": "code",
      "execution_count": null,
      "metadata": {
        "collapsed": false
      },
      "outputs": [],
      "source": [
        "from datetime import datetime, timedelta\n\nfrom metpy.remote import GOESArchive, NEXRADLevel2Archive, NEXRADLevel3Archive\n\n###################\n# NEXRAD Level 2\n\n# Get the nearest product to a time\nprod = NEXRADLevel2Archive().get_product('KTLX', datetime(2013, 5, 22, 21, 53))\n\n# Open using MetPy's Level2File class\nl2 = prod.access()\n\n###################\n# NEXRAD Level 3\nstart = datetime(2022, 10, 30, 15)\nend = start + timedelta(hours=2)\nproducts = NEXRADLevel3Archive().get_range('FTG', 'N0B', start, end)\n\n# Get all the file names--could also get a file-like object or open with MetPy Level3File\nprint([prod.name for prod in products])\n\n################\n# GOES Archives\nprod = GOESArchive(19).get_product('ABI-L1b-RadC', band=2)\n\n# Retrieve using xarray + netcdf-c's S3 support\nnc = prod.access()"
      ]
    }
  ],
  "metadata": {
    "kernelspec": {
      "display_name": "Python 3",
      "language": "python",
      "name": "python3"
    },
    "language_info": {
      "codemirror_mode": {
        "name": "ipython",
        "version": 3
      },
      "file_extension": ".py",
      "mimetype": "text/x-python",
      "name": "python",
      "nbconvert_exporter": "python",
      "pygments_lexer": "ipython3",
      "version": "3.13.3"
    }
  },
  "nbformat": 4,
  "nbformat_minor": 0
}
{
  "cells": [
    {
      "cell_type": "markdown",
      "metadata": {},
      "source": [
        "\n# Q-Vector\n\nUse `metpy.calc.q_vector`.\n\nThis example demonstrates the q_vector calculation by computing them from the example xarray\nDataset and plotting using Matplotlib.\n"
      ]
    },
    {
      "cell_type": "code",
      "execution_count": null,
      "metadata": {
        "collapsed": false
      },
      "outputs": [],
      "source": [
        "import matplotlib.pyplot as plt\n\nimport metpy.calc as mpcalc\nfrom metpy.cbook import example_data\nfrom metpy.units import units\n\n# load example data\nds = example_data()\n\n# Calculate the temperature advection of the flow\ntadv = mpcalc.advection(ds.temperature, ds.uwind, ds.vwind)\n\n# Calculate the q-vectors. Passing in a fixed value of static stability, but could also\n# use `mpcalc.static_stability()`.\nu_qvect, v_qvect = mpcalc.q_vector(ds.uwind, ds.vwind, ds.temperature, 850 * units.hPa,\n                                   static_stability=0.02 * units('J / kg / Pa^2'))\n\n# start figure and set axis\nfig, ax = plt.subplots(figsize=(5, 5))\n\n# plot isotherms\ncs = ax.contour(ds.lon, ds.lat, ds.temperature, range(4, 26, 2), colors='tab:red',\n                linestyles='dashed', linewidths=3)\nplt.clabel(cs, fmt='%d', fontsize=16)\n\n# plot temperature advection in Kelvin per 3 hours\ncf = ax.contourf(ds.lon, ds.lat, tadv.metpy.convert_units('kelvin/hour') * 3, range(-6, 7, 1),\n                 cmap=plt.cm.bwr, alpha=0.75)\nplt.colorbar(cf, pad=0, aspect=50)\n\n# plot Q-vectors as arrows, every other arrow\nqvec = ax.quiver(ds.lon.values[::2], ds.lat.values[::2],\n                 u_qvect[::2, ::2] * 1e13, v_qvect[::2, ::2] * 1e13,\n                 color='black', scale=1000, alpha=0.5, width=0.01)\n\nqk = ax.quiverkey(qvec, 0.8, 0.9, 200, r'$200 m^2/kg/s$', labelpos='E',\n                  coordinates='figure')\n\nax.set(xlim=(260, 270), ylim=(30, 40))\nax.set_title('Q-Vector Calculation')\n\nplt.show()"
      ]
    }
  ],
  "metadata": {
    "kernelspec": {
      "display_name": "Python 3",
      "language": "python",
      "name": "python3"
    },
    "language_info": {
      "codemirror_mode": {
        "name": "ipython",
        "version": 3
      },
      "file_extension": ".py",
      "mimetype": "text/x-python",
      "name": "python",
      "nbconvert_exporter": "python",
      "pygments_lexer": "ipython3",
      "version": "3.13.3"
    }
  },
  "nbformat": 4,
  "nbformat_minor": 0
}